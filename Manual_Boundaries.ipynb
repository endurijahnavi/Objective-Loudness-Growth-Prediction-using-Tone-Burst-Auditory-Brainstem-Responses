{
 "cells": [
  {
   "cell_type": "code",
   "execution_count": 1,
   "id": "f447350a",
   "metadata": {},
   "outputs": [
    {
     "data": {
      "text/plain": [
       "'C:\\\\Users\\\\vinee\\\\Documents\\\\BTP'"
      ]
     },
     "execution_count": 1,
     "metadata": {},
     "output_type": "execute_result"
    }
   ],
   "source": [
    "pwd"
   ]
  },
  {
   "cell_type": "code",
   "execution_count": 3,
   "id": "0b0e2827",
   "metadata": {},
   "outputs": [],
   "source": [
    "import pandas as pd\n",
    "import numpy as np\n",
    "import pywt\n",
    "import matplotlib.pyplot as plt"
   ]
  },
  {
   "cell_type": "code",
   "execution_count": 4,
   "id": "5b138bd7",
   "metadata": {},
   "outputs": [],
   "source": [
    "import os\n",
    "import glob\n",
    "import re"
   ]
  },
  {
   "cell_type": "code",
   "execution_count": 5,
   "id": "8745f224",
   "metadata": {},
   "outputs": [],
   "source": [
    "os.chdir('resampled_dataset_f1_n1')"
   ]
  },
  {
   "cell_type": "code",
   "execution_count": 6,
   "id": "19a8e2b1",
   "metadata": {},
   "outputs": [],
   "source": [
    "os.chdir('resampled_dataset')"
   ]
  },
  {
   "cell_type": "code",
   "execution_count": 7,
   "id": "c6cfbb06",
   "metadata": {},
   "outputs": [],
   "source": [
    "my_files = glob.glob('*txt')"
   ]
  },
  {
   "cell_type": "code",
   "execution_count": 8,
   "id": "adcf833c",
   "metadata": {},
   "outputs": [
    {
     "data": {
      "text/plain": [
       "131000"
      ]
     },
     "execution_count": 8,
     "metadata": {},
     "output_type": "execute_result"
    }
   ],
   "source": [
    "len(my_files)"
   ]
  },
  {
   "cell_type": "code",
   "execution_count": 9,
   "id": "904d4368",
   "metadata": {},
   "outputs": [],
   "source": [
    "import numpy as np\n",
    "#%EWT functions\n",
    "def ewt_vineet(f,boundaries):\n",
    "    # signal spectrum\n",
    "    ff = np.fft.fft(f)\n",
    "    ff = abs(ff[0:int(np.ceil(ff.size / 2))])  # one-sided magnitude\n",
    "\n",
    "    #extend the signal by mirroring to deal with boundaries\n",
    "    ltemp = int(np.ceil(f.size/2)) #to behave the same as matlab's round\n",
    "    fMirr =  np.append(np.flip(f[0:ltemp-1],axis = 0),f)\n",
    "    fMirr = np.append(fMirr,np.flip(f[-ltemp-1:-1],axis = 0))\n",
    "    ffMirr = np.fft.fft(fMirr)\n",
    "    # build the corresponding filter bank\n",
    "    mfb = EWT_Meyer_FilterBank(boundaries, ffMirr.size)\n",
    "\n",
    "    # filter the signal to extract each subband\n",
    "    ewt = np.zeros(mfb.shape)\n",
    "    for k in range(mfb.shape[1]):\n",
    "        ewt[:, k] = np.real(np.fft.ifft(np.conjugate(mfb[:, k]) * ffMirr))\n",
    "    ewt = ewt[ltemp - 1:-ltemp, :]\n",
    "\n",
    "    return ewt\n",
    "\n",
    "\n",
    "def EWT_Meyer_FilterBank(boundaries, Nsig):\n",
    "    \"\"\"\n",
    "     =========================================================================\n",
    "     function mfb=EWT_Meyer_FilterBank(boundaries,Nsig)\n",
    "\n",
    "     This function generate the filter bank (scaling function + wavelets)\n",
    "     corresponding to the provided set of frequency segments\n",
    "\n",
    "     Input parameters:\n",
    "       -boundaries: vector containing the boundaries of frequency segments (0\n",
    "                    and pi must NOT be in this vector)\n",
    "       -Nsig: signal length\n",
    "\n",
    "     Output:\n",
    "       -mfb: cell containing each filter (in the Fourier domain), the scaling\n",
    "             function comes first and then the successive wavelets\n",
    "\n",
    "     Author: Jerome Gilles\n",
    "     Institution: UCLA - Department of Mathematics\n",
    "     Year: 2012\n",
    "     Version: 1.0\n",
    "\n",
    "     Python Version: Vinícius Rezende Carvalho - vrcarva@ufmg.br\n",
    "     Universidade Federal de Minas Gerais - Brasil\n",
    "     Núcleo de Neurociências\n",
    "     =========================================================================\n",
    "     \"\"\"\n",
    "    Npic = len(boundaries)\n",
    "    # compute gamma\n",
    "    gamma = 1\n",
    "    for k in range(Npic - 1):\n",
    "        r = (boundaries[k + 1] - boundaries[k]) / (boundaries[k + 1] + boundaries[k])\n",
    "        if r < gamma:\n",
    "            gamma = r\n",
    "    r = (np.pi - boundaries[Npic - 1]) / (np.pi + boundaries[Npic - 1])\n",
    "    if r < gamma:\n",
    "        gamma = r\n",
    "    gamma = (1 - 1 / Nsig) * gamma  # this ensure that gamma is chosen as strictly less than the min\n",
    "\n",
    "    mfb = np.zeros([Nsig, Npic + 1])\n",
    "\n",
    "    # EWT_Meyer_Scaling\n",
    "    Mi = int(np.floor(Nsig / 2))\n",
    "    w = np.fft.fftshift(np.linspace(0, 2 * np.pi - 2 * np.pi / Nsig, num=Nsig))\n",
    "    w[0:Mi] = -2 * np.pi + w[0:Mi]\n",
    "    aw = abs(w)\n",
    "    yms = np.zeros(Nsig)\n",
    "    an = 1. / (2 * gamma * boundaries[0])\n",
    "    pbn = (1. + gamma) * boundaries[0]\n",
    "    mbn = (1. - gamma) * boundaries[0]\n",
    "    for k in range(Nsig):\n",
    "        if aw[k] <= mbn:\n",
    "            yms[k] = 1\n",
    "        elif ((aw[k] >= mbn) and (aw[k] <= pbn)):\n",
    "            yms[k] = np.cos(np.pi * EWT_beta(an * (aw[k] - mbn)) / 2)\n",
    "    yms = np.fft.ifftshift(yms)\n",
    "    mfb[:, 0] = yms\n",
    "\n",
    "    # generate rest of the wavelets\n",
    "    for k in range(Npic - 1):\n",
    "        mfb[:, k + 1] = EWT_Meyer_Wavelet(boundaries[k], boundaries[k + 1], gamma, Nsig)\n",
    "\n",
    "    mfb[:, Npic] = EWT_Meyer_Wavelet(boundaries[Npic - 1], np.pi, gamma, Nsig)\n",
    "\n",
    "    return mfb\n",
    "def EWT_beta(x):\n",
    "    \"\"\"\n",
    "    Beta = EWT_beta(x)\n",
    "    function used in the construction of Meyer's wavelet\n",
    "    \"\"\"\n",
    "    if x<0:\n",
    "        bm=0\n",
    "    elif x>1:\n",
    "        bm=1\n",
    "    else:\n",
    "        bm=(x**4)*(35.-84.*x+70.*(x**2)-20.*(x**3))\n",
    "    return bm\n",
    "def EWT_Meyer_Wavelet(wn,wm,gamma,Nsig):\n",
    "    \"\"\"\n",
    "    =========================================================\n",
    "    ymw=EWT_Meyer_Wavelet(wn,wm,gamma,N)\n",
    "    \n",
    "    Generate the 1D Meyer wavelet in the Fourier\n",
    "    domain associated to scale segment [wn,wm] \n",
    "    with transition ratio gamma\n",
    "    \n",
    "    Input parameters:\n",
    "      -wn : lower boundary\n",
    "      -wm : upper boundary\n",
    "      -gamma : transition ratio\n",
    "      -N : number of point in the vector\n",
    "    \n",
    "    Output:\n",
    "      -ymw: Fourier transform of the wavelet on the band [wn,wm]\n",
    "    Author: Jerome Gilles\n",
    "    Institution: UCLA - Department of Mathematics\n",
    "    Year: 2012\n",
    "    Version: 1.0\n",
    "    \n",
    "    Python Version: Vinícius Rezende Carvalho - vrcarva@ufmg.br\n",
    "    Universidade Federal de Minas Gerais - Brasil\n",
    "    Núcleo de Neurociências \n",
    "    ==========================================================            \n",
    "    \"\"\"\n",
    "    Mi=int(np.floor(Nsig/2))\n",
    "    w=np.fft.fftshift(np.linspace(0,2*np.pi - 2*np.pi/Nsig,num = Nsig))\n",
    "    w[0:Mi]=-2*np.pi+w[0:Mi]\n",
    "    aw=abs(w)\n",
    "    ymw=np.zeros(Nsig)\n",
    "    an=1./(2*gamma*wn)\n",
    "    am=1./(2*gamma*wm)\n",
    "    pbn=(1.+gamma)*wn\n",
    "    mbn=(1.-gamma)*wn\n",
    "    pbm=(1.+gamma)*wm\n",
    "    mbm=(1.-gamma)*wm\n",
    "\n",
    "    for k in range(Nsig):\n",
    "        if ((aw[k]>=pbn) and (aw[k]<=mbm)):\n",
    "            ymw[k]=1\n",
    "        elif ((aw[k]>=mbm) and (aw[k]<=pbm)):\n",
    "            ymw[k]=np.cos(np.pi*EWT_beta(am*(aw[k]-mbm))/2)\n",
    "        elif ((aw[k]>=mbn) and (aw[k]<=pbn)):\n",
    "            ymw[k]=np.sin(np.pi*EWT_beta(an*(aw[k]-mbn))/2)\n",
    "    ymw=np.fft.ifftshift(ymw)\n",
    "    return ymw"
   ]
  },
  {
   "cell_type": "code",
   "execution_count": 13,
   "id": "faa2c506",
   "metadata": {},
   "outputs": [],
   "source": [
    "boundaries = np.array([0.2,0.4,0.6,0.8,1,1.2,1.4,1.6,1.8])"
   ]
  },
  {
   "cell_type": "code",
   "execution_count": 15,
   "id": "f29d4df7",
   "metadata": {},
   "outputs": [
    {
     "data": {
      "text/plain": [
       "9"
      ]
     },
     "execution_count": 15,
     "metadata": {},
     "output_type": "execute_result"
    }
   ],
   "source": [
    "len(boundaries)"
   ]
  },
  {
   "cell_type": "code",
   "execution_count": 29,
   "id": "1d412c98",
   "metadata": {},
   "outputs": [],
   "source": [
    "ewt_output = np.zeros(shape = (126,10,len(my_files)))"
   ]
  },
  {
   "cell_type": "code",
   "execution_count": 30,
   "id": "9f5503c5",
   "metadata": {},
   "outputs": [
    {
     "data": {
      "text/plain": [
       "(126, 10, 131000)"
      ]
     },
     "execution_count": 30,
     "metadata": {},
     "output_type": "execute_result"
    }
   ],
   "source": [
    "ewt_output.shape"
   ]
  },
  {
   "cell_type": "code",
   "execution_count": 31,
   "id": "479179a2",
   "metadata": {},
   "outputs": [],
   "source": [
    "for i in range(len(my_files)):\n",
    "    file = np.loadtxt(my_files[i])\n",
    "    ewt_output[:,:,i] = ewt_vineet(file,boundaries)"
   ]
  },
  {
   "cell_type": "code",
   "execution_count": 32,
   "id": "c24560f5",
   "metadata": {},
   "outputs": [],
   "source": [
    "np.save('x_n1_my',ewt_output)"
   ]
  },
  {
   "cell_type": "code",
   "execution_count": 33,
   "id": "143393c1",
   "metadata": {},
   "outputs": [],
   "source": [
    "y = np.zeros(len(my_files))"
   ]
  },
  {
   "cell_type": "code",
   "execution_count": 51,
   "id": "a80734bf",
   "metadata": {},
   "outputs": [],
   "source": [
    "loudness_data_n1 = np.array([-0.669534,-0.546282,-0.546282,-0.671033,-0.683743,-0.147340,0.084086,0.203489,0.461973,0.421456,0.525431,0.691075,0.733513,0.761766,1.076224,1.245589,1.340460,1.642738,1.773085])"
   ]
  },
  {
   "cell_type": "code",
   "execution_count": 35,
   "id": "49d39f60",
   "metadata": {},
   "outputs": [],
   "source": [
    "for i in range(len(my_files)):\n",
    "    test_string = my_files[i]\n",
    "    temp = re.findall(r'\\d+', test_string)\n",
    "    res = list(map(int, temp))\n",
    "    loudness_level = int(res[-1])\n",
    "    index = int((loudness_level/5)-2)\n",
    "    y[i] =  loudness_data_n1[index]"
   ]
  },
  {
   "cell_type": "code",
   "execution_count": 36,
   "id": "c0683ed2",
   "metadata": {},
   "outputs": [],
   "source": [
    "np.save('y_n1_my',y)"
   ]
  },
  {
   "cell_type": "code",
   "execution_count": 37,
   "id": "aea29f23",
   "metadata": {},
   "outputs": [
    {
     "data": {
      "text/plain": [
       "'C:\\\\Users\\\\vinee\\\\Documents\\\\BTP\\\\resampled_dataset_f1_n1\\\\resampled_dataset'"
      ]
     },
     "execution_count": 37,
     "metadata": {},
     "output_type": "execute_result"
    }
   ],
   "source": [
    "pwd"
   ]
  },
  {
   "cell_type": "code",
   "execution_count": 40,
   "id": "b2b82626",
   "metadata": {},
   "outputs": [
    {
     "data": {
      "text/plain": [
       "'\\nCWT computation for 10 milliseconds data\\n\\nmorlet wavelet analysis\\n'"
      ]
     },
     "execution_count": 40,
     "metadata": {},
     "output_type": "execute_result"
    }
   ],
   "source": [
    "\"\"\"\n",
    "CWT computation for 10 milliseconds data\n",
    "\n",
    "morlet wavelet analysis\n",
    "\"\"\"\n"
   ]
  },
  {
   "cell_type": "code",
   "execution_count": 41,
   "id": "0b21838d",
   "metadata": {},
   "outputs": [
    {
     "data": {
      "text/plain": [
       "'C:\\\\Users\\\\vinee\\\\Documents\\\\BTP\\\\resampled_dataset_f1_n1\\\\resampled_dataset'"
      ]
     },
     "execution_count": 41,
     "metadata": {},
     "output_type": "execute_result"
    }
   ],
   "source": [
    "pwd"
   ]
  },
  {
   "cell_type": "code",
   "execution_count": 42,
   "id": "a3dad119",
   "metadata": {},
   "outputs": [
    {
     "name": "stdout",
     "output_type": "stream",
     "text": [
      "C:\\Users\\vinee\\Documents\\BTP\\resampled_dataset_f1_n1\n"
     ]
    }
   ],
   "source": [
    "cd .."
   ]
  },
  {
   "cell_type": "code",
   "execution_count": 43,
   "id": "de769fc0",
   "metadata": {},
   "outputs": [
    {
     "name": "stdout",
     "output_type": "stream",
     "text": [
      "C:\\Users\\vinee\\Documents\\BTP\n"
     ]
    }
   ],
   "source": [
    "cd .."
   ]
  },
  {
   "cell_type": "code",
   "execution_count": 45,
   "id": "aaa4d888",
   "metadata": {},
   "outputs": [],
   "source": [
    "os.chdir('Dataset_3KHz_10s_n1/')"
   ]
  },
  {
   "cell_type": "code",
   "execution_count": 49,
   "id": "18cfb5a9",
   "metadata": {},
   "outputs": [],
   "source": [
    "my_files = glob.glob('*txt')"
   ]
  },
  {
   "cell_type": "code",
   "execution_count": 50,
   "id": "d88fdde5",
   "metadata": {},
   "outputs": [
    {
     "data": {
      "text/plain": [
       "131000"
      ]
     },
     "execution_count": 50,
     "metadata": {},
     "output_type": "execute_result"
    }
   ],
   "source": [
    "len(my_files)"
   ]
  },
  {
   "cell_type": "code",
   "execution_count": 52,
   "id": "4ed78b0b",
   "metadata": {},
   "outputs": [],
   "source": [
    "loudness_data_n1 = np.array([-0.669534,-0.546282,-0.546282,-0.671033,-0.683743,-0.147340,0.084086,0.203489,0.461973,0.421456,0.525431,0.691075,0.733513,0.761766,1.076224,1.245589,1.340460,1.642738,1.773085])"
   ]
  },
  {
   "cell_type": "code",
   "execution_count": 53,
   "id": "2928af86",
   "metadata": {},
   "outputs": [],
   "source": [
    "res = np.zeros((len(my_files),10,30))"
   ]
  },
  {
   "cell_type": "code",
   "execution_count": 60,
   "id": "c023da19",
   "metadata": {},
   "outputs": [],
   "source": [
    "for i in range(len(my_files)):\n",
    "    file = np.loadtxt(my_files[i])\n",
    "    cwtmatr, freqs = pywt.cwt(file, np.arange(1,11), 'morl')\n",
    "    res[i,:,:] = cwtmatr"
   ]
  },
  {
   "cell_type": "code",
   "execution_count": 54,
   "id": "fdee97ab",
   "metadata": {},
   "outputs": [],
   "source": [
    "cwtmatr, freqs = pywt.cwt(np.loadtxt(my_files[0]), np.arange(1,11), 'morl')"
   ]
  },
  {
   "cell_type": "code",
   "execution_count": 55,
   "id": "274e4895",
   "metadata": {},
   "outputs": [
    {
     "data": {
      "text/plain": [
       "<matplotlib.image.AxesImage at 0x1eea98f9ee0>"
      ]
     },
     "execution_count": 55,
     "metadata": {},
     "output_type": "execute_result"
    },
    {
     "data": {
      "image/png": "[encoded data removed]",
      "text/plain": [
       "<Figure size 432x288 with 1 Axes>"
      ]
     },
     "metadata": {
      "needs_background": "light"
     },
     "output_type": "display_data"
    }
   ],
   "source": [
    "plt.imshow(cwtmatr, extent=[-1, 1, 1, 11], cmap='PRGn', aspect='auto',\n",
    "...            vmax=abs(cwtmatr).max(), vmin=-abs(cwtmatr).max())"
   ]
  },
  {
   "cell_type": "code",
   "execution_count": 59,
   "id": "27a3f5db",
   "metadata": {},
   "outputs": [
    {
     "data": {
      "text/plain": [
       "30"
      ]
     },
     "execution_count": 59,
     "metadata": {},
     "output_type": "execute_result"
    }
   ],
   "source": [
    "len(np.loadtxt(my_files[0]))"
   ]
  },
  {
   "cell_type": "code",
   "execution_count": 63,
   "id": "acb75a63",
   "metadata": {},
   "outputs": [
    {
     "data": {
      "text/plain": [
       "(131000, 10, 30)"
      ]
     },
     "execution_count": 63,
     "metadata": {},
     "output_type": "execute_result"
    }
   ],
   "source": [
    "res.shape"
   ]
  },
  {
   "cell_type": "code",
   "execution_count": 65,
   "id": "be3e1359",
   "metadata": {},
   "outputs": [],
   "source": [
    "np.save('C:/Users/vinee/Documents/BTP/x_n1_10ms_cwt',res)"
   ]
  },
  {
   "cell_type": "code",
   "execution_count": 66,
   "id": "c6113955",
   "metadata": {},
   "outputs": [],
   "source": [
    "y = np.zeros(len(my_files))\n",
    "for i in range(len(my_files)):\n",
    "    test_string = my_files[i]\n",
    "    temp = re.findall(r'\\d+', test_string)\n",
    "    lis = list(map(int, temp))\n",
    "    loudness_level = int(lis[-1])\n",
    "    index = int((loudness_level/5)-2)\n",
    "    y[i] =  loudness_data_n1[index]\n",
    "np.save('C:/Users/vinee/Documents/BTP/y_n1_10ms_cwt',y)"
   ]
  },
  {
   "cell_type": "code",
   "execution_count": null,
   "id": "5a56e1c8",
   "metadata": {},
   "outputs": [],
   "source": []
  }
 ],
 "metadata": {
  "kernelspec": {
   "display_name": "Python 3",
   "language": "python",
   "name": "python3"
  },
  "language_info": {
   "codemirror_mode": {
    "name": "ipython",
    "version": 3
   },
   "file_extension": ".py",
   "mimetype": "text/x-python",
   "name": "python",
   "nbconvert_exporter": "python",
   "pygments_lexer": "ipython3",
   "version": "3.8.8"
  }
 },
 "nbformat": 4,
 "nbformat_minor": 5
}
