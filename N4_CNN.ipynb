{
 "cells": [
  {
   "cell_type": "code",
   "execution_count": 2,
   "id": "8e57a7dc",
   "metadata": {},
   "outputs": [
    {
     "data": {
      "text/plain": [
       "'\\nGenerating ewt data for different cycles for all levels\\n\\nN4 F1\\n\\n'"
      ]
     },
     "execution_count": 2,
     "metadata": {},
     "output_type": "execute_result"
    }
   ],
   "source": [
    "\"\"\"\n",
    "Generating ewt data for different cycles for all levels\n",
    "\n",
    "N4 F1\n",
    "\n",
    "\"\"\""
   ]
  },
  {
   "cell_type": "code",
   "execution_count": 3,
   "id": "caeb362c",
   "metadata": {},
   "outputs": [],
   "source": [
    "import pandas as pd\n",
    "import numpy as np\n",
    "import pywt\n",
    "import matplotlib.pyplot as plt\n",
    "import os\n",
    "import glob\n",
    "import re"
   ]
  },
  {
   "cell_type": "code",
   "execution_count": 4,
   "id": "96585659",
   "metadata": {},
   "outputs": [],
   "source": [
    "import numpy as np\n",
    "#%EWT functions\n",
    "def ewt_vineet(f,boundaries):\n",
    "    # signal spectrum\n",
    "    ff = np.fft.fft(f)\n",
    "    ff = abs(ff[0:int(np.ceil(ff.size / 2))])  # one-sided magnitude\n",
    "\n",
    "    #extend the signal by mirroring to deal with boundaries\n",
    "    ltemp = int(np.ceil(f.size/2)) #to behave the same as matlab's round\n",
    "    fMirr =  np.append(np.flip(f[0:ltemp-1],axis = 0),f)\n",
    "    fMirr = np.append(fMirr,np.flip(f[-ltemp-1:-1],axis = 0))\n",
    "    ffMirr = np.fft.fft(fMirr)\n",
    "    # build the corresponding filter bank\n",
    "    mfb = EWT_Meyer_FilterBank(boundaries, ffMirr.size)\n",
    "\n",
    "    # filter the signal to extract each subband\n",
    "    ewt = np.zeros(mfb.shape)\n",
    "    for k in range(mfb.shape[1]):\n",
    "        ewt[:, k] = np.real(np.fft.ifft(np.conjugate(mfb[:, k]) * ffMirr))\n",
    "    ewt = ewt[ltemp - 1:-ltemp, :]\n",
    "\n",
    "    return ewt\n",
    "\n",
    "\n",
    "def EWT_Meyer_FilterBank(boundaries, Nsig):\n",
    "    \"\"\"\n",
    "     =========================================================================\n",
    "     function mfb=EWT_Meyer_FilterBank(boundaries,Nsig)\n",
    "\n",
    "     This function generate the filter bank (scaling function + wavelets)\n",
    "     corresponding to the provided set of frequency segments\n",
    "\n",
    "     Input parameters:\n",
    "       -boundaries: vector containing the boundaries of frequency segments (0\n",
    "                    and pi must NOT be in this vector)\n",
    "       -Nsig: signal length\n",
    "\n",
    "     Output:\n",
    "       -mfb: cell containing each filter (in the Fourier domain), the scaling\n",
    "             function comes first and then the successive wavelets\n",
    "\n",
    "     Author: Jerome Gilles\n",
    "     Institution: UCLA - Department of Mathematics\n",
    "     Year: 2012\n",
    "     Version: 1.0\n",
    "\n",
    "     Python Version: Vinícius Rezende Carvalho - vrcarva@ufmg.br\n",
    "     Universidade Federal de Minas Gerais - Brasil\n",
    "     Núcleo de Neurociências\n",
    "     =========================================================================\n",
    "     \"\"\"\n",
    "    Npic = len(boundaries)\n",
    "    # compute gamma\n",
    "    gamma = 1\n",
    "    for k in range(Npic - 1):\n",
    "        r = (boundaries[k + 1] - boundaries[k]) / (boundaries[k + 1] + boundaries[k])\n",
    "        if r < gamma:\n",
    "            gamma = r\n",
    "    r = (np.pi - boundaries[Npic - 1]) / (np.pi + boundaries[Npic - 1])\n",
    "    if r < gamma:\n",
    "        gamma = r\n",
    "    gamma = (1 - 1 / Nsig) * gamma  # this ensure that gamma is chosen as strictly less than the min\n",
    "\n",
    "    mfb = np.zeros([Nsig, Npic + 1])\n",
    "\n",
    "    # EWT_Meyer_Scaling\n",
    "    Mi = int(np.floor(Nsig / 2))\n",
    "    w = np.fft.fftshift(np.linspace(0, 2 * np.pi - 2 * np.pi / Nsig, num=Nsig))\n",
    "    w[0:Mi] = -2 * np.pi + w[0:Mi]\n",
    "    aw = abs(w)\n",
    "    yms = np.zeros(Nsig)\n",
    "    an = 1. / (2 * gamma * boundaries[0])\n",
    "    pbn = (1. + gamma) * boundaries[0]\n",
    "    mbn = (1. - gamma) * boundaries[0]\n",
    "    for k in range(Nsig):\n",
    "        if aw[k] <= mbn:\n",
    "            yms[k] = 1\n",
    "        elif ((aw[k] >= mbn) and (aw[k] <= pbn)):\n",
    "            yms[k] = np.cos(np.pi * EWT_beta(an * (aw[k] - mbn)) / 2)\n",
    "    yms = np.fft.ifftshift(yms)\n",
    "    mfb[:, 0] = yms\n",
    "\n",
    "    # generate rest of the wavelets\n",
    "    for k in range(Npic - 1):\n",
    "        mfb[:, k + 1] = EWT_Meyer_Wavelet(boundaries[k], boundaries[k + 1], gamma, Nsig)\n",
    "\n",
    "    mfb[:, Npic] = EWT_Meyer_Wavelet(boundaries[Npic - 1], np.pi, gamma, Nsig)\n",
    "\n",
    "    return mfb\n",
    "def EWT_beta(x):\n",
    "    \"\"\"\n",
    "    Beta = EWT_beta(x)\n",
    "    function used in the construction of Meyer's wavelet\n",
    "    \"\"\"\n",
    "    if x<0:\n",
    "        bm=0\n",
    "    elif x>1:\n",
    "        bm=1\n",
    "    else:\n",
    "        bm=(x**4)*(35.-84.*x+70.*(x**2)-20.*(x**3))\n",
    "    return bm\n",
    "def EWT_Meyer_Wavelet(wn,wm,gamma,Nsig):\n",
    "    \"\"\"\n",
    "    =========================================================\n",
    "    ymw=EWT_Meyer_Wavelet(wn,wm,gamma,N)\n",
    "    \n",
    "    Generate the 1D Meyer wavelet in the Fourier\n",
    "    domain associated to scale segment [wn,wm] \n",
    "    with transition ratio gamma\n",
    "    \n",
    "    Input parameters:\n",
    "      -wn : lower boundary\n",
    "      -wm : upper boundary\n",
    "      -gamma : transition ratio\n",
    "      -N : number of point in the vector\n",
    "    \n",
    "    Output:\n",
    "      -ymw: Fourier transform of the wavelet on the band [wn,wm]\n",
    "    Author: Jerome Gilles\n",
    "    Institution: UCLA - Department of Mathematics\n",
    "    Year: 2012\n",
    "    Version: 1.0\n",
    "    \n",
    "    Python Version: Vinícius Rezende Carvalho - vrcarva@ufmg.br\n",
    "    Universidade Federal de Minas Gerais - Brasil\n",
    "    Núcleo de Neurociências \n",
    "    ==========================================================            \n",
    "    \"\"\"\n",
    "    Mi=int(np.floor(Nsig/2))\n",
    "    w=np.fft.fftshift(np.linspace(0,2*np.pi - 2*np.pi/Nsig,num = Nsig))\n",
    "    w[0:Mi]=-2*np.pi+w[0:Mi]\n",
    "    aw=abs(w)\n",
    "    ymw=np.zeros(Nsig)\n",
    "    an=1./(2*gamma*wn)\n",
    "    am=1./(2*gamma*wm)\n",
    "    pbn=(1.+gamma)*wn\n",
    "    mbn=(1.-gamma)*wn\n",
    "    pbm=(1.+gamma)*wm\n",
    "    mbm=(1.-gamma)*wm\n",
    "\n",
    "    for k in range(Nsig):\n",
    "        if ((aw[k]>=pbn) and (aw[k]<=mbm)):\n",
    "            ymw[k]=1\n",
    "        elif ((aw[k]>=mbm) and (aw[k]<=pbm)):\n",
    "            ymw[k]=np.cos(np.pi*EWT_beta(am*(aw[k]-mbm))/2)\n",
    "        elif ((aw[k]>=mbn) and (aw[k]<=pbn)):\n",
    "            ymw[k]=np.sin(np.pi*EWT_beta(an*(aw[k]-mbn))/2)\n",
    "    ymw=np.fft.ifftshift(ymw)\n",
    "    return ymw"
   ]
  },
  {
   "cell_type": "code",
   "execution_count": 5,
   "id": "674ad546",
   "metadata": {},
   "outputs": [
    {
     "data": {
      "text/plain": [
       "'C:\\\\Users\\\\vinee\\\\Documents\\\\BTP'"
      ]
     },
     "execution_count": 5,
     "metadata": {},
     "output_type": "execute_result"
    }
   ],
   "source": [
    "pwd"
   ]
  },
  {
   "cell_type": "code",
   "execution_count": 6,
   "id": "b60e0027",
   "metadata": {},
   "outputs": [],
   "source": [
    "os.chdir('resampled_dataset_f1_n4/')"
   ]
  },
  {
   "cell_type": "code",
   "execution_count": 8,
   "id": "de42d2c9",
   "metadata": {},
   "outputs": [],
   "source": [
    "my_files = glob.glob('*txt')"
   ]
  },
  {
   "cell_type": "code",
   "execution_count": 9,
   "id": "67ce4b94",
   "metadata": {},
   "outputs": [
    {
     "data": {
      "text/plain": [
       "93000"
      ]
     },
     "execution_count": 9,
     "metadata": {},
     "output_type": "execute_result"
    }
   ],
   "source": [
    "len(my_files)"
   ]
  },
  {
   "cell_type": "code",
   "execution_count": 10,
   "id": "4e8f5e1a",
   "metadata": {},
   "outputs": [],
   "source": [
    "idx = []"
   ]
  },
  {
   "cell_type": "code",
   "execution_count": 11,
   "id": "751ceb1a",
   "metadata": {},
   "outputs": [],
   "source": [
    "for i in range(len(my_files)):\n",
    "    string1 = my_files[i]\n",
    "    p = list(map(int, re.findall(r'\\d+', string1)))\n",
    "    if p[-2] == 1 and p[-3] == 1:\n",
    "        idx.append(i)"
   ]
  },
  {
   "cell_type": "code",
   "execution_count": 12,
   "id": "0a2df18c",
   "metadata": {},
   "outputs": [
    {
     "data": {
      "text/plain": [
       "15"
      ]
     },
     "execution_count": 12,
     "metadata": {},
     "output_type": "execute_result"
    }
   ],
   "source": [
    "len(idx)"
   ]
  },
  {
   "cell_type": "code",
   "execution_count": 16,
   "id": "d3ad61b8",
   "metadata": {},
   "outputs": [
    {
     "data": {
      "text/plain": [
       "'F1_raw_N4_R1_cycle_1_30.txt'"
      ]
     },
     "execution_count": 16,
     "metadata": {},
     "output_type": "execute_result"
    }
   ],
   "source": [
    "my_files[idx[1]]"
   ]
  },
  {
   "cell_type": "code",
   "execution_count": 17,
   "id": "59f77cd0",
   "metadata": {},
   "outputs": [],
   "source": [
    "idx = []"
   ]
  },
  {
   "cell_type": "code",
   "execution_count": 18,
   "id": "cc9cfa77",
   "metadata": {},
   "outputs": [],
   "source": [
    "for i in range(len(my_files)):\n",
    "    string1 = my_files[i]\n",
    "    p = list(map(int, re.findall(r'\\d+', string1)))\n",
    "    if p[-2] == 1 and p[-3] == 1:\n",
    "        idx.append(i)"
   ]
  },
  {
   "cell_type": "code",
   "execution_count": 19,
   "id": "1709406a",
   "metadata": {},
   "outputs": [
    {
     "data": {
      "text/plain": [
       "15"
      ]
     },
     "execution_count": 19,
     "metadata": {},
     "output_type": "execute_result"
    }
   ],
   "source": [
    "len(idx)"
   ]
  },
  {
   "cell_type": "code",
   "execution_count": 20,
   "id": "f6cf257b",
   "metadata": {},
   "outputs": [],
   "source": [
    "idx = []\n",
    "for i in range(len(my_files)):\n",
    "    string1 = my_files[i]\n",
    "    p = list(map(int, re.findall(r'\\d+', string1)))\n",
    "    if p[-2] == 1 and p[-3] == 1:\n",
    "        idx.append(i)"
   ]
  },
  {
   "cell_type": "code",
   "execution_count": 21,
   "id": "7b3a3cc8",
   "metadata": {},
   "outputs": [
    {
     "data": {
      "text/plain": [
       "15"
      ]
     },
     "execution_count": 21,
     "metadata": {},
     "output_type": "execute_result"
    }
   ],
   "source": [
    "len(idx)"
   ]
  },
  {
   "cell_type": "code",
   "execution_count": 22,
   "id": "a4ee2ea9",
   "metadata": {},
   "outputs": [],
   "source": [
    "idx = []\n",
    "for i in range(len(my_files)):\n",
    "    string1 = my_files[i]\n",
    "    p = list(map(int, re.findall(r'\\d+', string1)))\n",
    "    if p[-2] == 1 and p[-3] == 1:\n",
    "        idx.append(i)"
   ]
  },
  {
   "cell_type": "code",
   "execution_count": 23,
   "id": "b07193de",
   "metadata": {},
   "outputs": [
    {
     "data": {
      "text/plain": [
       "15"
      ]
     },
     "execution_count": 23,
     "metadata": {},
     "output_type": "execute_result"
    }
   ],
   "source": [
    "len(idx)"
   ]
  },
  {
   "cell_type": "code",
   "execution_count": 24,
   "id": "0931b7c1",
   "metadata": {},
   "outputs": [],
   "source": [
    "loudness_data_n4 = np.array([-0.161520,0.300446,0.502216,0.559076,0.654683,0.955243,0.968337,0.885020,0.965291,1.290606,1.397530,1.460671,1.729242,1.781090])\n"
   ]
  },
  {
   "cell_type": "code",
   "execution_count": 25,
   "id": "ad96a451",
   "metadata": {},
   "outputs": [],
   "source": [
    "boundaries = np.loadtxt('C:/users/vinee/Documents/BTP/n4_avg/boundaries_n4.txt')"
   ]
  },
  {
   "cell_type": "code",
   "execution_count": 26,
   "id": "650a1c39",
   "metadata": {},
   "outputs": [
    {
     "data": {
      "text/plain": [
       "array([0.84317118, 1.30193917, 1.90199771, 2.25771169, 2.4654886 ,\n",
       "       2.68656333, 2.8045807 , 2.92259809, 3.04061548])"
      ]
     },
     "execution_count": 26,
     "metadata": {},
     "output_type": "execute_result"
    }
   ],
   "source": [
    "boundaries"
   ]
  },
  {
   "cell_type": "code",
   "execution_count": 39,
   "id": "aa63cc7e",
   "metadata": {},
   "outputs": [
    {
     "data": {
      "text/plain": [
       "'\\nGeneration of Dataset(F1N4) using R1 1000 cycles\\n'"
      ]
     },
     "execution_count": 39,
     "metadata": {},
     "output_type": "execute_result"
    }
   ],
   "source": [
    "\"\"\"\n",
    "Generation of Dataset(F1N4) using R1 1000 cycles\n",
    "\"\"\""
   ]
  },
  {
   "cell_type": "code",
   "execution_count": 46,
   "id": "3cd0b9b8",
   "metadata": {},
   "outputs": [],
   "source": [
    "x_train = []\n",
    "y_train = []"
   ]
  },
  {
   "cell_type": "code",
   "execution_count": 47,
   "id": "a65752df",
   "metadata": {},
   "outputs": [],
   "source": [
    "for j in range(1,1001,1):\n",
    "    idx = []\n",
    "    for i in range(len(my_files)):\n",
    "        string1 = my_files[i]\n",
    "        p = list(map(int, re.findall(r'\\d+', string1)))\n",
    "        if p[-2] == j and p[-3] == 1:\n",
    "            idx.append(i)\n",
    "    res = np.zeros((14,10,126))\n",
    "    i  = 0\n",
    "    for m in idx:\n",
    "        if my_files[m][-6:-4]=='30':\n",
    "            continue\n",
    "        file = np.loadtxt(my_files[m])\n",
    "        ewt = ewt_vineet(file,boundaries)\n",
    "        ewt = ewt.transpose()\n",
    "        res[i] = ewt\n",
    "        i+=1\n",
    "    x_train.append(res)\n",
    "    y_train.append(loudness_data_n4)"
   ]
  },
  {
   "cell_type": "code",
   "execution_count": 48,
   "id": "62896868",
   "metadata": {},
   "outputs": [
    {
     "data": {
      "text/plain": [
       "1000"
      ]
     },
     "execution_count": 48,
     "metadata": {},
     "output_type": "execute_result"
    }
   ],
   "source": [
    "len(x_train)"
   ]
  },
  {
   "cell_type": "code",
   "execution_count": 49,
   "id": "2b2c392f",
   "metadata": {},
   "outputs": [],
   "source": [
    "x = np.array(x_train)"
   ]
  },
  {
   "cell_type": "code",
   "execution_count": 50,
   "id": "c15a0d71",
   "metadata": {},
   "outputs": [],
   "source": [
    "y = np.array(y_train)"
   ]
  },
  {
   "cell_type": "code",
   "execution_count": 51,
   "id": "940ea073",
   "metadata": {},
   "outputs": [
    {
     "data": {
      "text/plain": [
       "1000"
      ]
     },
     "execution_count": 51,
     "metadata": {},
     "output_type": "execute_result"
    }
   ],
   "source": [
    "len(y_train)"
   ]
  },
  {
   "cell_type": "code",
   "execution_count": 52,
   "id": "ce116f51",
   "metadata": {},
   "outputs": [
    {
     "data": {
      "text/plain": [
       "(1000, 14, 10, 126)"
      ]
     },
     "execution_count": 52,
     "metadata": {},
     "output_type": "execute_result"
    }
   ],
   "source": [
    "x.shape"
   ]
  },
  {
   "cell_type": "code",
   "execution_count": 53,
   "id": "34c1e998",
   "metadata": {},
   "outputs": [],
   "source": [
    "np.save('C:/Users/vinee/Documents/BTP/ewt_x_n4_cnn_1',x)"
   ]
  },
  {
   "cell_type": "code",
   "execution_count": 54,
   "id": "e8103935",
   "metadata": {},
   "outputs": [],
   "source": [
    "np.save('C:/Users/vinee/Documents/BTP/ewt_y_n4_cnn_1',y)"
   ]
  },
  {
   "cell_type": "code",
   "execution_count": 55,
   "id": "4f191f43",
   "metadata": {},
   "outputs": [],
   "source": [
    "for j in range(1,1001,1):\n",
    "    idx = []\n",
    "    for i in range(len(my_files)):\n",
    "        string1 = my_files[i]\n",
    "        p = list(map(int, re.findall(r'\\d+', string1)))\n",
    "        if p[-2] == j and p[-3] == 2:\n",
    "            idx.append(i)\n",
    "    res = np.zeros((14,10,126))\n",
    "    i  = 0\n",
    "    for m in idx:\n",
    "        if my_files[m][-6:-4]=='30':\n",
    "            continue\n",
    "        file = np.loadtxt(my_files[m])\n",
    "        ewt = ewt_vineet(file,boundaries)\n",
    "        ewt = ewt.transpose()\n",
    "        res[i] = ewt\n",
    "        i+=1\n",
    "    x_train.append(res)\n",
    "    y_train.append(loudness_data_n4)"
   ]
  },
  {
   "cell_type": "code",
   "execution_count": 56,
   "id": "437cbfff",
   "metadata": {},
   "outputs": [],
   "source": [
    "x = np.array(x_train)"
   ]
  },
  {
   "cell_type": "code",
   "execution_count": 57,
   "id": "dddc1f84",
   "metadata": {},
   "outputs": [],
   "source": [
    "y = np.array(y_train)"
   ]
  },
  {
   "cell_type": "code",
   "execution_count": 58,
   "id": "8ee2beef",
   "metadata": {},
   "outputs": [
    {
     "data": {
      "text/plain": [
       "(2000, 14)"
      ]
     },
     "execution_count": 58,
     "metadata": {},
     "output_type": "execute_result"
    }
   ],
   "source": [
    "y.shape"
   ]
  },
  {
   "cell_type": "code",
   "execution_count": 59,
   "id": "1f099379",
   "metadata": {},
   "outputs": [],
   "source": [
    "np.save('C:/Users/vinee/Documents/BTP/ewt_x_n4_cnn_2',x)"
   ]
  },
  {
   "cell_type": "code",
   "execution_count": 60,
   "id": "593f1c64",
   "metadata": {},
   "outputs": [],
   "source": [
    "np.save('C:/Users/vinee/Documents/BTP/ewt_y_n4_cnn_2',y)"
   ]
  },
  {
   "cell_type": "code",
   "execution_count": null,
   "id": "00ae3242",
   "metadata": {},
   "outputs": [],
   "source": [
    "for j in range(1,1001,1):\n",
    "    idx = []\n",
    "    for i in range(len(my_files)):\n",
    "        string1 = my_files[i]\n",
    "        p = list(map(int, re.findall(r'\\d+', string1)))\n",
    "        if p[-2] == j and p[-3] == 3:\n",
    "            idx.append(i)\n",
    "    res = np.zeros((14,10,126))\n",
    "    i  = 0\n",
    "    for m in idx:\n",
    "        if my_files[m][-6:-4]=='30':\n",
    "            continue\n",
    "        file = np.loadtxt(my_files[m])\n",
    "        ewt = ewt_vineet(file,boundaries)\n",
    "        ewt = ewt.transpose()\n",
    "        res[i] = ewt\n",
    "        i+=1\n",
    "    x_train.append(res)\n",
    "    y_train.append(loudness_data_n4)"
   ]
  },
  {
   "cell_type": "code",
   "execution_count": null,
   "id": "9fe0cc2d",
   "metadata": {},
   "outputs": [],
   "source": [
    "x = np.array(x_train)\n",
    "y = np.array(y_train)"
   ]
  },
  {
   "cell_type": "code",
   "execution_count": null,
   "id": "b28d42bc",
   "metadata": {},
   "outputs": [],
   "source": [
    "np.save('C:/Users/vinee/Documents/BTP/ewt_y_n4_cnn_3',y)\n",
    "np.save('C:/Users/vinee/Documents/BTP/ewt_x_n4_cnn_3',x)"
   ]
  }
 ],
 "metadata": {
  "kernelspec": {
   "display_name": "Python 3",
   "language": "python",
   "name": "python3"
  },
  "language_info": {
   "codemirror_mode": {
    "name": "ipython",
    "version": 3
   },
   "file_extension": ".py",
   "mimetype": "text/x-python",
   "name": "python",
   "nbconvert_exporter": "python",
   "pygments_lexer": "ipython3",
   "version": "3.8.8"
  }
 },
 "nbformat": 4,
 "nbformat_minor": 5
}
