{
 "cells": [
  {
   "cell_type": "code",
   "execution_count": 1,
   "id": "e533581f",
   "metadata": {},
   "outputs": [],
   "source": [
    "import pandas as pd\n",
    "import numpy as np\n",
    "import pywt\n",
    "import matplotlib.pyplot as plt\n",
    "import os\n",
    "import glob\n",
    "import re"
   ]
  },
  {
   "cell_type": "code",
   "execution_count": 2,
   "id": "e729690a",
   "metadata": {},
   "outputs": [
    {
     "data": {
      "text/plain": [
       "'C:\\\\Users\\\\vinee\\\\Documents\\\\BTP'"
      ]
     },
     "execution_count": 2,
     "metadata": {},
     "output_type": "execute_result"
    }
   ],
   "source": [
    "pwd"
   ]
  },
  {
   "cell_type": "code",
   "execution_count": 3,
   "id": "e7a67d0a",
   "metadata": {},
   "outputs": [],
   "source": [
    "os.chdir('resampled_dataset_f1_n5/')"
   ]
  },
  {
   "cell_type": "code",
   "execution_count": 4,
   "id": "f8d4d747",
   "metadata": {},
   "outputs": [],
   "source": [
    "files = glob.glob('*txt')"
   ]
  },
  {
   "cell_type": "code",
   "execution_count": 5,
   "id": "a41e6fb8",
   "metadata": {},
   "outputs": [
    {
     "data": {
      "text/plain": [
       "109000"
      ]
     },
     "execution_count": 5,
     "metadata": {},
     "output_type": "execute_result"
    }
   ],
   "source": [
    "len(files)"
   ]
  },
  {
   "cell_type": "code",
   "execution_count": 6,
   "id": "573730b9",
   "metadata": {},
   "outputs": [],
   "source": [
    "import numpy as np\n",
    "#%EWT functions\n",
    "def ewt_vineet(f,boundaries):\n",
    "    # signal spectrum\n",
    "    ff = np.fft.fft(f)\n",
    "    ff = abs(ff[0:int(np.ceil(ff.size / 2))])  # one-sided magnitude\n",
    "\n",
    "    #extend the signal by mirroring to deal with boundaries\n",
    "    ltemp = int(np.ceil(f.size/2)) #to behave the same as matlab's round\n",
    "    fMirr =  np.append(np.flip(f[0:ltemp-1],axis = 0),f)\n",
    "    fMirr = np.append(fMirr,np.flip(f[-ltemp-1:-1],axis = 0))\n",
    "    ffMirr = np.fft.fft(fMirr)\n",
    "    # build the corresponding filter bank\n",
    "    mfb = EWT_Meyer_FilterBank(boundaries, ffMirr.size)\n",
    "\n",
    "    # filter the signal to extract each subband\n",
    "    ewt = np.zeros(mfb.shape)\n",
    "    for k in range(mfb.shape[1]):\n",
    "        ewt[:, k] = np.real(np.fft.ifft(np.conjugate(mfb[:, k]) * ffMirr))\n",
    "    ewt = ewt[ltemp - 1:-ltemp, :]\n",
    "\n",
    "    return ewt\n",
    "\n",
    "\n",
    "def EWT_Meyer_FilterBank(boundaries, Nsig):\n",
    "    \"\"\"\n",
    "     =========================================================================\n",
    "     function mfb=EWT_Meyer_FilterBank(boundaries,Nsig)\n",
    "\n",
    "     This function generate the filter bank (scaling function + wavelets)\n",
    "     corresponding to the provided set of frequency segments\n",
    "\n",
    "     Input parameters:\n",
    "       -boundaries: vector containing the boundaries of frequency segments (0\n",
    "                    and pi must NOT be in this vector)\n",
    "       -Nsig: signal length\n",
    "\n",
    "     Output:\n",
    "       -mfb: cell containing each filter (in the Fourier domain), the scaling\n",
    "             function comes first and then the successive wavelets\n",
    "\n",
    "     Author: Jerome Gilles\n",
    "     Institution: UCLA - Department of Mathematics\n",
    "     Year: 2012\n",
    "     Version: 1.0\n",
    "\n",
    "     Python Version: Vinícius Rezende Carvalho - vrcarva@ufmg.br\n",
    "     Universidade Federal de Minas Gerais - Brasil\n",
    "     Núcleo de Neurociências\n",
    "     =========================================================================\n",
    "     \"\"\"\n",
    "    Npic = len(boundaries)\n",
    "    # compute gamma\n",
    "    gamma = 1\n",
    "    for k in range(Npic - 1):\n",
    "        r = (boundaries[k + 1] - boundaries[k]) / (boundaries[k + 1] + boundaries[k])\n",
    "        if r < gamma:\n",
    "            gamma = r\n",
    "    r = (np.pi - boundaries[Npic - 1]) / (np.pi + boundaries[Npic - 1])\n",
    "    if r < gamma:\n",
    "        gamma = r\n",
    "    gamma = (1 - 1 / Nsig) * gamma  # this ensure that gamma is chosen as strictly less than the min\n",
    "\n",
    "    mfb = np.zeros([Nsig, Npic + 1])\n",
    "\n",
    "    # EWT_Meyer_Scaling\n",
    "    Mi = int(np.floor(Nsig / 2))\n",
    "    w = np.fft.fftshift(np.linspace(0, 2 * np.pi - 2 * np.pi / Nsig, num=Nsig))\n",
    "    w[0:Mi] = -2 * np.pi + w[0:Mi]\n",
    "    aw = abs(w)\n",
    "    yms = np.zeros(Nsig)\n",
    "    an = 1. / (2 * gamma * boundaries[0])\n",
    "    pbn = (1. + gamma) * boundaries[0]\n",
    "    mbn = (1. - gamma) * boundaries[0]\n",
    "    for k in range(Nsig):\n",
    "        if aw[k] <= mbn:\n",
    "            yms[k] = 1\n",
    "        elif ((aw[k] >= mbn) and (aw[k] <= pbn)):\n",
    "            yms[k] = np.cos(np.pi * EWT_beta(an * (aw[k] - mbn)) / 2)\n",
    "    yms = np.fft.ifftshift(yms)\n",
    "    mfb[:, 0] = yms\n",
    "\n",
    "    # generate rest of the wavelets\n",
    "    for k in range(Npic - 1):\n",
    "        mfb[:, k + 1] = EWT_Meyer_Wavelet(boundaries[k], boundaries[k + 1], gamma, Nsig)\n",
    "\n",
    "    mfb[:, Npic] = EWT_Meyer_Wavelet(boundaries[Npic - 1], np.pi, gamma, Nsig)\n",
    "\n",
    "    return mfb\n",
    "def EWT_beta(x):\n",
    "    \"\"\"\n",
    "    Beta = EWT_beta(x)\n",
    "    function used in the construction of Meyer's wavelet\n",
    "    \"\"\"\n",
    "    if x<0:\n",
    "        bm=0\n",
    "    elif x>1:\n",
    "        bm=1\n",
    "    else:\n",
    "        bm=(x**4)*(35.-84.*x+70.*(x**2)-20.*(x**3))\n",
    "    return bm\n",
    "def EWT_Meyer_Wavelet(wn,wm,gamma,Nsig):\n",
    "    \"\"\"\n",
    "    =========================================================\n",
    "    ymw=EWT_Meyer_Wavelet(wn,wm,gamma,N)\n",
    "    \n",
    "    Generate the 1D Meyer wavelet in the Fourier\n",
    "    domain associated to scale segment [wn,wm] \n",
    "    with transition ratio gamma\n",
    "    \n",
    "    Input parameters:\n",
    "      -wn : lower boundary\n",
    "      -wm : upper boundary\n",
    "      -gamma : transition ratio\n",
    "      -N : number of point in the vector\n",
    "    \n",
    "    Output:\n",
    "      -ymw: Fourier transform of the wavelet on the band [wn,wm]\n",
    "    Author: Jerome Gilles\n",
    "    Institution: UCLA - Department of Mathematics\n",
    "    Year: 2012\n",
    "    Version: 1.0\n",
    "    \n",
    "    Python Version: Vinícius Rezende Carvalho - vrcarva@ufmg.br\n",
    "    Universidade Federal de Minas Gerais - Brasil\n",
    "    Núcleo de Neurociências \n",
    "    ==========================================================            \n",
    "    \"\"\"\n",
    "    Mi=int(np.floor(Nsig/2))\n",
    "    w=np.fft.fftshift(np.linspace(0,2*np.pi - 2*np.pi/Nsig,num = Nsig))\n",
    "    w[0:Mi]=-2*np.pi+w[0:Mi]\n",
    "    aw=abs(w)\n",
    "    ymw=np.zeros(Nsig)\n",
    "    an=1./(2*gamma*wn)\n",
    "    am=1./(2*gamma*wm)\n",
    "    pbn=(1.+gamma)*wn\n",
    "    mbn=(1.-gamma)*wn\n",
    "    pbm=(1.+gamma)*wm\n",
    "    mbm=(1.-gamma)*wm\n",
    "\n",
    "    for k in range(Nsig):\n",
    "        if ((aw[k]>=pbn) and (aw[k]<=mbm)):\n",
    "            ymw[k]=1\n",
    "        elif ((aw[k]>=mbm) and (aw[k]<=pbm)):\n",
    "            ymw[k]=np.cos(np.pi*EWT_beta(am*(aw[k]-mbm))/2)\n",
    "        elif ((aw[k]>=mbn) and (aw[k]<=pbn)):\n",
    "            ymw[k]=np.sin(np.pi*EWT_beta(an*(aw[k]-mbn))/2)\n",
    "    ymw=np.fft.ifftshift(ymw)\n",
    "    return ymw"
   ]
  },
  {
   "cell_type": "code",
   "execution_count": 8,
   "id": "e13d013b",
   "metadata": {},
   "outputs": [],
   "source": [
    "boundaries = np.array([0.64532726, 1.22833311, 1.84400641, 2.16665321, 2.40371516,\n",
    "       2.60913904, 2.75278729, 2.88418764, 3.01558801])"
   ]
  },
  {
   "cell_type": "code",
   "execution_count": 9,
   "id": "0635d760",
   "metadata": {},
   "outputs": [],
   "source": [
    "x = []"
   ]
  },
  {
   "cell_type": "code",
   "execution_count": 11,
   "id": "51b75c5f",
   "metadata": {},
   "outputs": [],
   "source": [
    "for j in range(1,1001,1):\n",
    "    idx = []\n",
    "    for i in range(len(files)):\n",
    "        string1 = files[i]\n",
    "        p = list(map(int, re.findall(r'\\d+', string1)))\n",
    "        if p[-2] == j and p[-3] == 1 and int(p[-1])>40:\n",
    "            idx.append(i)\n",
    "    res = np.zeros((12,10,126))\n",
    "    i  = 0\n",
    "    for m in idx:\n",
    "        file = np.loadtxt(files[m])\n",
    "        ewt = ewt_vineet(file,boundaries)\n",
    "        ewt = ewt.transpose()\n",
    "        res[i] = ewt\n",
    "        i+=1\n",
    "    x.append(res)"
   ]
  },
  {
   "cell_type": "code",
   "execution_count": 12,
   "id": "03dd84d8",
   "metadata": {},
   "outputs": [],
   "source": [
    "loudness_data_n5 = np.array([0.776163,0.859717,0.739199,1.114550,1.283773,1.146815,1.214429,1.605921,1.819364,1.927476,2.032690,2.031693])\n"
   ]
  },
  {
   "cell_type": "code",
   "execution_count": 13,
   "id": "e5bed62c",
   "metadata": {},
   "outputs": [
    {
     "data": {
      "text/plain": [
       "12"
      ]
     },
     "execution_count": 13,
     "metadata": {},
     "output_type": "execute_result"
    }
   ],
   "source": [
    "len(loudness_data_n5)"
   ]
  },
  {
   "cell_type": "code",
   "execution_count": 14,
   "id": "01a9fe39",
   "metadata": {},
   "outputs": [
    {
     "data": {
      "text/plain": [
       "1000"
      ]
     },
     "execution_count": 14,
     "metadata": {},
     "output_type": "execute_result"
    }
   ],
   "source": [
    "len(x)"
   ]
  },
  {
   "cell_type": "code",
   "execution_count": 15,
   "id": "9ed15370",
   "metadata": {},
   "outputs": [],
   "source": [
    "x_ = np.array(x)"
   ]
  },
  {
   "cell_type": "code",
   "execution_count": 16,
   "id": "a3a8fcbc",
   "metadata": {},
   "outputs": [
    {
     "name": "stderr",
     "output_type": "stream",
     "text": [
      "Using TensorFlow backend.\n"
     ]
    }
   ],
   "source": [
    "import keras"
   ]
  },
  {
   "cell_type": "code",
   "execution_count": 26,
   "id": "8b1509e7",
   "metadata": {},
   "outputs": [
    {
     "ename": "AttributeError",
     "evalue": "'str' object has no attribute 'decode'",
     "output_type": "error",
     "traceback": [
      "\u001b[1;31m---------------------------------------------------------------------------\u001b[0m",
      "\u001b[1;31mAttributeError\u001b[0m                            Traceback (most recent call last)",
      "\u001b[1;32m<ipython-input-26-b641095a2e3b>\u001b[0m in \u001b[0;36m<module>\u001b[1;34m\u001b[0m\n\u001b[1;32m----> 1\u001b[1;33m \u001b[0mmodel\u001b[0m \u001b[1;33m=\u001b[0m \u001b[0mkeras\u001b[0m\u001b[1;33m.\u001b[0m\u001b[0mmodels\u001b[0m\u001b[1;33m.\u001b[0m\u001b[0mload_model\u001b[0m\u001b[1;33m(\u001b[0m\u001b[1;34m'best_combined_model.h5'\u001b[0m\u001b[1;33m)\u001b[0m\u001b[1;33m\u001b[0m\u001b[1;33m\u001b[0m\u001b[0m\n\u001b[0m",
      "\u001b[1;32m~\\anaconda3\\lib\\site-packages\\keras\\engine\\saving.py\u001b[0m in \u001b[0;36mload_wrapper\u001b[1;34m(*args, **kwargs)\u001b[0m\n\u001b[0;32m    490\u001b[0m                 \u001b[0mos\u001b[0m\u001b[1;33m.\u001b[0m\u001b[0mremove\u001b[0m\u001b[1;33m(\u001b[0m\u001b[0mtmp_filepath\u001b[0m\u001b[1;33m)\u001b[0m\u001b[1;33m\u001b[0m\u001b[1;33m\u001b[0m\u001b[0m\n\u001b[0;32m    491\u001b[0m             \u001b[1;32mreturn\u001b[0m \u001b[0mres\u001b[0m\u001b[1;33m\u001b[0m\u001b[1;33m\u001b[0m\u001b[0m\n\u001b[1;32m--> 492\u001b[1;33m         \u001b[1;32mreturn\u001b[0m \u001b[0mload_function\u001b[0m\u001b[1;33m(\u001b[0m\u001b[1;33m*\u001b[0m\u001b[0margs\u001b[0m\u001b[1;33m,\u001b[0m \u001b[1;33m**\u001b[0m\u001b[0mkwargs\u001b[0m\u001b[1;33m)\u001b[0m\u001b[1;33m\u001b[0m\u001b[1;33m\u001b[0m\u001b[0m\n\u001b[0m\u001b[0;32m    493\u001b[0m \u001b[1;33m\u001b[0m\u001b[0m\n\u001b[0;32m    494\u001b[0m     \u001b[1;32mreturn\u001b[0m \u001b[0mload_wrapper\u001b[0m\u001b[1;33m\u001b[0m\u001b[1;33m\u001b[0m\u001b[0m\n",
      "\u001b[1;32m~\\anaconda3\\lib\\site-packages\\keras\\engine\\saving.py\u001b[0m in \u001b[0;36mload_model\u001b[1;34m(filepath, custom_objects, compile)\u001b[0m\n\u001b[0;32m    582\u001b[0m     \u001b[1;32mif\u001b[0m \u001b[0mH5Dict\u001b[0m\u001b[1;33m.\u001b[0m\u001b[0mis_supported_type\u001b[0m\u001b[1;33m(\u001b[0m\u001b[0mfilepath\u001b[0m\u001b[1;33m)\u001b[0m\u001b[1;33m:\u001b[0m\u001b[1;33m\u001b[0m\u001b[1;33m\u001b[0m\u001b[0m\n\u001b[0;32m    583\u001b[0m         \u001b[1;32mwith\u001b[0m \u001b[0mH5Dict\u001b[0m\u001b[1;33m(\u001b[0m\u001b[0mfilepath\u001b[0m\u001b[1;33m,\u001b[0m \u001b[0mmode\u001b[0m\u001b[1;33m=\u001b[0m\u001b[1;34m'r'\u001b[0m\u001b[1;33m)\u001b[0m \u001b[1;32mas\u001b[0m \u001b[0mh5dict\u001b[0m\u001b[1;33m:\u001b[0m\u001b[1;33m\u001b[0m\u001b[1;33m\u001b[0m\u001b[0m\n\u001b[1;32m--> 584\u001b[1;33m             \u001b[0mmodel\u001b[0m \u001b[1;33m=\u001b[0m \u001b[0m_deserialize_model\u001b[0m\u001b[1;33m(\u001b[0m\u001b[0mh5dict\u001b[0m\u001b[1;33m,\u001b[0m \u001b[0mcustom_objects\u001b[0m\u001b[1;33m,\u001b[0m \u001b[0mcompile\u001b[0m\u001b[1;33m)\u001b[0m\u001b[1;33m\u001b[0m\u001b[1;33m\u001b[0m\u001b[0m\n\u001b[0m\u001b[0;32m    585\u001b[0m     \u001b[1;32melif\u001b[0m \u001b[0mhasattr\u001b[0m\u001b[1;33m(\u001b[0m\u001b[0mfilepath\u001b[0m\u001b[1;33m,\u001b[0m \u001b[1;34m'write'\u001b[0m\u001b[1;33m)\u001b[0m \u001b[1;32mand\u001b[0m \u001b[0mcallable\u001b[0m\u001b[1;33m(\u001b[0m\u001b[0mfilepath\u001b[0m\u001b[1;33m.\u001b[0m\u001b[0mwrite\u001b[0m\u001b[1;33m)\u001b[0m\u001b[1;33m:\u001b[0m\u001b[1;33m\u001b[0m\u001b[1;33m\u001b[0m\u001b[0m\n\u001b[0;32m    586\u001b[0m         \u001b[1;32mdef\u001b[0m \u001b[0mload_function\u001b[0m\u001b[1;33m(\u001b[0m\u001b[0mh5file\u001b[0m\u001b[1;33m)\u001b[0m\u001b[1;33m:\u001b[0m\u001b[1;33m\u001b[0m\u001b[1;33m\u001b[0m\u001b[0m\n",
      "\u001b[1;32m~\\anaconda3\\lib\\site-packages\\keras\\engine\\saving.py\u001b[0m in \u001b[0;36m_deserialize_model\u001b[1;34m(h5dict, custom_objects, compile)\u001b[0m\n\u001b[0;32m    271\u001b[0m     \u001b[1;32mif\u001b[0m \u001b[0mmodel_config\u001b[0m \u001b[1;32mis\u001b[0m \u001b[1;32mNone\u001b[0m\u001b[1;33m:\u001b[0m\u001b[1;33m\u001b[0m\u001b[1;33m\u001b[0m\u001b[0m\n\u001b[0;32m    272\u001b[0m         \u001b[1;32mraise\u001b[0m \u001b[0mValueError\u001b[0m\u001b[1;33m(\u001b[0m\u001b[1;34m'No model found in config.'\u001b[0m\u001b[1;33m)\u001b[0m\u001b[1;33m\u001b[0m\u001b[1;33m\u001b[0m\u001b[0m\n\u001b[1;32m--> 273\u001b[1;33m     \u001b[0mmodel_config\u001b[0m \u001b[1;33m=\u001b[0m \u001b[0mjson\u001b[0m\u001b[1;33m.\u001b[0m\u001b[0mloads\u001b[0m\u001b[1;33m(\u001b[0m\u001b[0mmodel_config\u001b[0m\u001b[1;33m.\u001b[0m\u001b[0mdecode\u001b[0m\u001b[1;33m(\u001b[0m\u001b[1;34m'utf-8'\u001b[0m\u001b[1;33m)\u001b[0m\u001b[1;33m)\u001b[0m\u001b[1;33m\u001b[0m\u001b[1;33m\u001b[0m\u001b[0m\n\u001b[0m\u001b[0;32m    274\u001b[0m     \u001b[0mmodel\u001b[0m \u001b[1;33m=\u001b[0m \u001b[0mmodel_from_config\u001b[0m\u001b[1;33m(\u001b[0m\u001b[0mmodel_config\u001b[0m\u001b[1;33m,\u001b[0m \u001b[0mcustom_objects\u001b[0m\u001b[1;33m=\u001b[0m\u001b[0mcustom_objects\u001b[0m\u001b[1;33m)\u001b[0m\u001b[1;33m\u001b[0m\u001b[1;33m\u001b[0m\u001b[0m\n\u001b[0;32m    275\u001b[0m     \u001b[0mmodel_weights_group\u001b[0m \u001b[1;33m=\u001b[0m \u001b[0mh5dict\u001b[0m\u001b[1;33m[\u001b[0m\u001b[1;34m'model_weights'\u001b[0m\u001b[1;33m]\u001b[0m\u001b[1;33m\u001b[0m\u001b[1;33m\u001b[0m\u001b[0m\n",
      "\u001b[1;31mAttributeError\u001b[0m: 'str' object has no attribute 'decode'"
     ]
    }
   ],
   "source": [
    "model = keras.models.load_model('best_combined_model.h5')"
   ]
  },
  {
   "cell_type": "code",
   "execution_count": 25,
   "id": "d48f1a81",
   "metadata": {},
   "outputs": [
    {
     "name": "stdout",
     "output_type": "stream",
     "text": [
      "C:\\Users\\vinee\\Documents\\BTP\n"
     ]
    }
   ],
   "source": [
    "cd BTP"
   ]
  },
  {
   "cell_type": "code",
   "execution_count": 27,
   "id": "0401a5d8",
   "metadata": {},
   "outputs": [],
   "source": [
    "np.save('C:/Users/vinee/Documents/BTP/ewt_X_n5',x_)"
   ]
  },
  {
   "cell_type": "code",
   "execution_count": 28,
   "id": "d6b77844",
   "metadata": {},
   "outputs": [],
   "source": [
    "y = []\n",
    "for i in range(1000):\n",
    "    y.append(loudness_data_n5)"
   ]
  },
  {
   "cell_type": "code",
   "execution_count": 31,
   "id": "243d2937",
   "metadata": {},
   "outputs": [],
   "source": [
    "y_ = np.array(y)"
   ]
  },
  {
   "cell_type": "code",
   "execution_count": 32,
   "id": "a0fc8c4b",
   "metadata": {},
   "outputs": [],
   "source": [
    "np.save('C:/Users/vinee/Documents/BTP/ewt_Y_n5',y_)"
   ]
  },
  {
   "cell_type": "code",
   "execution_count": null,
   "id": "eb752236",
   "metadata": {},
   "outputs": [],
   "source": []
  }
 ],
 "metadata": {
  "kernelspec": {
   "display_name": "Python 3",
   "language": "python",
   "name": "python3"
  },
  "language_info": {
   "codemirror_mode": {
    "name": "ipython",
    "version": 3
   },
   "file_extension": ".py",
   "mimetype": "text/x-python",
   "name": "python",
   "nbconvert_exporter": "python",
   "pygments_lexer": "ipython3",
   "version": "3.8.8"
  }
 },
 "nbformat": 4,
 "nbformat_minor": 5
}
