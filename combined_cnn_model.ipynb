{
 "cells": [
  {
   "cell_type": "code",
   "execution_count": 15,
   "id": "08b42f2d",
   "metadata": {},
   "outputs": [],
   "source": [
    "import pandas as pd\n",
    "import numpy as np\n",
    "import pywt\n",
    "import matplotlib.pyplot as plt\n",
    "import os\n",
    "import glob\n",
    "import re"
   ]
  },
  {
   "cell_type": "code",
   "execution_count": 1,
   "id": "5def943b",
   "metadata": {
    "scrolled": true
   },
   "outputs": [
    {
     "data": {
      "text/plain": [
       "'\\nmean boundaries computation\\ntaking mean of N1 N2 N4\\n'"
      ]
     },
     "execution_count": 1,
     "metadata": {},
     "output_type": "execute_result"
    }
   ],
   "source": [
    "\"\"\"\n",
    "mean boundaries computation\n",
    "taking mean of N1 N2 N4\n",
    "\"\"\""
   ]
  },
  {
   "cell_type": "code",
   "execution_count": 2,
   "id": "13930603",
   "metadata": {},
   "outputs": [
    {
     "data": {
      "text/plain": [
       "'\\nLoudness Levels - from 45dB\\n'"
      ]
     },
     "execution_count": 2,
     "metadata": {},
     "output_type": "execute_result"
    }
   ],
   "source": [
    "\"\"\"\n",
    "Loudness Levels - from 45dB\n",
    "\"\"\""
   ]
  },
  {
   "cell_type": "code",
   "execution_count": 6,
   "id": "216483af",
   "metadata": {},
   "outputs": [],
   "source": [
    "import numpy as np"
   ]
  },
  {
   "cell_type": "code",
   "execution_count": 4,
   "id": "2da23bed",
   "metadata": {},
   "outputs": [
    {
     "data": {
      "text/plain": [
       "'\\ncalculation of mean boundaries using mean boundaries for N1 N2 and N4\\n'"
      ]
     },
     "execution_count": 4,
     "metadata": {},
     "output_type": "execute_result"
    }
   ],
   "source": [
    "\"\"\"\n",
    "calculation of mean boundaries using mean boundaries for N1 N2 and N4\n",
    "\"\"\""
   ]
  },
  {
   "cell_type": "code",
   "execution_count": 7,
   "id": "ab010cba",
   "metadata": {},
   "outputs": [],
   "source": [
    "boundaries1 = np.array([0.63679854007417,1.24043747184364,1.90051054875325,2.19052315291591,2.42542041587323,2.62882317400665,2.76529989452493,2.88996614389811,3.01463240497312])"
   ]
  },
  {
   "cell_type": "code",
   "execution_count": 8,
   "id": "ea9d5892",
   "metadata": {},
   "outputs": [],
   "source": [
    "boundaries2 = np.loadtxt('C:/users/vinee/Documents/BTP/n2_avg_r1/boundaries_n2.txt')"
   ]
  },
  {
   "cell_type": "code",
   "execution_count": 9,
   "id": "b6938cf5",
   "metadata": {},
   "outputs": [],
   "source": [
    "boundaries4 = np.loadtxt('C:/users/vinee/Documents/BTP/n4_avg/boundaries_n4.txt')"
   ]
  },
  {
   "cell_type": "code",
   "execution_count": 12,
   "id": "8553b63a",
   "metadata": {},
   "outputs": [],
   "source": [
    "mean_boundaries = (boundaries1+boundaries2+boundaries4)/3"
   ]
  },
  {
   "cell_type": "code",
   "execution_count": 13,
   "id": "32dcc3aa",
   "metadata": {},
   "outputs": [
    {
     "data": {
      "text/plain": [
       "array([0.64532726, 1.22833311, 1.84400641, 2.16665321, 2.40371516,\n",
       "       2.60913904, 2.75278729, 2.88418764, 3.01558801])"
      ]
     },
     "execution_count": 13,
     "metadata": {},
     "output_type": "execute_result"
    }
   ],
   "source": [
    "mean_boundaries"
   ]
  },
  {
   "cell_type": "code",
   "execution_count": 14,
   "id": "c8f3ace6",
   "metadata": {},
   "outputs": [],
   "source": [
    "import numpy as np\n",
    "#%EWT functions\n",
    "def ewt_vineet(f,boundaries):\n",
    "    # signal spectrum\n",
    "    ff = np.fft.fft(f)\n",
    "    ff = abs(ff[0:int(np.ceil(ff.size / 2))])  # one-sided magnitude\n",
    "\n",
    "    #extend the signal by mirroring to deal with boundaries\n",
    "    ltemp = int(np.ceil(f.size/2)) #to behave the same as matlab's round\n",
    "    fMirr =  np.append(np.flip(f[0:ltemp-1],axis = 0),f)\n",
    "    fMirr = np.append(fMirr,np.flip(f[-ltemp-1:-1],axis = 0))\n",
    "    ffMirr = np.fft.fft(fMirr)\n",
    "    # build the corresponding filter bank\n",
    "    mfb = EWT_Meyer_FilterBank(boundaries, ffMirr.size)\n",
    "\n",
    "    # filter the signal to extract each subband\n",
    "    ewt = np.zeros(mfb.shape)\n",
    "    for k in range(mfb.shape[1]):\n",
    "        ewt[:, k] = np.real(np.fft.ifft(np.conjugate(mfb[:, k]) * ffMirr))\n",
    "    ewt = ewt[ltemp - 1:-ltemp, :]\n",
    "\n",
    "    return ewt\n",
    "\n",
    "\n",
    "def EWT_Meyer_FilterBank(boundaries, Nsig):\n",
    "    \"\"\"\n",
    "     =========================================================================\n",
    "     function mfb=EWT_Meyer_FilterBank(boundaries,Nsig)\n",
    "\n",
    "     This function generate the filter bank (scaling function + wavelets)\n",
    "     corresponding to the provided set of frequency segments\n",
    "\n",
    "     Input parameters:\n",
    "       -boundaries: vector containing the boundaries of frequency segments (0\n",
    "                    and pi must NOT be in this vector)\n",
    "       -Nsig: signal length\n",
    "\n",
    "     Output:\n",
    "       -mfb: cell containing each filter (in the Fourier domain), the scaling\n",
    "             function comes first and then the successive wavelets\n",
    "\n",
    "     Author: Jerome Gilles\n",
    "     Institution: UCLA - Department of Mathematics\n",
    "     Year: 2012\n",
    "     Version: 1.0\n",
    "\n",
    "     Python Version: Vinícius Rezende Carvalho - vrcarva@ufmg.br\n",
    "     Universidade Federal de Minas Gerais - Brasil\n",
    "     Núcleo de Neurociências\n",
    "     =========================================================================\n",
    "     \"\"\"\n",
    "    Npic = len(boundaries)\n",
    "    # compute gamma\n",
    "    gamma = 1\n",
    "    for k in range(Npic - 1):\n",
    "        r = (boundaries[k + 1] - boundaries[k]) / (boundaries[k + 1] + boundaries[k])\n",
    "        if r < gamma:\n",
    "            gamma = r\n",
    "    r = (np.pi - boundaries[Npic - 1]) / (np.pi + boundaries[Npic - 1])\n",
    "    if r < gamma:\n",
    "        gamma = r\n",
    "    gamma = (1 - 1 / Nsig) * gamma  # this ensure that gamma is chosen as strictly less than the min\n",
    "\n",
    "    mfb = np.zeros([Nsig, Npic + 1])\n",
    "\n",
    "    # EWT_Meyer_Scaling\n",
    "    Mi = int(np.floor(Nsig / 2))\n",
    "    w = np.fft.fftshift(np.linspace(0, 2 * np.pi - 2 * np.pi / Nsig, num=Nsig))\n",
    "    w[0:Mi] = -2 * np.pi + w[0:Mi]\n",
    "    aw = abs(w)\n",
    "    yms = np.zeros(Nsig)\n",
    "    an = 1. / (2 * gamma * boundaries[0])\n",
    "    pbn = (1. + gamma) * boundaries[0]\n",
    "    mbn = (1. - gamma) * boundaries[0]\n",
    "    for k in range(Nsig):\n",
    "        if aw[k] <= mbn:\n",
    "            yms[k] = 1\n",
    "        elif ((aw[k] >= mbn) and (aw[k] <= pbn)):\n",
    "            yms[k] = np.cos(np.pi * EWT_beta(an * (aw[k] - mbn)) / 2)\n",
    "    yms = np.fft.ifftshift(yms)\n",
    "    mfb[:, 0] = yms\n",
    "\n",
    "    # generate rest of the wavelets\n",
    "    for k in range(Npic - 1):\n",
    "        mfb[:, k + 1] = EWT_Meyer_Wavelet(boundaries[k], boundaries[k + 1], gamma, Nsig)\n",
    "\n",
    "    mfb[:, Npic] = EWT_Meyer_Wavelet(boundaries[Npic - 1], np.pi, gamma, Nsig)\n",
    "\n",
    "    return mfb\n",
    "def EWT_beta(x):\n",
    "    \"\"\"\n",
    "    Beta = EWT_beta(x)\n",
    "    function used in the construction of Meyer's wavelet\n",
    "    \"\"\"\n",
    "    if x<0:\n",
    "        bm=0\n",
    "    elif x>1:\n",
    "        bm=1\n",
    "    else:\n",
    "        bm=(x**4)*(35.-84.*x+70.*(x**2)-20.*(x**3))\n",
    "    return bm\n",
    "def EWT_Meyer_Wavelet(wn,wm,gamma,Nsig):\n",
    "    \"\"\"\n",
    "    =========================================================\n",
    "    ymw=EWT_Meyer_Wavelet(wn,wm,gamma,N)\n",
    "    \n",
    "    Generate the 1D Meyer wavelet in the Fourier\n",
    "    domain associated to scale segment [wn,wm] \n",
    "    with transition ratio gamma\n",
    "    \n",
    "    Input parameters:\n",
    "      -wn : lower boundary\n",
    "      -wm : upper boundary\n",
    "      -gamma : transition ratio\n",
    "      -N : number of point in the vector\n",
    "    \n",
    "    Output:\n",
    "      -ymw: Fourier transform of the wavelet on the band [wn,wm]\n",
    "    Author: Jerome Gilles\n",
    "    Institution: UCLA - Department of Mathematics\n",
    "    Year: 2012\n",
    "    Version: 1.0\n",
    "    \n",
    "    Python Version: Vinícius Rezende Carvalho - vrcarva@ufmg.br\n",
    "    Universidade Federal de Minas Gerais - Brasil\n",
    "    Núcleo de Neurociências \n",
    "    ==========================================================            \n",
    "    \"\"\"\n",
    "    Mi=int(np.floor(Nsig/2))\n",
    "    w=np.fft.fftshift(np.linspace(0,2*np.pi - 2*np.pi/Nsig,num = Nsig))\n",
    "    w[0:Mi]=-2*np.pi+w[0:Mi]\n",
    "    aw=abs(w)\n",
    "    ymw=np.zeros(Nsig)\n",
    "    an=1./(2*gamma*wn)\n",
    "    am=1./(2*gamma*wm)\n",
    "    pbn=(1.+gamma)*wn\n",
    "    mbn=(1.-gamma)*wn\n",
    "    pbm=(1.+gamma)*wm\n",
    "    mbm=(1.-gamma)*wm\n",
    "\n",
    "    for k in range(Nsig):\n",
    "        if ((aw[k]>=pbn) and (aw[k]<=mbm)):\n",
    "            ymw[k]=1\n",
    "        elif ((aw[k]>=mbm) and (aw[k]<=pbm)):\n",
    "            ymw[k]=np.cos(np.pi*EWT_beta(am*(aw[k]-mbm))/2)\n",
    "        elif ((aw[k]>=mbn) and (aw[k]<=pbn)):\n",
    "            ymw[k]=np.sin(np.pi*EWT_beta(an*(aw[k]-mbn))/2)\n",
    "    ymw=np.fft.ifftshift(ymw)\n",
    "    return ymw"
   ]
  },
  {
   "cell_type": "code",
   "execution_count": 69,
   "id": "00ab5619",
   "metadata": {},
   "outputs": [],
   "source": [
    "x_train = []\n",
    "y_train = []"
   ]
  },
  {
   "cell_type": "code",
   "execution_count": 17,
   "id": "3ea3ec5e",
   "metadata": {},
   "outputs": [
    {
     "data": {
      "text/plain": [
       "'\\nGeneration of dataset using N1,R1\\n'"
      ]
     },
     "execution_count": 17,
     "metadata": {},
     "output_type": "execute_result"
    }
   ],
   "source": [
    "\"\"\"\n",
    "Generation of dataset using N1,R1\n",
    "\"\"\""
   ]
  },
  {
   "cell_type": "code",
   "execution_count": 19,
   "id": "ae673b37",
   "metadata": {},
   "outputs": [],
   "source": [
    "os.chdir('resampled_dataset_f1_n1/resampled_dataset/')"
   ]
  },
  {
   "cell_type": "code",
   "execution_count": 20,
   "id": "9dc290de",
   "metadata": {},
   "outputs": [],
   "source": [
    "my_files1 = glob.glob('*txt')"
   ]
  },
  {
   "cell_type": "code",
   "execution_count": 68,
   "id": "e858e243",
   "metadata": {},
   "outputs": [
    {
     "data": {
      "text/plain": [
       "131000"
      ]
     },
     "execution_count": 68,
     "metadata": {},
     "output_type": "execute_result"
    }
   ],
   "source": [
    "len(my_files1)"
   ]
  },
  {
   "cell_type": "code",
   "execution_count": 34,
   "id": "69e3d490",
   "metadata": {},
   "outputs": [],
   "source": [
    "idx = []\n",
    "for i in range(len(my_files1)):\n",
    "    string1 = my_files1[i]\n",
    "    p = list(map(int, re.findall(r'\\d+', string1)))\n",
    "    if p[-2] == 1 and p[-3] == 1 and int(p[-1])>40:\n",
    "        idx.append(i)"
   ]
  },
  {
   "cell_type": "code",
   "execution_count": 36,
   "id": "6789e6eb",
   "metadata": {},
   "outputs": [
    {
     "data": {
      "text/plain": [
       "12"
      ]
     },
     "execution_count": 36,
     "metadata": {},
     "output_type": "execute_result"
    }
   ],
   "source": [
    "len(idx)"
   ]
  },
  {
   "cell_type": "code",
   "execution_count": 44,
   "id": "186688e5",
   "metadata": {},
   "outputs": [],
   "source": [
    "loudness_data_n1 = np.array([0.203489,0.461973,0.421456,0.525431,0.691075,0.733513,0.761766,1.076224,1.245589,1.340460,1.642738,1.773085])"
   ]
  },
  {
   "cell_type": "code",
   "execution_count": 45,
   "id": "5899aaf3",
   "metadata": {
    "scrolled": true
   },
   "outputs": [
    {
     "data": {
      "text/plain": [
       "12"
      ]
     },
     "execution_count": 45,
     "metadata": {},
     "output_type": "execute_result"
    }
   ],
   "source": [
    "len(loudness_data_n1)"
   ]
  },
  {
   "cell_type": "code",
   "execution_count": 46,
   "id": "32f71071",
   "metadata": {},
   "outputs": [],
   "source": [
    "loudness_data_n2 = np.array([-0.767364,-0.476870,-0.193201,0.078374,0.172603,0.419829,0.500441,0.720262,0.920215,1.080807,1.295526,1.501556])\n"
   ]
  },
  {
   "cell_type": "code",
   "execution_count": 48,
   "id": "d4f43cd0",
   "metadata": {},
   "outputs": [
    {
     "data": {
      "text/plain": [
       "12"
      ]
     },
     "execution_count": 48,
     "metadata": {},
     "output_type": "execute_result"
    }
   ],
   "source": [
    "len(loudness_data_n1)"
   ]
  },
  {
   "cell_type": "code",
   "execution_count": 56,
   "id": "ec276fdb",
   "metadata": {},
   "outputs": [],
   "source": [
    "loudness_data_n4 = np.array([0.502216,0.559076,0.654683,0.955243,0.968337,0.885020,0.965291,1.290606,1.397530,1.460671,1.729242,1.781090])\n"
   ]
  },
  {
   "cell_type": "code",
   "execution_count": 57,
   "id": "15a0528c",
   "metadata": {},
   "outputs": [
    {
     "data": {
      "text/plain": [
       "12"
      ]
     },
     "execution_count": 57,
     "metadata": {},
     "output_type": "execute_result"
    }
   ],
   "source": [
    "len(loudness_data_n4)"
   ]
  },
  {
   "cell_type": "code",
   "execution_count": 70,
   "id": "49417bcc",
   "metadata": {},
   "outputs": [],
   "source": [
    "for j in range(1,1001,1):\n",
    "    idx = []\n",
    "    for i in range(len(my_files1)):\n",
    "        string1 = my_files1[i]\n",
    "        p = list(map(int, re.findall(r'\\d+', string1)))\n",
    "        if p[-2] == j and p[-3] == 1 and int(p[-1])>40:\n",
    "            idx.append(i)\n",
    "    res = np.zeros((12,10,126))\n",
    "    i  = 0\n",
    "    for m in idx:\n",
    "        file = np.loadtxt(my_files1[m])\n",
    "        ewt = ewt_vineet(file,mean_boundaries)\n",
    "        ewt = ewt.transpose()\n",
    "        res[i] = ewt\n",
    "        i+=1\n",
    "    x_train.append(res)\n",
    "    y_train.append(loudness_data_n1)"
   ]
  },
  {
   "cell_type": "code",
   "execution_count": 71,
   "id": "11c55c2f",
   "metadata": {},
   "outputs": [
    {
     "data": {
      "text/plain": [
       "1000"
      ]
     },
     "execution_count": 71,
     "metadata": {},
     "output_type": "execute_result"
    }
   ],
   "source": [
    "len(x_train)"
   ]
  },
  {
   "cell_type": "code",
   "execution_count": 74,
   "id": "19bd9179",
   "metadata": {},
   "outputs": [],
   "source": [
    "for j in range(1,1001,1):\n",
    "    idx = []\n",
    "    for i in range(len(my_files1)):\n",
    "        string1 = my_files1[i]\n",
    "        p = list(map(int, re.findall(r'\\d+', string1)))\n",
    "        if p[-2] == j and p[-3] == 2 and int(p[-1])>40:\n",
    "            idx.append(i)\n",
    "    res = np.zeros((12,10,126))\n",
    "    i  = 0\n",
    "    for m in idx:\n",
    "        file = np.loadtxt(my_files1[m])\n",
    "        ewt = ewt_vineet(file,mean_boundaries)\n",
    "        ewt = ewt.transpose()\n",
    "        res[i] = ewt\n",
    "        i+=1\n",
    "    x_train.append(res)\n",
    "    y_train.append(loudness_data_n1)"
   ]
  },
  {
   "cell_type": "code",
   "execution_count": 77,
   "id": "f1c01ae4",
   "metadata": {},
   "outputs": [],
   "source": [
    "for j in range(1,1001,1):\n",
    "    idx = []\n",
    "    for i in range(len(my_files1)):\n",
    "        string1 = my_files1[i]\n",
    "        p = list(map(int, re.findall(r'\\d+', string1)))\n",
    "        if p[-2] == j and p[-3] == 3 and int(p[-1])>40:\n",
    "            idx.append(i)\n",
    "    res = np.zeros((12,10,126))\n",
    "    i  = 0\n",
    "    for m in idx:\n",
    "        file = np.loadtxt(my_files1[m])\n",
    "        ewt = ewt_vineet(file,mean_boundaries)\n",
    "        ewt = ewt.transpose()\n",
    "        res[i] = ewt\n",
    "        i+=1\n",
    "    x_train.append(res)\n",
    "    y_train.append(loudness_data_n1)"
   ]
  },
  {
   "cell_type": "code",
   "execution_count": 78,
   "id": "045b3958",
   "metadata": {},
   "outputs": [
    {
     "data": {
      "text/plain": [
       "3000"
      ]
     },
     "execution_count": 78,
     "metadata": {},
     "output_type": "execute_result"
    }
   ],
   "source": [
    "len(x_train)"
   ]
  },
  {
   "cell_type": "code",
   "execution_count": 79,
   "id": "45d83ca6",
   "metadata": {},
   "outputs": [
    {
     "data": {
      "text/plain": [
       "3000"
      ]
     },
     "execution_count": 79,
     "metadata": {},
     "output_type": "execute_result"
    }
   ],
   "source": [
    "len(y_train)"
   ]
  },
  {
   "cell_type": "code",
   "execution_count": 80,
   "id": "d9f1f019",
   "metadata": {},
   "outputs": [],
   "source": [
    "x = np.array(x_train)"
   ]
  },
  {
   "cell_type": "code",
   "execution_count": 81,
   "id": "6dfe52be",
   "metadata": {},
   "outputs": [],
   "source": [
    "y = np.array(y_train)"
   ]
  },
  {
   "cell_type": "code",
   "execution_count": 82,
   "id": "7c6fdcf0",
   "metadata": {},
   "outputs": [],
   "source": [
    "np.save('C:/users/vinee/Documents/BTP/n2_avg_r1/ewt_X_cnn_n1',x)\n",
    "np.save('C:/users/vinee/Documents/BTP/n2_avg_r1/ewt_Y_cnn_n1',y)"
   ]
  },
  {
   "cell_type": "code",
   "execution_count": 83,
   "id": "d664bdb9",
   "metadata": {},
   "outputs": [
    {
     "data": {
      "text/plain": [
       "'C:\\\\Users\\\\vinee\\\\Documents\\\\BTP\\\\resampled_dataset_f1_n1\\\\resampled_dataset'"
      ]
     },
     "execution_count": 83,
     "metadata": {},
     "output_type": "execute_result"
    }
   ],
   "source": [
    "pwd"
   ]
  },
  {
   "cell_type": "code",
   "execution_count": 84,
   "id": "1009940e",
   "metadata": {},
   "outputs": [
    {
     "name": "stdout",
     "output_type": "stream",
     "text": [
      "C:\\Users\\vinee\\Documents\\BTP\n"
     ]
    }
   ],
   "source": [
    "cd .. .."
   ]
  },
  {
   "cell_type": "code",
   "execution_count": 92,
   "id": "0717e51e",
   "metadata": {},
   "outputs": [],
   "source": [
    "os.chdir('resampled_dataset_f1_n2/')"
   ]
  },
  {
   "cell_type": "code",
   "execution_count": 93,
   "id": "6c17c476",
   "metadata": {},
   "outputs": [],
   "source": [
    "my_files2 = glob.glob('*txt')"
   ]
  },
  {
   "cell_type": "code",
   "execution_count": 94,
   "id": "06ecfb9b",
   "metadata": {},
   "outputs": [
    {
     "data": {
      "text/plain": [
       "101000"
      ]
     },
     "execution_count": 94,
     "metadata": {},
     "output_type": "execute_result"
    }
   ],
   "source": [
    "len(my_files2)"
   ]
  },
  {
   "cell_type": "code",
   "execution_count": null,
   "id": "94b427ec",
   "metadata": {},
   "outputs": [],
   "source": [
    "\"\"\"\n",
    "Generation of dataset using N2\n",
    "\"\"\""
   ]
  },
  {
   "cell_type": "code",
   "execution_count": 96,
   "id": "8b98232b",
   "metadata": {},
   "outputs": [],
   "source": [
    "for j in range(1,1001,1):\n",
    "    idx = []\n",
    "    for i in range(len(my_files2)):\n",
    "        string1 = my_files2[i]\n",
    "        p = list(map(int, re.findall(r'\\d+', string1)))\n",
    "        if p[-2] == j and p[-3] == 1 and int(p[-1])>40:\n",
    "            idx.append(i)\n",
    "    res = np.zeros((12,10,126))\n",
    "    i  = 0\n",
    "    for m in idx:\n",
    "        file = np.loadtxt(my_files2[m])\n",
    "        ewt = ewt_vineet(file,mean_boundaries)\n",
    "        ewt = ewt.transpose()\n",
    "        res[i] = ewt\n",
    "        i+=1\n",
    "    x_train.append(res)\n",
    "    y_train.append(loudness_data_n2)"
   ]
  },
  {
   "cell_type": "code",
   "execution_count": 97,
   "id": "3e1777d6",
   "metadata": {},
   "outputs": [
    {
     "data": {
      "text/plain": [
       "4000"
      ]
     },
     "execution_count": 97,
     "metadata": {},
     "output_type": "execute_result"
    }
   ],
   "source": [
    "len(x_train)"
   ]
  },
  {
   "cell_type": "code",
   "execution_count": 98,
   "id": "dbfab5cb",
   "metadata": {},
   "outputs": [],
   "source": [
    "for j in range(1,1001,1):\n",
    "    idx = []\n",
    "    for i in range(len(my_files2)):\n",
    "        string1 = my_files2[i]\n",
    "        p = list(map(int, re.findall(r'\\d+', string1)))\n",
    "        if p[-2] == j and p[-3] == 2 and int(p[-1])>40:\n",
    "            idx.append(i)\n",
    "    res = np.zeros((12,10,126))\n",
    "    i  = 0\n",
    "    for m in idx:\n",
    "        file = np.loadtxt(my_files2[m])\n",
    "        ewt = ewt_vineet(file,mean_boundaries)\n",
    "        ewt = ewt.transpose()\n",
    "        res[i] = ewt\n",
    "        i+=1\n",
    "    x_train.append(res)\n",
    "    y_train.append(loudness_data_n2)"
   ]
  },
  {
   "cell_type": "code",
   "execution_count": 99,
   "id": "ead1eb6a",
   "metadata": {},
   "outputs": [
    {
     "data": {
      "text/plain": [
       "5000"
      ]
     },
     "execution_count": 99,
     "metadata": {},
     "output_type": "execute_result"
    }
   ],
   "source": [
    "len(x_train)"
   ]
  },
  {
   "cell_type": "code",
   "execution_count": 100,
   "id": "f4f03dc2",
   "metadata": {},
   "outputs": [],
   "source": [
    "for j in range(1,1001,1):\n",
    "    idx = []\n",
    "    for i in range(len(my_files2)):\n",
    "        string1 = my_files2[i]\n",
    "        p = list(map(int, re.findall(r'\\d+', string1)))\n",
    "        if p[-2] == j and p[-3] == 3 and int(p[-1])>40:\n",
    "            idx.append(i)\n",
    "    res = np.zeros((12,10,126))\n",
    "    i  = 0\n",
    "    for m in idx:\n",
    "        file = np.loadtxt(my_files2[m])\n",
    "        ewt = ewt_vineet(file,mean_boundaries)\n",
    "        ewt = ewt.transpose()\n",
    "        res[i] = ewt\n",
    "        i+=1\n",
    "    x_train.append(res)\n",
    "    y_train.append(loudness_data_n2)"
   ]
  },
  {
   "cell_type": "code",
   "execution_count": 101,
   "id": "2eae89c4",
   "metadata": {},
   "outputs": [
    {
     "data": {
      "text/plain": [
       "6000"
      ]
     },
     "execution_count": 101,
     "metadata": {},
     "output_type": "execute_result"
    }
   ],
   "source": [
    "len(x_train)"
   ]
  },
  {
   "cell_type": "code",
   "execution_count": 102,
   "id": "a7612366",
   "metadata": {},
   "outputs": [],
   "source": [
    "x = np.array(x_train)"
   ]
  },
  {
   "cell_type": "code",
   "execution_count": 103,
   "id": "08f96d58",
   "metadata": {},
   "outputs": [],
   "source": [
    "y = np.array(y_train)"
   ]
  },
  {
   "cell_type": "code",
   "execution_count": 104,
   "id": "913ea3d7",
   "metadata": {},
   "outputs": [],
   "source": [
    "np.save('C:/users/vinee/Documents/BTP/n2_avg_r1/ewt_X_cnn_n2',x)\n",
    "np.save('C:/users/vinee/Documents/BTP/n2_avg_r1/ewt_Y_cnn_n2',y)"
   ]
  },
  {
   "cell_type": "code",
   "execution_count": 105,
   "id": "5af81bc4",
   "metadata": {},
   "outputs": [
    {
     "name": "stdout",
     "output_type": "stream",
     "text": [
      "C:\\Users\\vinee\\Documents\\BTP\\resampled_dataset_f1_n2\n"
     ]
    }
   ],
   "source": [
    "cd .."
   ]
  },
  {
   "cell_type": "code",
   "execution_count": 106,
   "id": "17472df7",
   "metadata": {},
   "outputs": [
    {
     "name": "stdout",
     "output_type": "stream",
     "text": [
      "C:\\Users\\vinee\\Documents\\BTP\n"
     ]
    }
   ],
   "source": [
    "cd .."
   ]
  },
  {
   "cell_type": "code",
   "execution_count": 107,
   "id": "7e3dc1d2",
   "metadata": {},
   "outputs": [],
   "source": [
    "os.chdir('resampled_dataset_f1_n4/')"
   ]
  },
  {
   "cell_type": "code",
   "execution_count": 108,
   "id": "814d4219",
   "metadata": {},
   "outputs": [],
   "source": [
    "my_files3 = glob.glob('*txt')"
   ]
  },
  {
   "cell_type": "code",
   "execution_count": 110,
   "id": "9204e784",
   "metadata": {},
   "outputs": [
    {
     "data": {
      "text/plain": [
       "'\\nGeneration of dataset using N4\\n'"
      ]
     },
     "execution_count": 110,
     "metadata": {},
     "output_type": "execute_result"
    }
   ],
   "source": [
    "\"\"\"\n",
    "Generation of dataset using N4\n",
    "\"\"\""
   ]
  },
  {
   "cell_type": "code",
   "execution_count": 111,
   "id": "718b7f87",
   "metadata": {},
   "outputs": [
    {
     "data": {
      "text/plain": [
       "93000"
      ]
     },
     "execution_count": 111,
     "metadata": {},
     "output_type": "execute_result"
    }
   ],
   "source": [
    "len(my_files3)"
   ]
  },
  {
   "cell_type": "code",
   "execution_count": 112,
   "id": "2c294eaa",
   "metadata": {},
   "outputs": [],
   "source": [
    "for j in range(1,1001,1):\n",
    "    idx = []\n",
    "    for i in range(len(my_files3)):\n",
    "        string1 = my_files3[i]\n",
    "        p = list(map(int, re.findall(r'\\d+', string1)))\n",
    "        if p[-2] == j and p[-3] == 1 and int(p[-1])>40:\n",
    "            idx.append(i)\n",
    "    res = np.zeros((12,10,126))\n",
    "    i  = 0\n",
    "    for m in idx:\n",
    "        file = np.loadtxt(my_files3[m])\n",
    "        ewt = ewt_vineet(file,mean_boundaries)\n",
    "        ewt = ewt.transpose()\n",
    "        res[i] = ewt\n",
    "        i+=1\n",
    "    x_train.append(res)\n",
    "    y_train.append(loudness_data_n4)"
   ]
  },
  {
   "cell_type": "code",
   "execution_count": 113,
   "id": "ce268e62",
   "metadata": {},
   "outputs": [
    {
     "data": {
      "text/plain": [
       "7000"
      ]
     },
     "execution_count": 113,
     "metadata": {},
     "output_type": "execute_result"
    }
   ],
   "source": [
    "len(x_train)"
   ]
  },
  {
   "cell_type": "code",
   "execution_count": 114,
   "id": "d576e754",
   "metadata": {},
   "outputs": [],
   "source": [
    "for j in range(1,1001,1):\n",
    "    idx = []\n",
    "    for i in range(len(my_files3)):\n",
    "        string1 = my_files3[i]\n",
    "        p = list(map(int, re.findall(r'\\d+', string1)))\n",
    "        if p[-2] == j and p[-3] == 2 and int(p[-1])>40:\n",
    "            idx.append(i)\n",
    "    res = np.zeros((12,10,126))\n",
    "    i  = 0\n",
    "    for m in idx:\n",
    "        file = np.loadtxt(my_files3[m])\n",
    "        ewt = ewt_vineet(file,mean_boundaries)\n",
    "        ewt = ewt.transpose()\n",
    "        res[i] = ewt\n",
    "        i+=1\n",
    "    x_train.append(res)\n",
    "    y_train.append(loudness_data_n4)"
   ]
  },
  {
   "cell_type": "code",
   "execution_count": 115,
   "id": "69737721",
   "metadata": {},
   "outputs": [
    {
     "data": {
      "text/plain": [
       "8000"
      ]
     },
     "execution_count": 115,
     "metadata": {},
     "output_type": "execute_result"
    }
   ],
   "source": [
    "len(x_train)"
   ]
  },
  {
   "cell_type": "code",
   "execution_count": 116,
   "id": "51bb7e21",
   "metadata": {},
   "outputs": [],
   "source": [
    "for j in range(1,1001,1):\n",
    "    idx = []\n",
    "    for i in range(len(my_files3)):\n",
    "        string1 = my_files3[i]\n",
    "        p = list(map(int, re.findall(r'\\d+', string1)))\n",
    "        if p[-2] == j and p[-3] == 3 and int(p[-1])>40:\n",
    "            idx.append(i)\n",
    "    res = np.zeros((12,10,126))\n",
    "    i  = 0\n",
    "    for m in idx:\n",
    "        file = np.loadtxt(my_files3[m])\n",
    "        ewt = ewt_vineet(file,mean_boundaries)\n",
    "        ewt = ewt.transpose()\n",
    "        res[i] = ewt\n",
    "        i+=1\n",
    "    x_train.append(res)\n",
    "    y_train.append(loudness_data_n4)"
   ]
  },
  {
   "cell_type": "code",
   "execution_count": 117,
   "id": "8530ba44",
   "metadata": {},
   "outputs": [
    {
     "data": {
      "text/plain": [
       "9000"
      ]
     },
     "execution_count": 117,
     "metadata": {},
     "output_type": "execute_result"
    }
   ],
   "source": [
    "len(x_train)"
   ]
  },
  {
   "cell_type": "code",
   "execution_count": 118,
   "id": "df3969c8",
   "metadata": {},
   "outputs": [],
   "source": [
    "x = np.array(x_train)\n",
    "y = np.array(y_train)"
   ]
  },
  {
   "cell_type": "code",
   "execution_count": 119,
   "id": "3d089e97",
   "metadata": {},
   "outputs": [],
   "source": [
    "np.save('C:/users/vinee/Documents/BTP/n2_avg_r1/ewt_X_cnn',x)\n",
    "np.save('C:/users/vinee/Documents/BTP/n2_avg_r1/ewt_Y_cnn',y)"
   ]
  },
  {
   "cell_type": "code",
   "execution_count": 120,
   "id": "86b8822b",
   "metadata": {},
   "outputs": [
    {
     "data": {
      "text/plain": [
       "(9000, 12)"
      ]
     },
     "execution_count": 120,
     "metadata": {},
     "output_type": "execute_result"
    }
   ],
   "source": [
    "y.shape"
   ]
  },
  {
   "cell_type": "code",
   "execution_count": 121,
   "id": "0d570df5",
   "metadata": {},
   "outputs": [
    {
     "data": {
      "text/plain": [
       "(9000, 12, 10, 126)"
      ]
     },
     "execution_count": 121,
     "metadata": {},
     "output_type": "execute_result"
    }
   ],
   "source": [
    "x.shape"
   ]
  },
  {
   "cell_type": "code",
   "execution_count": null,
   "id": "f25f84bc",
   "metadata": {},
   "outputs": [],
   "source": []
  }
 ],
 "metadata": {
  "kernelspec": {
   "display_name": "Python 3",
   "language": "python",
   "name": "python3"
  },
  "language_info": {
   "codemirror_mode": {
    "name": "ipython",
    "version": 3
   },
   "file_extension": ".py",
   "mimetype": "text/x-python",
   "name": "python",
   "nbconvert_exporter": "python",
   "pygments_lexer": "ipython3",
   "version": "3.8.8"
  }
 },
 "nbformat": 4,
 "nbformat_minor": 5
}
