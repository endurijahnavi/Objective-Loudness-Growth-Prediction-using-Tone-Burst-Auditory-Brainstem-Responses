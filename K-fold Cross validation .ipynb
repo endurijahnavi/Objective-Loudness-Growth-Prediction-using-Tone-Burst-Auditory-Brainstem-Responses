{
 "cells": [
  {
   "cell_type": "code",
   "execution_count": 2,
   "id": "5590f2eb",
   "metadata": {},
   "outputs": [
    {
     "data": {
      "text/plain": [
       "'\\nGenerating ewt data for different cycles for all levels\\n\\nN4 F1\\n\\n'"
      ]
     },
     "execution_count": 2,
     "metadata": {},
     "output_type": "execute_result"
    }
   ],
   "source": [
    "\"\"\"\n",
    "Generating ewt data for different cycles for all levels\n",
    "\n",
    "N4 F1\n",
    "\n",
    "\"\"\""
   ]
  },
  {
   "cell_type": "code",
   "execution_count": 3,
   "id": "64b62898",
   "metadata": {},
   "outputs": [
    {
     "name": "stderr",
     "output_type": "stream",
     "text": [
      "C:\\Users\\vinee\\anaconda3\\lib\\site-packages\\scipy\\__init__.py:138: UserWarning: A NumPy version >=1.16.5 and <1.23.0 is required for this version of SciPy (detected version 1.23.2)\n",
      "  warnings.warn(f\"A NumPy version >={np_minversion} and <{np_maxversion} is required for this version of \"\n"
     ]
    }
   ],
   "source": [
    "import pandas as pd\n",
    "import numpy as np\n",
    "import pywt\n",
    "import matplotlib.pyplot as plt\n",
    "import os\n",
    "import glob\n",
    "import re"
   ]
  },
  {
   "cell_type": "code",
   "execution_count": 4,
   "id": "d819f5bd",
   "metadata": {},
   "outputs": [],
   "source": [
    "import numpy as np\n",
    "#%EWT functions\n",
    "def ewt_vineet(f,boundaries):\n",
    "    # signal spectrum\n",
    "    ff = np.fft.fft(f)\n",
    "    ff = abs(ff[0:int(np.ceil(ff.size / 2))])  # one-sided magnitude\n",
    "\n",
    "    #extend the signal by mirroring to deal with boundaries\n",
    "    ltemp = int(np.ceil(f.size/2)) #to behave the same as matlab's round\n",
    "    fMirr =  np.append(np.flip(f[0:ltemp-1],axis = 0),f)\n",
    "    fMirr = np.append(fMirr,np.flip(f[-ltemp-1:-1],axis = 0))\n",
    "    ffMirr = np.fft.fft(fMirr)\n",
    "    # build the corresponding filter bank\n",
    "    mfb = EWT_Meyer_FilterBank(boundaries, ffMirr.size)\n",
    "\n",
    "    # filter the signal to extract each subband\n",
    "    ewt = np.zeros(mfb.shape)\n",
    "    for k in range(mfb.shape[1]):\n",
    "        ewt[:, k] = np.real(np.fft.ifft(np.conjugate(mfb[:, k]) * ffMirr))\n",
    "    ewt = ewt[ltemp - 1:-ltemp, :]\n",
    "\n",
    "    return ewt\n",
    "\n",
    "\n",
    "def EWT_Meyer_FilterBank(boundaries, Nsig):\n",
    "    \"\"\"\n",
    "     =========================================================================\n",
    "     function mfb=EWT_Meyer_FilterBank(boundaries,Nsig)\n",
    "\n",
    "     This function generate the filter bank (scaling function + wavelets)\n",
    "     corresponding to the provided set of frequency segments\n",
    "\n",
    "     Input parameters:\n",
    "       -boundaries: vector containing the boundaries of frequency segments (0\n",
    "                    and pi must NOT be in this vector)\n",
    "       -Nsig: signal length\n",
    "\n",
    "     Output:\n",
    "       -mfb: cell containing each filter (in the Fourier domain), the scaling\n",
    "             function comes first and then the successive wavelets\n",
    "\n",
    "     Author: Jerome Gilles\n",
    "     Institution: UCLA - Department of Mathematics\n",
    "     Year: 2012\n",
    "     Version: 1.0\n",
    "\n",
    "     Python Version: Vinícius Rezende Carvalho - vrcarva@ufmg.br\n",
    "     Universidade Federal de Minas Gerais - Brasil\n",
    "     Núcleo de Neurociências\n",
    "     =========================================================================\n",
    "     \"\"\"\n",
    "    Npic = len(boundaries)\n",
    "    # compute gamma\n",
    "    gamma = 1\n",
    "    for k in range(Npic - 1):\n",
    "        r = (boundaries[k + 1] - boundaries[k]) / (boundaries[k + 1] + boundaries[k])\n",
    "        if r < gamma:\n",
    "            gamma = r\n",
    "    r = (np.pi - boundaries[Npic - 1]) / (np.pi + boundaries[Npic - 1])\n",
    "    if r < gamma:\n",
    "        gamma = r\n",
    "    gamma = (1 - 1 / Nsig) * gamma  # this ensure that gamma is chosen as strictly less than the min\n",
    "\n",
    "    mfb = np.zeros([Nsig, Npic + 1])\n",
    "\n",
    "    # EWT_Meyer_Scaling\n",
    "    Mi = int(np.floor(Nsig / 2))\n",
    "    w = np.fft.fftshift(np.linspace(0, 2 * np.pi - 2 * np.pi / Nsig, num=Nsig))\n",
    "    w[0:Mi] = -2 * np.pi + w[0:Mi]\n",
    "    aw = abs(w)\n",
    "    yms = np.zeros(Nsig)\n",
    "    an = 1. / (2 * gamma * boundaries[0])\n",
    "    pbn = (1. + gamma) * boundaries[0]\n",
    "    mbn = (1. - gamma) * boundaries[0]\n",
    "    for k in range(Nsig):\n",
    "        if aw[k] <= mbn:\n",
    "            yms[k] = 1\n",
    "        elif ((aw[k] >= mbn) and (aw[k] <= pbn)):\n",
    "            yms[k] = np.cos(np.pi * EWT_beta(an * (aw[k] - mbn)) / 2)\n",
    "    yms = np.fft.ifftshift(yms)\n",
    "    mfb[:, 0] = yms\n",
    "\n",
    "    # generate rest of the wavelets\n",
    "    for k in range(Npic - 1):\n",
    "        mfb[:, k + 1] = EWT_Meyer_Wavelet(boundaries[k], boundaries[k + 1], gamma, Nsig)\n",
    "\n",
    "    mfb[:, Npic] = EWT_Meyer_Wavelet(boundaries[Npic - 1], np.pi, gamma, Nsig)\n",
    "\n",
    "    return mfb\n",
    "def EWT_beta(x):\n",
    "    \"\"\"\n",
    "    Beta = EWT_beta(x)\n",
    "    function used in the construction of Meyer's wavelet\n",
    "    \"\"\"\n",
    "    if x<0:\n",
    "        bm=0\n",
    "    elif x>1:\n",
    "        bm=1\n",
    "    else:\n",
    "        bm=(x**4)*(35.-84.*x+70.*(x**2)-20.*(x**3))\n",
    "    return bm\n",
    "def EWT_Meyer_Wavelet(wn,wm,gamma,Nsig):\n",
    "    \"\"\"\n",
    "    =========================================================\n",
    "    ymw=EWT_Meyer_Wavelet(wn,wm,gamma,N)\n",
    "    \n",
    "    Generate the 1D Meyer wavelet in the Fourier\n",
    "    domain associated to scale segment [wn,wm] \n",
    "    with transition ratio gamma\n",
    "    \n",
    "    Input parameters:\n",
    "      -wn : lower boundary\n",
    "      -wm : upper boundary\n",
    "      -gamma : transition ratio\n",
    "      -N : number of point in the vector\n",
    "    \n",
    "    Output:\n",
    "      -ymw: Fourier transform of the wavelet on the band [wn,wm]\n",
    "    Author: Jerome Gilles\n",
    "    Institution: UCLA - Department of Mathematics\n",
    "    Year: 2012\n",
    "    Version: 1.0\n",
    "    \n",
    "    Python Version: Vinícius Rezende Carvalho - vrcarva@ufmg.br\n",
    "    Universidade Federal de Minas Gerais - Brasil\n",
    "    Núcleo de Neurociências \n",
    "    ==========================================================            \n",
    "    \"\"\"\n",
    "    Mi=int(np.floor(Nsig/2))\n",
    "    w=np.fft.fftshift(np.linspace(0,2*np.pi - 2*np.pi/Nsig,num = Nsig))\n",
    "    w[0:Mi]=-2*np.pi+w[0:Mi]\n",
    "    aw=abs(w)\n",
    "    ymw=np.zeros(Nsig)\n",
    "    an=1./(2*gamma*wn)\n",
    "    am=1./(2*gamma*wm)\n",
    "    pbn=(1.+gamma)*wn\n",
    "    mbn=(1.-gamma)*wn\n",
    "    pbm=(1.+gamma)*wm\n",
    "    mbm=(1.-gamma)*wm\n",
    "\n",
    "    for k in range(Nsig):\n",
    "        if ((aw[k]>=pbn) and (aw[k]<=mbm)):\n",
    "            ymw[k]=1\n",
    "        elif ((aw[k]>=mbm) and (aw[k]<=pbm)):\n",
    "            ymw[k]=np.cos(np.pi*EWT_beta(am*(aw[k]-mbm))/2)\n",
    "        elif ((aw[k]>=mbn) and (aw[k]<=pbn)):\n",
    "            ymw[k]=np.sin(np.pi*EWT_beta(an*(aw[k]-mbn))/2)\n",
    "    ymw=np.fft.ifftshift(ymw)\n",
    "    return ymw"
   ]
  },
  {
   "cell_type": "markdown",
   "id": "12b5ac7e",
   "metadata": {},
   "source": [
    "<h4>Boundaries to be used for EWT Computation will be the average boundaries obtained  from N1R1"
   ]
  },
  {
   "cell_type": "code",
   "execution_count": 5,
   "id": "4c34018c",
   "metadata": {},
   "outputs": [],
   "source": [
    "boundaries = np.array([0.63679854007417,1.24043747184364,1.90051054875325,2.19052315291591,2.42542041587323,2.62882317400665,2.76529989452493,2.88996614389811,3.01463240497312])"
   ]
  },
  {
   "cell_type": "code",
   "execution_count": 6,
   "id": "6171a41f",
   "metadata": {},
   "outputs": [
    {
     "data": {
      "text/plain": [
       "'C:\\\\Users\\\\vinee\\\\Documents\\\\BTP'"
      ]
     },
     "execution_count": 6,
     "metadata": {},
     "output_type": "execute_result"
    }
   ],
   "source": [
    "pwd"
   ]
  },
  {
   "cell_type": "code",
   "execution_count": 10,
   "id": "72c3fddf",
   "metadata": {
    "scrolled": true
   },
   "outputs": [
    {
     "name": "stdout",
     "output_type": "stream",
     "text": [
      "C:\\Users\\vinee\\Documents\\BTP\\resampled_dataset_f1_n1\\resampled_dataset\n"
     ]
    }
   ],
   "source": [
    "cd resampled_dataset/"
   ]
  },
  {
   "cell_type": "code",
   "execution_count": 23,
   "id": "1b078d3b",
   "metadata": {},
   "outputs": [
    {
     "name": "stdout",
     "output_type": "stream",
     "text": [
      "C:\\Users\\vinee\\Documents\\BTP\\resampled_dataset_f1_n1\n"
     ]
    }
   ],
   "source": [
    "cd .."
   ]
  },
  {
   "cell_type": "code",
   "execution_count": 11,
   "id": "758c6936",
   "metadata": {},
   "outputs": [],
   "source": [
    "def dataset(folder,boundaries,loudness_data,x_train,y_train):\n",
    "    os.chdir(folder)\n",
    "    my_files = glob.glob('*txt')\n",
    "    for r in range(1,4,1):\n",
    "        for j in range(1,1001,1):\n",
    "            idx = []\n",
    "            for i in range(len(my_files)):\n",
    "                string1 = my_files[i]\n",
    "                p = list(map(int, re.findall(r'\\d+', string1)))\n",
    "                if p[-2] == j and p[-3] == r and int(p[-1])>40:\n",
    "                    idx.append(i)\n",
    "            res = np.zeros((12,10,126))\n",
    "            i  = 0\n",
    "            for m in idx:\n",
    "                file = np.loadtxt(my_files[m])\n",
    "                ewt = ewt_vineet(file,boundaries)\n",
    "                ewt = ewt.transpose()\n",
    "                res[i] = ewt\n",
    "                i+=1\n",
    "            x_train.append(res)\n",
    "            y_train.append(loudness_data)\n",
    "    return x_train,y_train"
   ]
  },
  {
   "cell_type": "code",
   "execution_count": 12,
   "id": "1c5b24db",
   "metadata": {},
   "outputs": [
    {
     "data": {
      "text/plain": [
       "'C:\\\\Users\\\\vinee\\\\Documents\\\\BTP\\\\resampled_dataset_f1_n1\\\\resampled_dataset'"
      ]
     },
     "execution_count": 12,
     "metadata": {},
     "output_type": "execute_result"
    }
   ],
   "source": [
    "pwd"
   ]
  },
  {
   "cell_type": "code",
   "execution_count": 13,
   "id": "1797cdac",
   "metadata": {},
   "outputs": [
    {
     "name": "stdout",
     "output_type": "stream",
     "text": [
      "C:\\Users\\vinee\\Documents\\BTP\\resampled_dataset_f1_n1\n"
     ]
    }
   ],
   "source": [
    "cd .."
   ]
  },
  {
   "cell_type": "code",
   "execution_count": 28,
   "id": "cdb88ab0",
   "metadata": {},
   "outputs": [],
   "source": [
    "x_train = []\n",
    "y_train = []"
   ]
  },
  {
   "cell_type": "code",
   "execution_count": 15,
   "id": "6a06fe97",
   "metadata": {},
   "outputs": [],
   "source": [
    "loudness_data_n1 = np.array([0.203489,0.461973,0.421456,0.525431,0.691075,0.733513,0.761766,1.076224,1.245589,1.340460,1.642738,1.773085])"
   ]
  },
  {
   "cell_type": "code",
   "execution_count": 25,
   "id": "b15d8128",
   "metadata": {},
   "outputs": [],
   "source": [
    "x_train,y_train = dataset('resampled_dataset',boundaries,loudness_data_n1,x_train,y_train)"
   ]
  },
  {
   "cell_type": "code",
   "execution_count": 29,
   "id": "8ed7592b",
   "metadata": {},
   "outputs": [
    {
     "data": {
      "text/plain": [
       "0"
      ]
     },
     "execution_count": 29,
     "metadata": {},
     "output_type": "execute_result"
    }
   ],
   "source": [
    "len(x_train)"
   ]
  },
  {
   "cell_type": "code",
   "execution_count": 32,
   "id": "86961e80",
   "metadata": {},
   "outputs": [],
   "source": [
    "my_files = glob.glob('*txt')"
   ]
  },
  {
   "cell_type": "code",
   "execution_count": 33,
   "id": "ed3e8feb",
   "metadata": {},
   "outputs": [
    {
     "data": {
      "text/plain": [
       "131000"
      ]
     },
     "execution_count": 33,
     "metadata": {},
     "output_type": "execute_result"
    }
   ],
   "source": [
    "len(my_files)"
   ]
  },
  {
   "cell_type": "code",
   "execution_count": 35,
   "id": "df3bf604",
   "metadata": {},
   "outputs": [],
   "source": [
    "for j in range(1,1001,1):\n",
    "    idx = []\n",
    "    for i in range(len(my_files)):\n",
    "        string1 = my_files[i]\n",
    "        p = list(map(int, re.findall(r'\\d+', string1)))\n",
    "        if p[-2] == j and p[-3] == 1 and int(p[-1])>40:\n",
    "            idx.append(i)\n",
    "    res = np.zeros((12,10,126))\n",
    "    i  = 0\n",
    "    for m in idx:\n",
    "        file = np.loadtxt(my_files[m])\n",
    "        ewt = ewt_vineet(file,boundaries)\n",
    "        ewt = ewt.transpose()\n",
    "        res[i] = ewt\n",
    "        i+=1\n",
    "    x_train.append(res)\n",
    "    y_train.append(loudness_data_n1)"
   ]
  },
  {
   "cell_type": "code",
   "execution_count": 40,
   "id": "84ae99b6",
   "metadata": {},
   "outputs": [],
   "source": [
    "for j in range(1,1001,1):\n",
    "    idx = []\n",
    "    for i in range(len(my_files)):\n",
    "        string1 = my_files[i]\n",
    "        p = list(map(int, re.findall(r'\\d+', string1)))\n",
    "        if p[-2] == j and p[-3] == 2 and int(p[-1])>40:\n",
    "            idx.append(i)\n",
    "    res = np.zeros((12,10,126))\n",
    "    i  = 0\n",
    "    for m in idx:\n",
    "        file = np.loadtxt(my_files[m])\n",
    "        ewt = ewt_vineet(file,boundaries)\n",
    "        ewt = ewt.transpose()\n",
    "        res[i] = ewt\n",
    "        i+=1\n",
    "    x_train.append(res)\n",
    "    y_train.append(loudness_data_n1)"
   ]
  },
  {
   "cell_type": "code",
   "execution_count": 41,
   "id": "799025d0",
   "metadata": {},
   "outputs": [],
   "source": [
    "for j in range(1,1001,1):\n",
    "    idx = []\n",
    "    for i in range(len(my_files)):\n",
    "        string1 = my_files[i]\n",
    "        p = list(map(int, re.findall(r'\\d+', string1)))\n",
    "        if p[-2] == j and p[-3] == 3 and int(p[-1])>40:\n",
    "            idx.append(i)\n",
    "    res = np.zeros((12,10,126))\n",
    "    i  = 0\n",
    "    for m in idx:\n",
    "        file = np.loadtxt(my_files[m])\n",
    "        ewt = ewt_vineet(file,boundaries)\n",
    "        ewt = ewt.transpose()\n",
    "        res[i] = ewt\n",
    "        i+=1\n",
    "    x_train.append(res)\n",
    "    y_train.append(loudness_data_n1)"
   ]
  },
  {
   "cell_type": "code",
   "execution_count": 44,
   "id": "fa77ec05",
   "metadata": {},
   "outputs": [],
   "source": [
    "x = np.array(x_train)\n",
    "y = np.array(y_train)"
   ]
  },
  {
   "cell_type": "code",
   "execution_count": 43,
   "id": "6336f4cb",
   "metadata": {},
   "outputs": [
    {
     "data": {
      "text/plain": [
       "3000"
      ]
     },
     "execution_count": 43,
     "metadata": {},
     "output_type": "execute_result"
    }
   ],
   "source": [
    "len(y_train)"
   ]
  },
  {
   "cell_type": "code",
   "execution_count": 45,
   "id": "f9bf45e1",
   "metadata": {},
   "outputs": [
    {
     "name": "stdout",
     "output_type": "stream",
     "text": [
      "C:\\Users\\vinee\\Documents\\BTP\\resampled_dataset_f1_n1\n"
     ]
    }
   ],
   "source": [
    "cd .."
   ]
  },
  {
   "cell_type": "code",
   "execution_count": 46,
   "id": "87f25f08",
   "metadata": {},
   "outputs": [
    {
     "name": "stdout",
     "output_type": "stream",
     "text": [
      "C:\\Users\\vinee\\Documents\\BTP\n"
     ]
    }
   ],
   "source": [
    "cd .."
   ]
  },
  {
   "cell_type": "code",
   "execution_count": 52,
   "id": "8b9863ba",
   "metadata": {},
   "outputs": [],
   "source": [
    "os.chdir('resampled_dataset_f1_n2/')"
   ]
  },
  {
   "cell_type": "code",
   "execution_count": 53,
   "id": "dba44a02",
   "metadata": {},
   "outputs": [],
   "source": [
    "my_files = glob.glob('*txt')"
   ]
  },
  {
   "cell_type": "code",
   "execution_count": 54,
   "id": "902f5899",
   "metadata": {
    "scrolled": true
   },
   "outputs": [
    {
     "data": {
      "text/plain": [
       "101000"
      ]
     },
     "execution_count": 54,
     "metadata": {},
     "output_type": "execute_result"
    }
   ],
   "source": [
    "len(my_files)"
   ]
  },
  {
   "cell_type": "code",
   "execution_count": 55,
   "id": "0226a424",
   "metadata": {},
   "outputs": [],
   "source": [
    "loudness_data_n2 = np.array([-0.767364,-0.476870,-0.193201,0.078374,0.172603,0.419829,0.500441,0.720262,0.920215,1.080807,1.295526,1.501556])\n"
   ]
  },
  {
   "cell_type": "code",
   "execution_count": 56,
   "id": "bce321c8",
   "metadata": {},
   "outputs": [],
   "source": [
    "for j in range(1,1001,1):\n",
    "    idx = []\n",
    "    for i in range(len(my_files)):\n",
    "        string1 = my_files[i]\n",
    "        p = list(map(int, re.findall(r'\\d+', string1)))\n",
    "        if p[-2] == j and p[-3] == 1 and int(p[-1])>40:\n",
    "            idx.append(i)\n",
    "    res = np.zeros((12,10,126))\n",
    "    i  = 0\n",
    "    for m in idx:\n",
    "        file = np.loadtxt(my_files[m])\n",
    "        ewt = ewt_vineet(file,boundaries)\n",
    "        ewt = ewt.transpose()\n",
    "        res[i] = ewt\n",
    "        i+=1\n",
    "    x_train.append(res)\n",
    "    y_train.append(loudness_data_n2)"
   ]
  },
  {
   "cell_type": "code",
   "execution_count": 57,
   "id": "b4fb2cf2",
   "metadata": {},
   "outputs": [
    {
     "data": {
      "text/plain": [
       "4000"
      ]
     },
     "execution_count": 57,
     "metadata": {},
     "output_type": "execute_result"
    }
   ],
   "source": [
    "len(x_train)"
   ]
  },
  {
   "cell_type": "code",
   "execution_count": 58,
   "id": "0d9469a9",
   "metadata": {},
   "outputs": [],
   "source": [
    "for j in range(1,1001,1):\n",
    "    idx = []\n",
    "    for i in range(len(my_files)):\n",
    "        string1 = my_files[i]\n",
    "        p = list(map(int, re.findall(r'\\d+', string1)))\n",
    "        if p[-2] == j and p[-3] == 2 and int(p[-1])>40:\n",
    "            idx.append(i)\n",
    "    res = np.zeros((12,10,126))\n",
    "    i  = 0\n",
    "    for m in idx:\n",
    "        file = np.loadtxt(my_files[m])\n",
    "        ewt = ewt_vineet(file,boundaries)\n",
    "        ewt = ewt.transpose()\n",
    "        res[i] = ewt\n",
    "        i+=1\n",
    "    x_train.append(res)\n",
    "    y_train.append(loudness_data_n2)"
   ]
  },
  {
   "cell_type": "code",
   "execution_count": 61,
   "id": "4c337f25",
   "metadata": {},
   "outputs": [
    {
     "data": {
      "text/plain": [
       "6000"
      ]
     },
     "execution_count": 61,
     "metadata": {},
     "output_type": "execute_result"
    }
   ],
   "source": [
    "len(x_train)"
   ]
  },
  {
   "cell_type": "code",
   "execution_count": 60,
   "id": "4cd1e2a8",
   "metadata": {},
   "outputs": [],
   "source": [
    "for j in range(1,1001,1):\n",
    "    idx = []\n",
    "    for i in range(len(my_files)):\n",
    "        string1 = my_files[i]\n",
    "        p = list(map(int, re.findall(r'\\d+', string1)))\n",
    "        if p[-2] == j and p[-3] == 3 and int(p[-1])>40:\n",
    "            idx.append(i)\n",
    "    res = np.zeros((12,10,126))\n",
    "    i  = 0\n",
    "    for m in idx:\n",
    "        file = np.loadtxt(my_files[m])\n",
    "        ewt = ewt_vineet(file,boundaries)\n",
    "        ewt = ewt.transpose()\n",
    "        res[i] = ewt\n",
    "        i+=1\n",
    "    x_train.append(res)\n",
    "    y_train.append(loudness_data_n2)"
   ]
  },
  {
   "cell_type": "code",
   "execution_count": 63,
   "id": "1c8c1440",
   "metadata": {},
   "outputs": [
    {
     "name": "stdout",
     "output_type": "stream",
     "text": [
      "C:\\Users\\vinee\\Documents\\BTP\\resampled_dataset_f1_n2\n"
     ]
    }
   ],
   "source": [
    "cd .."
   ]
  },
  {
   "cell_type": "code",
   "execution_count": 64,
   "id": "c3068ec0",
   "metadata": {},
   "outputs": [
    {
     "name": "stdout",
     "output_type": "stream",
     "text": [
      "C:\\Users\\vinee\\Documents\\BTP\n"
     ]
    }
   ],
   "source": [
    "cd .."
   ]
  },
  {
   "cell_type": "code",
   "execution_count": 65,
   "id": "0375c30c",
   "metadata": {},
   "outputs": [],
   "source": [
    "os.chdir('resampled_dataset_f1_n4/')"
   ]
  },
  {
   "cell_type": "code",
   "execution_count": 66,
   "id": "58e14321",
   "metadata": {},
   "outputs": [],
   "source": [
    "my_files = glob.glob('*txt')"
   ]
  },
  {
   "cell_type": "code",
   "execution_count": 67,
   "id": "2c1aede7",
   "metadata": {},
   "outputs": [
    {
     "data": {
      "text/plain": [
       "93000"
      ]
     },
     "execution_count": 67,
     "metadata": {},
     "output_type": "execute_result"
    }
   ],
   "source": [
    "len(my_files)"
   ]
  },
  {
   "cell_type": "code",
   "execution_count": 12,
   "id": "e43cf83c",
   "metadata": {},
   "outputs": [],
   "source": [
    "loudness_data_n4 = np.array([0.502216,0.559076,0.654683,0.955243,0.968337,0.885020,0.965291,1.290606,1.397530,1.460671,1.729242,1.781090])\n"
   ]
  },
  {
   "cell_type": "code",
   "execution_count": 70,
   "id": "7ac292bb",
   "metadata": {},
   "outputs": [],
   "source": [
    "x = np.array(x_train)"
   ]
  },
  {
   "cell_type": "code",
   "execution_count": 71,
   "id": "863ca8b9",
   "metadata": {},
   "outputs": [],
   "source": [
    "y = np.array(y_train)"
   ]
  },
  {
   "cell_type": "code",
   "execution_count": 72,
   "id": "4797d7ec",
   "metadata": {},
   "outputs": [
    {
     "data": {
      "text/plain": [
       "(6000, 12, 10, 126)"
      ]
     },
     "execution_count": 72,
     "metadata": {},
     "output_type": "execute_result"
    }
   ],
   "source": [
    "x.shape"
   ]
  },
  {
   "cell_type": "code",
   "execution_count": 73,
   "id": "0fda53df",
   "metadata": {},
   "outputs": [
    {
     "data": {
      "text/plain": [
       "(6000, 12)"
      ]
     },
     "execution_count": 73,
     "metadata": {},
     "output_type": "execute_result"
    }
   ],
   "source": [
    "y.shape"
   ]
  },
  {
   "cell_type": "code",
   "execution_count": 74,
   "id": "ec0710fd",
   "metadata": {},
   "outputs": [],
   "source": [
    "for j in range(1,1001,1):\n",
    "    idx = []\n",
    "    for i in range(len(my_files)):\n",
    "        string1 = my_files[i]\n",
    "        p = list(map(int, re.findall(r'\\d+', string1)))\n",
    "        if p[-2] == j and p[-3] == 1 and int(p[-1])>40:\n",
    "            idx.append(i)\n",
    "    res = np.zeros((12,10,126))\n",
    "    i  = 0\n",
    "    for m in idx:\n",
    "        file = np.loadtxt(my_files[m])\n",
    "        ewt = ewt_vineet(file,boundaries)\n",
    "        ewt = ewt.transpose()\n",
    "        res[i] = ewt\n",
    "        i+=1\n",
    "    x_train.append(res)\n",
    "    y_train.append(loudness_data_n4)"
   ]
  },
  {
   "cell_type": "code",
   "execution_count": 75,
   "id": "a2dab634",
   "metadata": {},
   "outputs": [],
   "source": [
    "for j in range(1,1001,1):\n",
    "    idx = []\n",
    "    for i in range(len(my_files)):\n",
    "        string1 = my_files[i]\n",
    "        p = list(map(int, re.findall(r'\\d+', string1)))\n",
    "        if p[-2] == j and p[-3] == 2 and int(p[-1])>40:\n",
    "            idx.append(i)\n",
    "    res = np.zeros((12,10,126))\n",
    "    i  = 0\n",
    "    for m in idx:\n",
    "        file = np.loadtxt(my_files[m])\n",
    "        ewt = ewt_vineet(file,boundaries)\n",
    "        ewt = ewt.transpose()\n",
    "        res[i] = ewt\n",
    "        i+=1\n",
    "    x_train.append(res)\n",
    "    y_train.append(loudness_data_n4)"
   ]
  },
  {
   "cell_type": "code",
   "execution_count": 76,
   "id": "1efc2101",
   "metadata": {},
   "outputs": [],
   "source": [
    "for j in range(1,1001,1):\n",
    "    idx = []\n",
    "    for i in range(len(my_files)):\n",
    "        string1 = my_files[i]\n",
    "        p = list(map(int, re.findall(r'\\d+', string1)))\n",
    "        if p[-2] == j and p[-3] == 3 and int(p[-1])>40:\n",
    "            idx.append(i)\n",
    "    res = np.zeros((12,10,126))\n",
    "    i  = 0\n",
    "    for m in idx:\n",
    "        file = np.loadtxt(my_files[m])\n",
    "        ewt = ewt_vineet(file,boundaries)\n",
    "        ewt = ewt.transpose()\n",
    "        res[i] = ewt\n",
    "        i+=1\n",
    "    x_train.append(res)\n",
    "    y_train.append(loudness_data_n4)"
   ]
  },
  {
   "cell_type": "code",
   "execution_count": 77,
   "id": "70c69c7a",
   "metadata": {},
   "outputs": [
    {
     "data": {
      "text/plain": [
       "9000"
      ]
     },
     "execution_count": 77,
     "metadata": {},
     "output_type": "execute_result"
    }
   ],
   "source": [
    "len(x_train)"
   ]
  },
  {
   "cell_type": "code",
   "execution_count": 78,
   "id": "4f7057be",
   "metadata": {},
   "outputs": [
    {
     "data": {
      "text/plain": [
       "9000"
      ]
     },
     "execution_count": 78,
     "metadata": {},
     "output_type": "execute_result"
    }
   ],
   "source": [
    "len(y_train)"
   ]
  },
  {
   "cell_type": "code",
   "execution_count": 79,
   "id": "d6262336",
   "metadata": {},
   "outputs": [
    {
     "name": "stdout",
     "output_type": "stream",
     "text": [
      "C:\\Users\\vinee\\Documents\\BTP\n"
     ]
    }
   ],
   "source": [
    "cd .."
   ]
  },
  {
   "cell_type": "code",
   "execution_count": 80,
   "id": "d9b1f9be",
   "metadata": {},
   "outputs": [
    {
     "name": "stderr",
     "output_type": "stream",
     "text": [
      "<ipython-input-80-2e813cd87558>:2: VisibleDeprecationWarning: Creating an ndarray from ragged nested sequences (which is a list-or-tuple of lists-or-tuples-or ndarrays with different lengths or shapes) is deprecated. If you meant to do this, you must specify 'dtype=object' when creating the ndarray.\n",
      "  y = np.array(y_train)\n"
     ]
    }
   ],
   "source": [
    "x = np.array(x_train)\n",
    "y = np.array(y_train)"
   ]
  },
  {
   "cell_type": "code",
   "execution_count": 81,
   "id": "87e6c48e",
   "metadata": {},
   "outputs": [
    {
     "data": {
      "text/plain": [
       "(9000, 12, 10, 126)"
      ]
     },
     "execution_count": 81,
     "metadata": {},
     "output_type": "execute_result"
    }
   ],
   "source": [
    "x.shape"
   ]
  },
  {
   "cell_type": "code",
   "execution_count": 82,
   "id": "3b0af887",
   "metadata": {},
   "outputs": [
    {
     "data": {
      "text/plain": [
       "(9000,)"
      ]
     },
     "execution_count": 82,
     "metadata": {},
     "output_type": "execute_result"
    }
   ],
   "source": [
    "y.shape"
   ]
  },
  {
   "cell_type": "code",
   "execution_count": 84,
   "id": "a34f5bc3",
   "metadata": {},
   "outputs": [
    {
     "data": {
      "text/plain": [
       "14"
      ]
     },
     "execution_count": 84,
     "metadata": {},
     "output_type": "execute_result"
    }
   ],
   "source": [
    "len(y_train[8998])"
   ]
  },
  {
   "cell_type": "code",
   "execution_count": 85,
   "id": "a30c8559",
   "metadata": {},
   "outputs": [
    {
     "data": {
      "text/plain": [
       "array([0.203489, 0.461973, 0.421456, 0.525431, 0.691075, 0.733513,\n",
       "       0.761766, 1.076224, 1.245589, 1.34046 , 1.642738, 1.773085])"
      ]
     },
     "execution_count": 85,
     "metadata": {},
     "output_type": "execute_result"
    }
   ],
   "source": [
    "y[0]"
   ]
  },
  {
   "cell_type": "code",
   "execution_count": 86,
   "id": "419e8198",
   "metadata": {},
   "outputs": [
    {
     "data": {
      "text/plain": [
       "12"
      ]
     },
     "execution_count": 86,
     "metadata": {},
     "output_type": "execute_result"
    }
   ],
   "source": [
    "len(y[0])"
   ]
  },
  {
   "cell_type": "code",
   "execution_count": 88,
   "id": "25d3be91",
   "metadata": {},
   "outputs": [
    {
     "data": {
      "text/plain": [
       "12"
      ]
     },
     "execution_count": 88,
     "metadata": {},
     "output_type": "execute_result"
    }
   ],
   "source": [
    "len(y[5999])"
   ]
  },
  {
   "cell_type": "code",
   "execution_count": 90,
   "id": "5c84a05c",
   "metadata": {},
   "outputs": [
    {
     "data": {
      "text/plain": [
       "12"
      ]
     },
     "execution_count": 90,
     "metadata": {},
     "output_type": "execute_result"
    }
   ],
   "source": [
    "len(loudness_data_n4)"
   ]
  },
  {
   "cell_type": "code",
   "execution_count": 91,
   "id": "9ef3d697",
   "metadata": {},
   "outputs": [
    {
     "data": {
      "text/plain": [
       "12"
      ]
     },
     "execution_count": 91,
     "metadata": {},
     "output_type": "execute_result"
    }
   ],
   "source": [
    "len(loudness_data_n1)"
   ]
  },
  {
   "cell_type": "code",
   "execution_count": 92,
   "id": "54b39725",
   "metadata": {},
   "outputs": [
    {
     "data": {
      "text/plain": [
       "12"
      ]
     },
     "execution_count": 92,
     "metadata": {},
     "output_type": "execute_result"
    }
   ],
   "source": [
    "len(loudness_data_n2)"
   ]
  },
  {
   "cell_type": "code",
   "execution_count": 93,
   "id": "00212c64",
   "metadata": {},
   "outputs": [],
   "source": [
    "for i in range(5999,9000):\n",
    "    y_train[i] = loudness_data_n4"
   ]
  },
  {
   "cell_type": "code",
   "execution_count": 94,
   "id": "5a9ffff1",
   "metadata": {},
   "outputs": [],
   "source": [
    "y = np.array(y_train)"
   ]
  },
  {
   "cell_type": "code",
   "execution_count": 95,
   "id": "65426640",
   "metadata": {},
   "outputs": [
    {
     "data": {
      "text/plain": [
       "(9000, 12)"
      ]
     },
     "execution_count": 95,
     "metadata": {},
     "output_type": "execute_result"
    }
   ],
   "source": [
    "y.shape"
   ]
  },
  {
   "cell_type": "code",
   "execution_count": 96,
   "id": "ec19e50b",
   "metadata": {},
   "outputs": [
    {
     "data": {
      "text/plain": [
       "(9000, 12, 10, 126)"
      ]
     },
     "execution_count": 96,
     "metadata": {},
     "output_type": "execute_result"
    }
   ],
   "source": [
    "x.shape"
   ]
  },
  {
   "cell_type": "code",
   "execution_count": 97,
   "id": "522a2710",
   "metadata": {},
   "outputs": [
    {
     "data": {
      "text/plain": [
       "'C:\\\\Users\\\\vinee\\\\Documents\\\\BTP'"
      ]
     },
     "execution_count": 97,
     "metadata": {},
     "output_type": "execute_result"
    }
   ],
   "source": [
    "pwd"
   ]
  },
  {
   "cell_type": "code",
   "execution_count": 98,
   "id": "9f4fdd1d",
   "metadata": {},
   "outputs": [],
   "source": [
    "os.chdir('resampled_dataset_f1_n5/')"
   ]
  },
  {
   "cell_type": "code",
   "execution_count": 99,
   "id": "9929df8a",
   "metadata": {},
   "outputs": [],
   "source": [
    "my_files=  glob.glob('*txt')"
   ]
  },
  {
   "cell_type": "code",
   "execution_count": 100,
   "id": "d6351bd9",
   "metadata": {},
   "outputs": [
    {
     "data": {
      "text/plain": [
       "109000"
      ]
     },
     "execution_count": 100,
     "metadata": {},
     "output_type": "execute_result"
    }
   ],
   "source": [
    "len(my_files)"
   ]
  },
  {
   "cell_type": "code",
   "execution_count": 20,
   "id": "ef555750",
   "metadata": {},
   "outputs": [],
   "source": [
    "loudness_data_n5 = np.array([0.776163,0.859717,0.739199,1.114550,1.283773,1.146815,1.214429,1.605921,1.819364,1.927476,2.032690,2.031693])\n"
   ]
  },
  {
   "cell_type": "code",
   "execution_count": 106,
   "id": "7e992503",
   "metadata": {},
   "outputs": [
    {
     "data": {
      "text/plain": [
       "12"
      ]
     },
     "execution_count": 106,
     "metadata": {},
     "output_type": "execute_result"
    }
   ],
   "source": [
    "len(loudness_data_n5)"
   ]
  },
  {
   "cell_type": "code",
   "execution_count": 107,
   "id": "ecb63d30",
   "metadata": {},
   "outputs": [],
   "source": [
    "for j in range(1,1001,1):\n",
    "    idx = []\n",
    "    for i in range(len(my_files)):\n",
    "        string1 = my_files[i]\n",
    "        p = list(map(int, re.findall(r'\\d+', string1)))\n",
    "        if p[-2] == j and p[-3] == 1 and int(p[-1])>40:\n",
    "            idx.append(i)\n",
    "    res = np.zeros((12,10,126))\n",
    "    i  = 0\n",
    "    for m in idx:\n",
    "        file = np.loadtxt(my_files[m])\n",
    "        ewt = ewt_vineet(file,boundaries)\n",
    "        ewt = ewt.transpose()\n",
    "        res[i] = ewt\n",
    "        i+=1\n",
    "    x_train.append(res)\n",
    "    y_train.append(loudness_data_n5)"
   ]
  },
  {
   "cell_type": "code",
   "execution_count": 108,
   "id": "7d600c66",
   "metadata": {},
   "outputs": [],
   "source": [
    "for j in range(1,1001,1):\n",
    "    idx = []\n",
    "    for i in range(len(my_files)):\n",
    "        string1 = my_files[i]\n",
    "        p = list(map(int, re.findall(r'\\d+', string1)))\n",
    "        if p[-2] == j and p[-3] == 2 and int(p[-1])>40:\n",
    "            idx.append(i)\n",
    "    res = np.zeros((12,10,126))\n",
    "    i  = 0\n",
    "    for m in idx:\n",
    "        file = np.loadtxt(my_files[m])\n",
    "        ewt = ewt_vineet(file,boundaries)\n",
    "        ewt = ewt.transpose()\n",
    "        res[i] = ewt\n",
    "        i+=1\n",
    "    x_train.append(res)\n",
    "    y_train.append(loudness_data_n5)"
   ]
  },
  {
   "cell_type": "code",
   "execution_count": 109,
   "id": "ba3e01fe",
   "metadata": {},
   "outputs": [],
   "source": [
    "for j in range(1,1001,1):\n",
    "    idx = []\n",
    "    for i in range(len(my_files)):\n",
    "        string1 = my_files[i]\n",
    "        p = list(map(int, re.findall(r'\\d+', string1)))\n",
    "        if p[-2] == j and p[-3] == 3 and int(p[-1])>40:\n",
    "            idx.append(i)\n",
    "    res = np.zeros((12,10,126))\n",
    "    i  = 0\n",
    "    for m in idx:\n",
    "        file = np.loadtxt(my_files[m])\n",
    "        ewt = ewt_vineet(file,boundaries)\n",
    "        ewt = ewt.transpose()\n",
    "        res[i] = ewt\n",
    "        i+=1\n",
    "    x_train.append(res)\n",
    "    y_train.append(loudness_data_n5)"
   ]
  },
  {
   "cell_type": "code",
   "execution_count": 110,
   "id": "c4a32dec",
   "metadata": {},
   "outputs": [],
   "source": [
    "x = np.array(x_train)"
   ]
  },
  {
   "cell_type": "code",
   "execution_count": 111,
   "id": "c489a70c",
   "metadata": {},
   "outputs": [],
   "source": [
    "y = np.array(y_train)"
   ]
  },
  {
   "cell_type": "code",
   "execution_count": 112,
   "id": "7f464e50",
   "metadata": {
    "scrolled": true
   },
   "outputs": [
    {
     "name": "stdout",
     "output_type": "stream",
     "text": [
      "(12000, 12, 10, 126)\n",
      "(12000, 12)\n"
     ]
    }
   ],
   "source": [
    "print(x.shape)\n",
    "print(y.shape)"
   ]
  },
  {
   "cell_type": "code",
   "execution_count": 114,
   "id": "348eb1f6",
   "metadata": {},
   "outputs": [],
   "source": [
    "os.chdir('resampled_dataset_f1_n7/')"
   ]
  },
  {
   "cell_type": "code",
   "execution_count": 116,
   "id": "1a94d7df",
   "metadata": {},
   "outputs": [],
   "source": [
    "my_files = glob.glob('*txt')"
   ]
  },
  {
   "cell_type": "code",
   "execution_count": 117,
   "id": "7936812a",
   "metadata": {
    "scrolled": true
   },
   "outputs": [
    {
     "data": {
      "text/plain": [
       "120000"
      ]
     },
     "execution_count": 117,
     "metadata": {},
     "output_type": "execute_result"
    }
   ],
   "source": [
    "len(my_files)"
   ]
  },
  {
   "cell_type": "code",
   "execution_count": 120,
   "id": "73361ff0",
   "metadata": {},
   "outputs": [],
   "source": [
    "loudness_data_n7 = np.array([0.265712,0.627094,0.724554,1.015205,1.132958,1.725353,1.697663,1.814931,1.891386,2.309499,2.465781,2.630860])\n"
   ]
  },
  {
   "cell_type": "code",
   "execution_count": 121,
   "id": "f3ec8ac4",
   "metadata": {},
   "outputs": [
    {
     "data": {
      "text/plain": [
       "12"
      ]
     },
     "execution_count": 121,
     "metadata": {},
     "output_type": "execute_result"
    }
   ],
   "source": [
    "len(loudness_data_n7)"
   ]
  },
  {
   "cell_type": "code",
   "execution_count": 122,
   "id": "375f6a92",
   "metadata": {},
   "outputs": [],
   "source": [
    "for j in range(1,1001,1):\n",
    "    idx = []\n",
    "    for i in range(len(my_files)):\n",
    "        string1 = my_files[i]\n",
    "        p = list(map(int, re.findall(r'\\d+', string1)))\n",
    "        if p[-2] == j and p[-3] == 1 and int(p[-1])>40:\n",
    "            idx.append(i)\n",
    "    res = np.zeros((12,10,126))\n",
    "    i  = 0\n",
    "    for m in idx:\n",
    "        file = np.loadtxt(my_files[m])\n",
    "        ewt = ewt_vineet(file,boundaries)\n",
    "        ewt = ewt.transpose()\n",
    "        res[i] = ewt\n",
    "        i+=1\n",
    "    x_train.append(res)\n",
    "    y_train.append(loudness_data_n7)"
   ]
  },
  {
   "cell_type": "code",
   "execution_count": 123,
   "id": "09220aea",
   "metadata": {},
   "outputs": [],
   "source": [
    "for j in range(1,1001,1):\n",
    "    idx = []\n",
    "    for i in range(len(my_files)):\n",
    "        string1 = my_files[i]\n",
    "        p = list(map(int, re.findall(r'\\d+', string1)))\n",
    "        if p[-2] == j and p[-3] == 2 and int(p[-1])>40:\n",
    "            idx.append(i)\n",
    "    res = np.zeros((12,10,126))\n",
    "    i  = 0\n",
    "    for m in idx:\n",
    "        file = np.loadtxt(my_files[m])\n",
    "        ewt = ewt_vineet(file,boundaries)\n",
    "        ewt = ewt.transpose()\n",
    "        res[i] = ewt\n",
    "        i+=1\n",
    "    x_train.append(res)\n",
    "    y_train.append(loudness_data_n7)"
   ]
  },
  {
   "cell_type": "code",
   "execution_count": 124,
   "id": "5edaf604",
   "metadata": {},
   "outputs": [],
   "source": [
    "for j in range(1,1001,1):\n",
    "    idx = []\n",
    "    for i in range(len(my_files)):\n",
    "        string1 = my_files[i]\n",
    "        p = list(map(int, re.findall(r'\\d+', string1)))\n",
    "        if p[-2] == j and p[-3] == 3 and int(p[-1])>40:\n",
    "            idx.append(i)\n",
    "    res = np.zeros((12,10,126))\n",
    "    i  = 0\n",
    "    for m in idx:\n",
    "        file = np.loadtxt(my_files[m])\n",
    "        ewt = ewt_vineet(file,boundaries)\n",
    "        ewt = ewt.transpose()\n",
    "        res[i] = ewt\n",
    "        i+=1\n",
    "    x_train.append(res)\n",
    "    y_train.append(loudness_data_n7)"
   ]
  },
  {
   "cell_type": "code",
   "execution_count": 125,
   "id": "8c640470",
   "metadata": {},
   "outputs": [
    {
     "data": {
      "text/plain": [
       "15000"
      ]
     },
     "execution_count": 125,
     "metadata": {},
     "output_type": "execute_result"
    }
   ],
   "source": [
    "len(x_train)"
   ]
  },
  {
   "cell_type": "code",
   "execution_count": 126,
   "id": "2acd7eab",
   "metadata": {},
   "outputs": [
    {
     "data": {
      "text/plain": [
       "15000"
      ]
     },
     "execution_count": 126,
     "metadata": {},
     "output_type": "execute_result"
    }
   ],
   "source": [
    "len(y_train)"
   ]
  },
  {
   "cell_type": "code",
   "execution_count": 127,
   "id": "a2525101",
   "metadata": {},
   "outputs": [],
   "source": [
    "x = np.array(x_train)"
   ]
  },
  {
   "cell_type": "code",
   "execution_count": 128,
   "id": "6503b399",
   "metadata": {},
   "outputs": [],
   "source": [
    "y = np.array(y_train)"
   ]
  },
  {
   "cell_type": "code",
   "execution_count": 132,
   "id": "6e7d5c33",
   "metadata": {},
   "outputs": [
    {
     "name": "stdout",
     "output_type": "stream",
     "text": [
      "(15000, 12, 10, 126) = x Shape , Y shape = (15000, 12)\n"
     ]
    }
   ],
   "source": [
    "print(x.shape,y.shape,sep = ' = x Shape , Y shape = ')"
   ]
  },
  {
   "cell_type": "code",
   "execution_count": 133,
   "id": "60964945",
   "metadata": {},
   "outputs": [
    {
     "name": "stdout",
     "output_type": "stream",
     "text": [
      "C:\\Users\\vinee\\Documents\\BTP\n"
     ]
    }
   ],
   "source": [
    "# done for n1,n2,n4,n5,n7"
   ]
  },
  {
   "cell_type": "code",
   "execution_count": 134,
   "id": "224c0b33",
   "metadata": {},
   "outputs": [],
   "source": [
    "os.chdir('resampled_dataset_f1_n6/')"
   ]
  },
  {
   "cell_type": "code",
   "execution_count": 135,
   "id": "44e7a1ff",
   "metadata": {},
   "outputs": [],
   "source": [
    "my_files = glob.glob('*txt')"
   ]
  },
  {
   "cell_type": "code",
   "execution_count": 136,
   "id": "7ce7232c",
   "metadata": {},
   "outputs": [
    {
     "data": {
      "text/plain": [
       "150000"
      ]
     },
     "execution_count": 136,
     "metadata": {},
     "output_type": "execute_result"
    }
   ],
   "source": [
    "len(my_files)"
   ]
  },
  {
   "cell_type": "code",
   "execution_count": 140,
   "id": "caf86832",
   "metadata": {},
   "outputs": [],
   "source": [
    "loudness_data_n6 = np.array([-0.602983,-0.203698,0.110290,0.531146,0.989981,1.062504,1.391716,1.478321,1.598163,1.779723,2.019546,2.297004])\n"
   ]
  },
  {
   "cell_type": "code",
   "execution_count": 141,
   "id": "c35b4a23",
   "metadata": {},
   "outputs": [
    {
     "data": {
      "text/plain": [
       "12"
      ]
     },
     "execution_count": 141,
     "metadata": {},
     "output_type": "execute_result"
    }
   ],
   "source": [
    "len(loudness_data_n6)"
   ]
  },
  {
   "cell_type": "code",
   "execution_count": 142,
   "id": "1134ba19",
   "metadata": {},
   "outputs": [],
   "source": [
    "for j in range(1,1001,1):\n",
    "    idx = []\n",
    "    for i in range(len(my_files)):\n",
    "        string1 = my_files[i]\n",
    "        p = list(map(int, re.findall(r'\\d+', string1)))\n",
    "        if p[-2] == j and p[-3] == 1 and int(p[-1])>40:\n",
    "            idx.append(i)\n",
    "    res = np.zeros((12,10,126))\n",
    "    i  = 0\n",
    "    for m in idx:\n",
    "        file = np.loadtxt(my_files[m])\n",
    "        ewt = ewt_vineet(file,boundaries)\n",
    "        ewt = ewt.transpose()\n",
    "        res[i] = ewt\n",
    "        i+=1\n",
    "    x_train.append(res)\n",
    "    y_train.append(loudness_data_n6)"
   ]
  },
  {
   "cell_type": "code",
   "execution_count": 143,
   "id": "2159bbde",
   "metadata": {},
   "outputs": [],
   "source": [
    "for j in range(1,1001,1):\n",
    "    idx = []\n",
    "    for i in range(len(my_files)):\n",
    "        string1 = my_files[i]\n",
    "        p = list(map(int, re.findall(r'\\d+', string1)))\n",
    "        if p[-2] == j and p[-3] == 2 and int(p[-1])>40:\n",
    "            idx.append(i)\n",
    "    res = np.zeros((12,10,126))\n",
    "    i  = 0\n",
    "    for m in idx:\n",
    "        file = np.loadtxt(my_files[m])\n",
    "        ewt = ewt_vineet(file,boundaries)\n",
    "        ewt = ewt.transpose()\n",
    "        res[i] = ewt\n",
    "        i+=1\n",
    "    x_train.append(res)\n",
    "    y_train.append(loudness_data_n6)"
   ]
  },
  {
   "cell_type": "code",
   "execution_count": 144,
   "id": "0bed10ca",
   "metadata": {},
   "outputs": [],
   "source": [
    "for j in range(1,1001,1):\n",
    "    idx = []\n",
    "    for i in range(len(my_files)):\n",
    "        string1 = my_files[i]\n",
    "        p = list(map(int, re.findall(r'\\d+', string1)))\n",
    "        if p[-2] == j and p[-3] == 3 and int(p[-1])>40:\n",
    "            idx.append(i)\n",
    "    res = np.zeros((12,10,126))\n",
    "    i  = 0\n",
    "    for m in idx:\n",
    "        file = np.loadtxt(my_files[m])\n",
    "        ewt = ewt_vineet(file,boundaries)\n",
    "        ewt = ewt.transpose()\n",
    "        res[i] = ewt\n",
    "        i+=1\n",
    "    x_train.append(res)\n",
    "    y_train.append(loudness_data_n6)"
   ]
  },
  {
   "cell_type": "code",
   "execution_count": 145,
   "id": "9bc59456",
   "metadata": {},
   "outputs": [
    {
     "name": "stdout",
     "output_type": "stream",
     "text": [
      "18000 18000\n"
     ]
    }
   ],
   "source": [
    "print(len(x_train),len(y_train))"
   ]
  },
  {
   "cell_type": "code",
   "execution_count": 146,
   "id": "e5bd6d91",
   "metadata": {},
   "outputs": [],
   "source": [
    "x = np.array(x_train)\n",
    "y = np.array(y_train)"
   ]
  },
  {
   "cell_type": "code",
   "execution_count": 147,
   "id": "9159b78c",
   "metadata": {},
   "outputs": [],
   "source": [
    "# done for n1,n2,n4,n5,n7,n6"
   ]
  },
  {
   "cell_type": "code",
   "execution_count": 148,
   "id": "a38ee078",
   "metadata": {},
   "outputs": [
    {
     "name": "stdout",
     "output_type": "stream",
     "text": [
      "C:\\Users\\vinee\\Documents\\BTP\n"
     ]
    }
   ],
   "source": [
    "cd .."
   ]
  },
  {
   "cell_type": "code",
   "execution_count": 150,
   "id": "f3cbae42",
   "metadata": {},
   "outputs": [],
   "source": [
    "os.chdir('resampled_dataset_f1_n3/')"
   ]
  },
  {
   "cell_type": "code",
   "execution_count": 153,
   "id": "d7753e89",
   "metadata": {},
   "outputs": [],
   "source": [
    "my_files = glob.glob('*txt')"
   ]
  },
  {
   "cell_type": "code",
   "execution_count": 154,
   "id": "4673ab9b",
   "metadata": {
    "scrolled": true
   },
   "outputs": [
    {
     "data": {
      "text/plain": [
       "39000"
      ]
     },
     "execution_count": 154,
     "metadata": {},
     "output_type": "execute_result"
    }
   ],
   "source": [
    "len(my_files)"
   ]
  },
  {
   "cell_type": "code",
   "execution_count": 157,
   "id": "3cc31327",
   "metadata": {},
   "outputs": [],
   "source": [
    "loudness_data_n3 = np.array([-0.365368,-0.002425,0.104951,0.144388,0.318761,0.540428,0.655482, 0.994505, 0.934209,1.060224, 1.293006,1.501077])\n"
   ]
  },
  {
   "cell_type": "code",
   "execution_count": 158,
   "id": "e1864378",
   "metadata": {},
   "outputs": [
    {
     "data": {
      "text/plain": [
       "12"
      ]
     },
     "execution_count": 158,
     "metadata": {},
     "output_type": "execute_result"
    }
   ],
   "source": [
    "len(loudness_data_n3)"
   ]
  },
  {
   "cell_type": "code",
   "execution_count": 159,
   "id": "c7459bb8",
   "metadata": {},
   "outputs": [],
   "source": [
    "for j in range(1,1001,1):\n",
    "    idx = []\n",
    "    for i in range(len(my_files)):\n",
    "        string1 = my_files[i]\n",
    "        p = list(map(int, re.findall(r'\\d+', string1)))\n",
    "        if p[-2] == j and p[-3] == 1 and int(p[-1])>40:\n",
    "            idx.append(i)\n",
    "    res = np.zeros((12,10,126))\n",
    "    i  = 0\n",
    "    for m in idx:\n",
    "        file = np.loadtxt(my_files[m])\n",
    "        ewt = ewt_vineet(file,boundaries)\n",
    "        ewt = ewt.transpose()\n",
    "        res[i] = ewt\n",
    "        i+=1\n",
    "    x_train.append(res)\n",
    "    y_train.append(loudness_data_n3)"
   ]
  },
  {
   "cell_type": "code",
   "execution_count": 160,
   "id": "5bec6e4f",
   "metadata": {},
   "outputs": [],
   "source": [
    "for j in range(1,1001,1):\n",
    "    idx = []\n",
    "    for i in range(len(my_files)):\n",
    "        string1 = my_files[i]\n",
    "        p = list(map(int, re.findall(r'\\d+', string1)))\n",
    "        if p[-2] == j and p[-3] == 2 and int(p[-1])>40:\n",
    "            idx.append(i)\n",
    "    res = np.zeros((12,10,126))\n",
    "    i  = 0\n",
    "    for m in idx:\n",
    "        file = np.loadtxt(my_files[m])\n",
    "        ewt = ewt_vineet(file,boundaries)\n",
    "        ewt = ewt.transpose()\n",
    "        res[i] = ewt\n",
    "        i+=1\n",
    "    x_train.append(res)\n",
    "    y_train.append(loudness_data_n3)"
   ]
  },
  {
   "cell_type": "code",
   "execution_count": 161,
   "id": "5458cd46",
   "metadata": {},
   "outputs": [],
   "source": [
    "for j in range(1,1001,1):\n",
    "    idx = []\n",
    "    for i in range(len(my_files)):\n",
    "        string1 = my_files[i]\n",
    "        p = list(map(int, re.findall(r'\\d+', string1)))\n",
    "        if p[-2] == j and p[-3] == 3 and int(p[-1])>40:\n",
    "            idx.append(i)\n",
    "    res = np.zeros((12,10,126))\n",
    "    i  = 0\n",
    "    for m in idx:\n",
    "        file = np.loadtxt(my_files[m])\n",
    "        ewt = ewt_vineet(file,boundaries)\n",
    "        ewt = ewt.transpose()\n",
    "        res[i] = ewt\n",
    "        i+=1\n",
    "    x_train.append(res)\n",
    "    y_train.append(loudness_data_n3)"
   ]
  },
  {
   "cell_type": "code",
   "execution_count": 162,
   "id": "f95ac672",
   "metadata": {},
   "outputs": [
    {
     "name": "stdout",
     "output_type": "stream",
     "text": [
      "21000 21000\n"
     ]
    }
   ],
   "source": [
    "print(len(x_train),len(y_train))"
   ]
  },
  {
   "cell_type": "code",
   "execution_count": 163,
   "id": "3bd7a3ca",
   "metadata": {},
   "outputs": [],
   "source": [
    "x = np.array(x_train)"
   ]
  },
  {
   "cell_type": "code",
   "execution_count": 164,
   "id": "04d9593e",
   "metadata": {},
   "outputs": [],
   "source": [
    "y = np.array(y_train)"
   ]
  },
  {
   "cell_type": "code",
   "execution_count": 165,
   "id": "3e4cf858",
   "metadata": {},
   "outputs": [],
   "source": [
    "np.save('C:/Users/vinee/Documents/BTP/complete_x',x)\n",
    "np.save('C:/Users/vinee/Documents/BTP/complete_y',y)"
   ]
  },
  {
   "cell_type": "code",
   "execution_count": 1,
   "id": "18a804e9",
   "metadata": {},
   "outputs": [],
   "source": [
    "# dataset creation for Checking model not seeing N1"
   ]
  },
  {
   "cell_type": "code",
   "execution_count": 8,
   "id": "5491e7a5",
   "metadata": {},
   "outputs": [],
   "source": [
    "x_train = []\n",
    "y_train = []"
   ]
  },
  {
   "cell_type": "code",
   "execution_count": 9,
   "id": "e7c58ca6",
   "metadata": {},
   "outputs": [],
   "source": [
    "os.chdir('resampled_dataset_f1_n4/')"
   ]
  },
  {
   "cell_type": "code",
   "execution_count": 27,
   "id": "0fcef87b",
   "metadata": {},
   "outputs": [],
   "source": [
    "my_files = glob.glob('*txt')"
   ]
  },
  {
   "cell_type": "code",
   "execution_count": 11,
   "id": "d0e6863f",
   "metadata": {},
   "outputs": [
    {
     "data": {
      "text/plain": [
       "93000"
      ]
     },
     "execution_count": 11,
     "metadata": {},
     "output_type": "execute_result"
    }
   ],
   "source": [
    "len(my_files)"
   ]
  },
  {
   "cell_type": "code",
   "execution_count": 13,
   "id": "f19e8923",
   "metadata": {},
   "outputs": [],
   "source": [
    "for j in range(1,1001,1):\n",
    "    idx = []\n",
    "    for i in range(len(my_files)):\n",
    "        string1 = my_files[i]\n",
    "        p = list(map(int, re.findall(r'\\d+', string1)))\n",
    "        if p[-2] == j and p[-3] == 4 and int(p[-1])>40:\n",
    "            idx.append(i)\n",
    "    res = np.zeros((12,10,126))\n",
    "    i  = 0\n",
    "    for m in idx:\n",
    "        file = np.loadtxt(my_files[m])\n",
    "        ewt = ewt_vineet(file,boundaries)\n",
    "        ewt = ewt.transpose()\n",
    "        res[i] = ewt\n",
    "        i+=1\n",
    "    x_train.append(res)\n",
    "    y_train.append(loudness_data_n4)"
   ]
  },
  {
   "cell_type": "code",
   "execution_count": 14,
   "id": "e7679fea",
   "metadata": {},
   "outputs": [
    {
     "data": {
      "text/plain": [
       "1000"
      ]
     },
     "execution_count": 14,
     "metadata": {},
     "output_type": "execute_result"
    }
   ],
   "source": [
    "len(x_train)"
   ]
  },
  {
   "cell_type": "code",
   "execution_count": 15,
   "id": "e907f9cd",
   "metadata": {},
   "outputs": [],
   "source": [
    "x = np.array(x_train)\n",
    "y = np.array(y_train)"
   ]
  },
  {
   "cell_type": "code",
   "execution_count": 16,
   "id": "10e3da87",
   "metadata": {},
   "outputs": [],
   "source": [
    "np.save('C:/Users/vinee/Documents/BTP/x_new_n4',x)\n",
    "np.save('C:/Users/vinee/Documents/BTP/y_new_n4',y)"
   ]
  },
  {
   "cell_type": "code",
   "execution_count": 17,
   "id": "10eed5a0",
   "metadata": {},
   "outputs": [
    {
     "name": "stdout",
     "output_type": "stream",
     "text": [
      "C:\\Users\\vinee\\Documents\\BTP\n"
     ]
    }
   ],
   "source": [
    "cd .."
   ]
  },
  {
   "cell_type": "code",
   "execution_count": 18,
   "id": "73945efc",
   "metadata": {},
   "outputs": [],
   "source": [
    "x_train = []\n",
    "y_train = []"
   ]
  },
  {
   "cell_type": "code",
   "execution_count": 19,
   "id": "21e0471d",
   "metadata": {},
   "outputs": [],
   "source": [
    "os.chdir('resampled_dataset_f1_n5/')"
   ]
  },
  {
   "cell_type": "code",
   "execution_count": 21,
   "id": "f0fcd846",
   "metadata": {},
   "outputs": [],
   "source": [
    "my_files = glob.glob('*txt')"
   ]
  },
  {
   "cell_type": "code",
   "execution_count": 22,
   "id": "e691d02d",
   "metadata": {},
   "outputs": [
    {
     "ename": "KeyboardInterrupt",
     "evalue": "",
     "output_type": "error",
     "traceback": [
      "\u001b[1;31m---------------------------------------------------------------------------\u001b[0m",
      "\u001b[1;31mKeyboardInterrupt\u001b[0m                         Traceback (most recent call last)",
      "\u001b[1;32m<ipython-input-22-061d676addbb>\u001b[0m in \u001b[0;36m<module>\u001b[1;34m\u001b[0m\n\u001b[0;32m      3\u001b[0m     \u001b[1;32mfor\u001b[0m \u001b[0mi\u001b[0m \u001b[1;32min\u001b[0m \u001b[0mrange\u001b[0m\u001b[1;33m(\u001b[0m\u001b[0mlen\u001b[0m\u001b[1;33m(\u001b[0m\u001b[0mmy_files\u001b[0m\u001b[1;33m)\u001b[0m\u001b[1;33m)\u001b[0m\u001b[1;33m:\u001b[0m\u001b[1;33m\u001b[0m\u001b[1;33m\u001b[0m\u001b[0m\n\u001b[0;32m      4\u001b[0m         \u001b[0mstring1\u001b[0m \u001b[1;33m=\u001b[0m \u001b[0mmy_files\u001b[0m\u001b[1;33m[\u001b[0m\u001b[0mi\u001b[0m\u001b[1;33m]\u001b[0m\u001b[1;33m\u001b[0m\u001b[1;33m\u001b[0m\u001b[0m\n\u001b[1;32m----> 5\u001b[1;33m         \u001b[0mp\u001b[0m \u001b[1;33m=\u001b[0m \u001b[0mlist\u001b[0m\u001b[1;33m(\u001b[0m\u001b[0mmap\u001b[0m\u001b[1;33m(\u001b[0m\u001b[0mint\u001b[0m\u001b[1;33m,\u001b[0m \u001b[0mre\u001b[0m\u001b[1;33m.\u001b[0m\u001b[0mfindall\u001b[0m\u001b[1;33m(\u001b[0m\u001b[1;34mr'\\d+'\u001b[0m\u001b[1;33m,\u001b[0m \u001b[0mstring1\u001b[0m\u001b[1;33m)\u001b[0m\u001b[1;33m)\u001b[0m\u001b[1;33m)\u001b[0m\u001b[1;33m\u001b[0m\u001b[1;33m\u001b[0m\u001b[0m\n\u001b[0m\u001b[0;32m      6\u001b[0m         \u001b[1;32mif\u001b[0m \u001b[0mp\u001b[0m\u001b[1;33m[\u001b[0m\u001b[1;33m-\u001b[0m\u001b[1;36m2\u001b[0m\u001b[1;33m]\u001b[0m \u001b[1;33m==\u001b[0m \u001b[0mj\u001b[0m \u001b[1;32mand\u001b[0m \u001b[0mp\u001b[0m\u001b[1;33m[\u001b[0m\u001b[1;33m-\u001b[0m\u001b[1;36m3\u001b[0m\u001b[1;33m]\u001b[0m \u001b[1;33m==\u001b[0m \u001b[1;36m4\u001b[0m \u001b[1;32mand\u001b[0m \u001b[0mint\u001b[0m\u001b[1;33m(\u001b[0m\u001b[0mp\u001b[0m\u001b[1;33m[\u001b[0m\u001b[1;33m-\u001b[0m\u001b[1;36m1\u001b[0m\u001b[1;33m]\u001b[0m\u001b[1;33m)\u001b[0m\u001b[1;33m>\u001b[0m\u001b[1;36m40\u001b[0m\u001b[1;33m:\u001b[0m\u001b[1;33m\u001b[0m\u001b[1;33m\u001b[0m\u001b[0m\n\u001b[0;32m      7\u001b[0m             \u001b[0midx\u001b[0m\u001b[1;33m.\u001b[0m\u001b[0mappend\u001b[0m\u001b[1;33m(\u001b[0m\u001b[0mi\u001b[0m\u001b[1;33m)\u001b[0m\u001b[1;33m\u001b[0m\u001b[1;33m\u001b[0m\u001b[0m\n",
      "\u001b[1;31mKeyboardInterrupt\u001b[0m: "
     ]
    }
   ],
   "source": [
    "for j in range(1,1001,1):\n",
    "    idx = []\n",
    "    for i in range(len(my_files)):\n",
    "        string1 = my_files[i]\n",
    "        p = list(map(int, re.findall(r'\\d+', string1)))\n",
    "        if p[-2] == j and p[-3] == 4 and int(p[-1])>40:\n",
    "            idx.append(i)\n",
    "    res = np.zeros((12,10,126))\n",
    "    i  = 0\n",
    "    for m in idx:\n",
    "        if p[-1]\n",
    "        file = np.loadtxt(my_files[m])\n",
    "        ewt = ewt_vineet(file,boundaries)\n",
    "        ewt = ewt.transpose()\n",
    "        res[i] = ewt\n",
    "        i+=1\n",
    "    x_train.append(res)\n",
    "    y_train.append(loudness_data_n5)"
   ]
  },
  {
   "cell_type": "code",
   "execution_count": 26,
   "id": "78bb066a",
   "metadata": {},
   "outputs": [
    {
     "name": "stdout",
     "output_type": "stream",
     "text": [
      "C:\\Users\\vinee\\Documents\\BTP\\resampled_dataset_f1_n4\n"
     ]
    }
   ],
   "source": [
    "cd resampled_dataset_f1_n4/"
   ]
  },
  {
   "cell_type": "code",
   "execution_count": 28,
   "id": "28567ca9",
   "metadata": {},
   "outputs": [],
   "source": [
    "idx = []\n",
    "for i in range(len(my_files)):\n",
    "    string1 = my_files[i]\n",
    "    p = list(map(int, re.findall(r'\\d+', string1)))\n",
    "    if p[-2] == j and p[-3] == 4 and int(p[-1])>40:\n",
    "        idx.append(i)"
   ]
  },
  {
   "cell_type": "code",
   "execution_count": 29,
   "id": "a1c1e413",
   "metadata": {},
   "outputs": [
    {
     "data": {
      "text/plain": [
       "[55128, 55132, 55133, 55134, 55135, 55136, 55137, 55138, 55139]"
      ]
     },
     "execution_count": 29,
     "metadata": {},
     "output_type": "execute_result"
    }
   ],
   "source": [
    "idx"
   ]
  },
  {
   "cell_type": "code",
   "execution_count": 30,
   "id": "5d20306a",
   "metadata": {},
   "outputs": [
    {
     "data": {
      "text/plain": [
       "9"
      ]
     },
     "execution_count": 30,
     "metadata": {},
     "output_type": "execute_result"
    }
   ],
   "source": [
    "len(idx)"
   ]
  },
  {
   "cell_type": "code",
   "execution_count": 35,
   "id": "76390e30",
   "metadata": {},
   "outputs": [
    {
     "data": {
      "text/plain": [
       "'F1_raw_N4_R4_cycle_860_80.txt'"
      ]
     },
     "execution_count": 35,
     "metadata": {},
     "output_type": "execute_result"
    }
   ],
   "source": [
    "my_files[idx[-1]]"
   ]
  },
  {
   "cell_type": "code",
   "execution_count": null,
   "id": "f5b3dbfc",
   "metadata": {},
   "outputs": [],
   "source": []
  }
 ],
 "metadata": {
  "kernelspec": {
   "display_name": "Python 3",
   "language": "python",
   "name": "python3"
  },
  "language_info": {
   "codemirror_mode": {
    "name": "ipython",
    "version": 3
   },
   "file_extension": ".py",
   "mimetype": "text/x-python",
   "name": "python",
   "nbconvert_exporter": "python",
   "pygments_lexer": "ipython3",
   "version": "3.8.8"
  }
 },
 "nbformat": 4,
 "nbformat_minor": 5
}
