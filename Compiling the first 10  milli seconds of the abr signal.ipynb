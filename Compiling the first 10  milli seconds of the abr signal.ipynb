{
 "cells": [
  {
   "cell_type": "code",
   "execution_count": 1,
   "id": "60b1bf62",
   "metadata": {},
   "outputs": [],
   "source": [
    "import pandas as pd\n",
    "import numpy as np\n",
    "import pywt\n",
    "import matplotlib.pyplot as plt\n",
    "import os\n",
    "import glob\n",
    "import re"
   ]
  },
  {
   "cell_type": "code",
   "execution_count": 2,
   "id": "57ccfd05",
   "metadata": {},
   "outputs": [],
   "source": [
    "import numpy as np\n",
    "#%EWT functions\n",
    "def ewt_vineet(f,boundaries):\n",
    "    # signal spectrum\n",
    "    ff = np.fft.fft(f)\n",
    "    ff = abs(ff[0:int(np.ceil(ff.size / 2))])  # one-sided magnitude\n",
    "\n",
    "    #extend the signal by mirroring to deal with boundaries\n",
    "    ltemp = int(np.ceil(f.size/2)) #to behave the same as matlab's round\n",
    "    fMirr =  np.append(np.flip(f[0:ltemp-1],axis = 0),f)\n",
    "    fMirr = np.append(fMirr,np.flip(f[-ltemp-1:-1],axis = 0))\n",
    "    ffMirr = np.fft.fft(fMirr)\n",
    "    # build the corresponding filter bank\n",
    "    mfb = EWT_Meyer_FilterBank(boundaries, ffMirr.size)\n",
    "\n",
    "    # filter the signal to extract each subband\n",
    "    ewt = np.zeros(mfb.shape)\n",
    "    for k in range(mfb.shape[1]):\n",
    "        ewt[:, k] = np.real(np.fft.ifft(np.conjugate(mfb[:, k]) * ffMirr))\n",
    "    ewt = ewt[ltemp - 1:-ltemp, :]\n",
    "\n",
    "    return ewt\n",
    "\n",
    "\n",
    "def EWT_Meyer_FilterBank(boundaries, Nsig):\n",
    "    \"\"\"\n",
    "     =========================================================================\n",
    "     function mfb=EWT_Meyer_FilterBank(boundaries,Nsig)\n",
    "\n",
    "     This function generate the filter bank (scaling function + wavelets)\n",
    "     corresponding to the provided set of frequency segments\n",
    "\n",
    "     Input parameters:\n",
    "       -boundaries: vector containing the boundaries of frequency segments (0\n",
    "                    and pi must NOT be in this vector)\n",
    "       -Nsig: signal length\n",
    "\n",
    "     Output:\n",
    "       -mfb: cell containing each filter (in the Fourier domain), the scaling\n",
    "             function comes first and then the successive wavelets\n",
    "\n",
    "     Author: Jerome Gilles\n",
    "     Institution: UCLA - Department of Mathematics\n",
    "     Year: 2012\n",
    "     Version: 1.0\n",
    "\n",
    "     Python Version: Vinícius Rezende Carvalho - vrcarva@ufmg.br\n",
    "     Universidade Federal de Minas Gerais - Brasil\n",
    "     Núcleo de Neurociências\n",
    "     =========================================================================\n",
    "     \"\"\"\n",
    "    Npic = len(boundaries)\n",
    "    # compute gamma\n",
    "    gamma = 1\n",
    "    for k in range(Npic - 1):\n",
    "        r = (boundaries[k + 1] - boundaries[k]) / (boundaries[k + 1] + boundaries[k])\n",
    "        if r < gamma:\n",
    "            gamma = r\n",
    "    r = (np.pi - boundaries[Npic - 1]) / (np.pi + boundaries[Npic - 1])\n",
    "    if r < gamma:\n",
    "        gamma = r\n",
    "    gamma = (1 - 1 / Nsig) * gamma  # this ensure that gamma is chosen as strictly less than the min\n",
    "\n",
    "    mfb = np.zeros([Nsig, Npic + 1])\n",
    "\n",
    "    # EWT_Meyer_Scaling\n",
    "    Mi = int(np.floor(Nsig / 2))\n",
    "    w = np.fft.fftshift(np.linspace(0, 2 * np.pi - 2 * np.pi / Nsig, num=Nsig))\n",
    "    w[0:Mi] = -2 * np.pi + w[0:Mi]\n",
    "    aw = abs(w)\n",
    "    yms = np.zeros(Nsig)\n",
    "    an = 1. / (2 * gamma * boundaries[0])\n",
    "    pbn = (1. + gamma) * boundaries[0]\n",
    "    mbn = (1. - gamma) * boundaries[0]\n",
    "    for k in range(Nsig):\n",
    "        if aw[k] <= mbn:\n",
    "            yms[k] = 1\n",
    "        elif ((aw[k] >= mbn) and (aw[k] <= pbn)):\n",
    "            yms[k] = np.cos(np.pi * EWT_beta(an * (aw[k] - mbn)) / 2)\n",
    "    yms = np.fft.ifftshift(yms)\n",
    "    mfb[:, 0] = yms\n",
    "\n",
    "    # generate rest of the wavelets\n",
    "    for k in range(Npic - 1):\n",
    "        mfb[:, k + 1] = EWT_Meyer_Wavelet(boundaries[k], boundaries[k + 1], gamma, Nsig)\n",
    "\n",
    "    mfb[:, Npic] = EWT_Meyer_Wavelet(boundaries[Npic - 1], np.pi, gamma, Nsig)\n",
    "\n",
    "    return mfb\n",
    "def EWT_beta(x):\n",
    "    \"\"\"\n",
    "    Beta = EWT_beta(x)\n",
    "    function used in the construction of Meyer's wavelet\n",
    "    \"\"\"\n",
    "    if x<0:\n",
    "        bm=0\n",
    "    elif x>1:\n",
    "        bm=1\n",
    "    else:\n",
    "        bm=(x**4)*(35.-84.*x+70.*(x**2)-20.*(x**3))\n",
    "    return bm\n",
    "def EWT_Meyer_Wavelet(wn,wm,gamma,Nsig):\n",
    "    \"\"\"\n",
    "    =========================================================\n",
    "    ymw=EWT_Meyer_Wavelet(wn,wm,gamma,N)\n",
    "    \n",
    "    Generate the 1D Meyer wavelet in the Fourier\n",
    "    domain associated to scale segment [wn,wm] \n",
    "    with transition ratio gamma\n",
    "    \n",
    "    Input parameters:\n",
    "      -wn : lower boundary\n",
    "      -wm : upper boundary\n",
    "      -gamma : transition ratio\n",
    "      -N : number of point in the vector\n",
    "    \n",
    "    Output:\n",
    "      -ymw: Fourier transform of the wavelet on the band [wn,wm]\n",
    "    Author: Jerome Gilles\n",
    "    Institution: UCLA - Department of Mathematics\n",
    "    Year: 2012\n",
    "    Version: 1.0\n",
    "    \n",
    "    Python Version: Vinícius Rezende Carvalho - vrcarva@ufmg.br\n",
    "    Universidade Federal de Minas Gerais - Brasil\n",
    "    Núcleo de Neurociências \n",
    "    ==========================================================            \n",
    "    \"\"\"\n",
    "    Mi=int(np.floor(Nsig/2))\n",
    "    w=np.fft.fftshift(np.linspace(0,2*np.pi - 2*np.pi/Nsig,num = Nsig))\n",
    "    w[0:Mi]=-2*np.pi+w[0:Mi]\n",
    "    aw=abs(w)\n",
    "    ymw=np.zeros(Nsig)\n",
    "    an=1./(2*gamma*wn)\n",
    "    am=1./(2*gamma*wm)\n",
    "    pbn=(1.+gamma)*wn\n",
    "    mbn=(1.-gamma)*wn\n",
    "    pbm=(1.+gamma)*wm\n",
    "    mbm=(1.-gamma)*wm\n",
    "\n",
    "    for k in range(Nsig):\n",
    "        if ((aw[k]>=pbn) and (aw[k]<=mbm)):\n",
    "            ymw[k]=1\n",
    "        elif ((aw[k]>=mbm) and (aw[k]<=pbm)):\n",
    "            ymw[k]=np.cos(np.pi*EWT_beta(am*(aw[k]-mbm))/2)\n",
    "        elif ((aw[k]>=mbn) and (aw[k]<=pbn)):\n",
    "            ymw[k]=np.sin(np.pi*EWT_beta(an*(aw[k]-mbn))/2)\n",
    "    ymw=np.fft.ifftshift(ymw)\n",
    "    return ymw"
   ]
  },
  {
   "cell_type": "code",
   "execution_count": 4,
   "id": "165f6fb6",
   "metadata": {},
   "outputs": [
    {
     "name": "stdout",
     "output_type": "stream",
     "text": [
      "C:\\Users\\vinee\\Documents\\BTP\\Raw_files\n"
     ]
    }
   ],
   "source": [
    "cd Raw_files"
   ]
  },
  {
   "cell_type": "code",
   "execution_count": 5,
   "id": "b6a54c98",
   "metadata": {},
   "outputs": [
    {
     "name": "stdout",
     "output_type": "stream",
     "text": [
      " Volume in drive C has no label.\n",
      " Volume Serial Number is 62D1-0539\n",
      "\n",
      " Directory of C:\\Users\\vinee\\Documents\\BTP\\Raw_files\n",
      "\n",
      "23-07-2022  23:20    <DIR>          .\n",
      "23-07-2022  23:20    <DIR>          ..\n",
      "20-07-2022  11:49            12,710 Datasetcreation.m\n",
      "16-07-2022  22:33             2,721 datasetinfo.txt\n",
      "16-07-2022  10:58             2,717 DatasetInformationF1.txt\n",
      "14-08-2022  11:58    <DIR>          n1f1r2\n",
      "20-07-2022  11:05    <DIR>          n1f1r3\n",
      "20-07-2022  11:15    <DIR>          n1f1r4\n",
      "20-07-2022  11:22    <DIR>          n1f1r5\n",
      "20-07-2022  11:32    <DIR>          n1f1r6\n",
      "20-07-2022  11:43    <DIR>          n1f1r7\n",
      "20-07-2022  11:48    <DIR>          n1f1r8\n",
      "21-07-2022  15:04    <DIR>          n2f1r2\n",
      "21-07-2022  15:06    <DIR>          n2f1r3\n",
      "21-07-2022  15:09    <DIR>          n2f1r4\n",
      "21-07-2022  15:11    <DIR>          n2f1r5\n",
      "21-07-2022  15:15    <DIR>          n2f1r6\n",
      "21-07-2022  15:36    <DIR>          n2f1r7\n",
      "21-07-2022  15:38    <DIR>          n2f1r8\n",
      "21-07-2022  14:55    <DIR>          n2nf1r1\n",
      "23-07-2022  23:20    <DIR>          n3f1r1\n",
      "21-07-2022  16:01    <DIR>          n4f1r1\n",
      "21-07-2022  16:24    <DIR>          n4f1r10\n",
      "21-07-2022  16:05    <DIR>          n4f1r2\n",
      "21-07-2022  16:07    <DIR>          n4f1r3\n",
      "21-07-2022  16:09    <DIR>          n4f1r4\n",
      "21-07-2022  16:15    <DIR>          n4f1r5\n",
      "21-07-2022  16:17    <DIR>          n4f1r6\n",
      "21-07-2022  16:18    <DIR>          n4f1r7\n",
      "21-07-2022  16:20    <DIR>          n4f1r8\n",
      "21-07-2022  16:23    <DIR>          n4f1r9\n",
      "22-07-2022  11:18    <DIR>          n5f1r1\n",
      "21-07-2022  16:29    <DIR>          n5f1r2\n",
      "21-07-2022  16:38    <DIR>          n5f1r3\n",
      "21-07-2022  16:51    <DIR>          n5f1r4\n",
      "21-07-2022  16:52    <DIR>          n5f1r5\n",
      "22-07-2022  11:00    <DIR>          n5f1r6\n",
      "22-07-2022  11:02    <DIR>          n5f1r7\n",
      "22-07-2022  11:04    <DIR>          n5f1r8\n",
      "22-07-2022  11:24    <DIR>          n6f1r1\n",
      "22-07-2022  12:38    <DIR>          n6f1r10\n",
      "22-07-2022  11:28    <DIR>          n6f1r2\n",
      "22-07-2022  11:31    <DIR>          n6f1r3\n",
      "22-07-2022  11:34    <DIR>          n6f1r4\n",
      "22-07-2022  11:38    <DIR>          n6f1r5\n",
      "22-07-2022  11:43    <DIR>          n6f1r6\n",
      "22-07-2022  11:56    <DIR>          n6f1r7\n",
      "22-07-2022  12:00    <DIR>          n6f1r8\n",
      "22-07-2022  12:01    <DIR>          n6f1r9\n",
      "22-07-2022  13:44    <DIR>          n7f1r1\n",
      "22-07-2022  12:12    <DIR>          n7f1r2\n",
      "22-07-2022  12:13    <DIR>          n7f1r3\n",
      "22-07-2022  12:19    <DIR>          n7f1r4\n",
      "22-07-2022  12:20    <DIR>          n7f1r5\n",
      "22-07-2022  12:33    <DIR>          n7f1r6\n",
      "22-07-2022  12:34    <DIR>          n7f1r7\n",
      "22-07-2022  12:39    <DIR>          n7f1r8\n",
      "22-07-2022  15:54    <DIR>          n8\n",
      "               3 File(s)         18,148 bytes\n",
      "              55 Dir(s)  28,251,267,072 bytes free\n"
     ]
    }
   ],
   "source": [
    "ls"
   ]
  },
  {
   "cell_type": "markdown",
   "id": "e2d74d33",
   "metadata": {},
   "source": [
    "48khz  -- > 480 samples\n",
    "<br>\n",
    "3khz --> 30 samples"
   ]
  },
  {
   "cell_type": "code",
   "execution_count": 6,
   "id": "b8379e4c",
   "metadata": {},
   "outputs": [
    {
     "data": {
      "text/plain": [
       "'C:\\\\Users\\\\vinee\\\\Documents\\\\BTP\\\\Raw_files'"
      ]
     },
     "execution_count": 6,
     "metadata": {},
     "output_type": "execute_result"
    }
   ],
   "source": [
    "pwd"
   ]
  },
  {
   "cell_type": "code",
   "execution_count": 7,
   "id": "324ce052",
   "metadata": {},
   "outputs": [
    {
     "name": "stdout",
     "output_type": "stream",
     "text": [
      "C:\\Users\\vinee\\Documents\\BTP\n"
     ]
    }
   ],
   "source": [
    "cd .."
   ]
  },
  {
   "cell_type": "code",
   "execution_count": 8,
   "id": "691672bd",
   "metadata": {},
   "outputs": [
    {
     "name": "stdout",
     "output_type": "stream",
     "text": [
      "C:\\Users\\vinee\\Documents\\BTP\\resampled_dataset_f1_n1\\resampled_dataset\n"
     ]
    }
   ],
   "source": [
    "cd resampled_dataset_f1_n1/resampled_dataset/"
   ]
  },
  {
   "cell_type": "code",
   "execution_count": 23,
   "id": "44397eb2",
   "metadata": {},
   "outputs": [],
   "source": [
    "test = np.loadtxt('F1_raw_N1_R1_cycle_1_10.txt')"
   ]
  },
  {
   "cell_type": "code",
   "execution_count": 17,
   "id": "e1ea8ac4",
   "metadata": {},
   "outputs": [
    {
     "data": {
      "text/plain": [
       "126"
      ]
     },
     "execution_count": 17,
     "metadata": {},
     "output_type": "execute_result"
    }
   ],
   "source": [
    "len(test)"
   ]
  },
  {
   "cell_type": "code",
   "execution_count": 18,
   "id": "a8440dbe",
   "metadata": {},
   "outputs": [
    {
     "data": {
      "text/plain": [
       "' first 10 seconds ==> 30 samples\\n'"
      ]
     },
     "execution_count": 18,
     "metadata": {},
     "output_type": "execute_result"
    }
   ],
   "source": [
    "\"\"\" first 10 seconds ==> 30 samples\n",
    "\"\"\""
   ]
  },
  {
   "cell_type": "code",
   "execution_count": 21,
   "id": "c9cd75d5",
   "metadata": {},
   "outputs": [
    {
     "data": {
      "text/plain": [
       "array([-15502.7321436 , -12905.83556151,  -6969.86933312,  -2335.72098765,\n",
       "         3503.53850186,   8371.34343764,  10263.88655793,  13111.55460462,\n",
       "        16168.73055846,  16202.29540444,  16493.08878519,  14696.4787333 ,\n",
       "         8948.90811539,   6246.06708856,   1589.80333761,  -2196.57213329,\n",
       "         1051.65204935,   3462.17564949,   4464.94378197,   4188.37693295,\n",
       "         5253.70826739,   6918.84265784,   6241.49956202,   2357.96960762,\n",
       "        -6313.55648384, -15795.81147124, -21260.84128447, -18315.88727828])"
      ]
     },
     "execution_count": 21,
     "metadata": {},
     "output_type": "execute_result"
    }
   ],
   "source": [
    "test[2:30]"
   ]
  },
  {
   "cell_type": "code",
   "execution_count": 22,
   "id": "1338f4f3",
   "metadata": {},
   "outputs": [
    {
     "data": {
      "text/plain": [
       "[<matplotlib.lines.Line2D at 0x1fdac9ecdf0>]"
      ]
     },
     "execution_count": 22,
     "metadata": {},
     "output_type": "execute_result"
    },
    {
     "data": {
      "image/png": "[encoded data removed]",
      "text/plain": [
       "<Figure size 432x288 with 1 Axes>"
      ]
     },
     "metadata": {
      "needs_background": "light"
     },
     "output_type": "display_data"
    }
   ],
   "source": [
    "plt.plot(test[2:30])"
   ]
  },
  {
   "cell_type": "code",
   "execution_count": 24,
   "id": "7de57cb2",
   "metadata": {},
   "outputs": [
    {
     "data": {
      "text/plain": [
       "[<matplotlib.lines.Line2D at 0x1fdaec88190>]"
      ]
     },
     "execution_count": 24,
     "metadata": {},
     "output_type": "execute_result"
    },
    {
     "data": {
      "image/png": "[encoded data removed]",
      "text/plain": [
       "<Figure size 432x288 with 1 Axes>"
      ]
     },
     "metadata": {
      "needs_background": "light"
     },
     "output_type": "display_data"
    }
   ],
   "source": [
    "plt.plot(test[2:30])"
   ]
  },
  {
   "cell_type": "code",
   "execution_count": 25,
   "id": "20c473e0",
   "metadata": {},
   "outputs": [
    {
     "data": {
      "text/plain": [
       "'\\nfor every file\\ntest[2:30]\\nnp.savetxt(fname,test[2:30])\\n\\n'"
      ]
     },
     "execution_count": 25,
     "metadata": {},
     "output_type": "execute_result"
    }
   ],
   "source": [
    "\n",
    "\"\"\"\n",
    "for every file\n",
    "test[2:30]\n",
    "np.savetxt(fname,test[2:30])\n",
    "\n",
    "\"\"\""
   ]
  },
  {
   "cell_type": "code",
   "execution_count": 27,
   "id": "266f2968",
   "metadata": {},
   "outputs": [
    {
     "data": {
      "text/plain": [
       "'C:\\\\Users\\\\vinee\\\\Documents\\\\BTP\\\\resampled_dataset_f1_n1\\\\resampled_dataset'"
      ]
     },
     "execution_count": 27,
     "metadata": {},
     "output_type": "execute_result"
    }
   ],
   "source": [
    "pwd"
   ]
  },
  {
   "cell_type": "code",
   "execution_count": 44,
   "id": "01e8415c",
   "metadata": {},
   "outputs": [],
   "source": [
    "# N1 F1\n",
    "my_files = glob.glob('*txt')\n",
    "for i in range(len(my_files)):\n",
    "    file = np.loadtxt(my_files[i])\n",
    "    np.savetxt(f\"C:/Users/vinee/Documents/BTP/Dataset_3KHz_10s_n1/{my_files[i]}\",file[:30])"
   ]
  },
  {
   "cell_type": "code",
   "execution_count": 28,
   "id": "6fe2f7c5",
   "metadata": {},
   "outputs": [],
   "source": [
    "my_files = glob.glob('*txt')\n"
   ]
  },
  {
   "cell_type": "code",
   "execution_count": 42,
   "id": "a1d7c4d8",
   "metadata": {},
   "outputs": [
    {
     "name": "stdout",
     "output_type": "stream",
     "text": [
      "C:/Users/vinee/Documents/BTP/Dataset_3KHz_10s_n1/F1_raw_N1_R1_cycle_1000_10\n"
     ]
    }
   ],
   "source": [
    "print(f\"C:/Users/vinee/Documents/BTP/Dataset_3KHz_10s_n1/{my_files[0][:-4]}\")"
   ]
  },
  {
   "cell_type": "code",
   "execution_count": null,
   "id": "dc10b641",
   "metadata": {},
   "outputs": [],
   "source": []
  }
 ],
 "metadata": {
  "kernelspec": {
   "display_name": "Python 3",
   "language": "python",
   "name": "python3"
  },
  "language_info": {
   "codemirror_mode": {
    "name": "ipython",
    "version": 3
   },
   "file_extension": ".py",
   "mimetype": "text/x-python",
   "name": "python",
   "nbconvert_exporter": "python",
   "pygments_lexer": "ipython3",
   "version": "3.8.8"
  }
 },
 "nbformat": 4,
 "nbformat_minor": 5
}
