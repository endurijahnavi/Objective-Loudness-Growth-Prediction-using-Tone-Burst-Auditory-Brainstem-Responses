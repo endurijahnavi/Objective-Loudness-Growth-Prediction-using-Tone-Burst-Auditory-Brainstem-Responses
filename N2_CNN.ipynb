{
 "cells": [
  {
   "cell_type": "code",
   "execution_count": 2,
   "id": "f3202c65",
   "metadata": {},
   "outputs": [
    {
     "data": {
      "text/plain": [
       "'\\nGenerating ewt data for different cycles for all levels\\n\\nN2 F1\\n\\n'"
      ]
     },
     "execution_count": 2,
     "metadata": {},
     "output_type": "execute_result"
    }
   ],
   "source": [
    "\"\"\"\n",
    "Generating ewt data for different cycles for all levels\n",
    "\n",
    "N2 F1\n",
    "\n",
    "\"\"\""
   ]
  },
  {
   "cell_type": "code",
   "execution_count": 3,
   "id": "140fbb77",
   "metadata": {},
   "outputs": [
    {
     "data": {
      "text/plain": [
       "'C:\\\\Users\\\\vinee\\\\Documents\\\\BTP'"
      ]
     },
     "execution_count": 3,
     "metadata": {},
     "output_type": "execute_result"
    }
   ],
   "source": [
    "pwd"
   ]
  },
  {
   "cell_type": "code",
   "execution_count": 5,
   "id": "e6c0ab2a",
   "metadata": {},
   "outputs": [
    {
     "name": "stdout",
     "output_type": "stream",
     "text": [
      "C:\\Users\\vinee\\Documents\\BTP\\resampled_dataset_f1_n2\n"
     ]
    }
   ],
   "source": [
    "cd resampled_dataset_f1_n2/"
   ]
  },
  {
   "cell_type": "code",
   "execution_count": 6,
   "id": "f931f076",
   "metadata": {},
   "outputs": [
    {
     "name": "stderr",
     "output_type": "stream",
     "text": [
      "C:\\Users\\vinee\\anaconda3\\lib\\site-packages\\scipy\\__init__.py:138: UserWarning: A NumPy version >=1.16.5 and <1.23.0 is required for this version of SciPy (detected version 1.23.2)\n",
      "  warnings.warn(f\"A NumPy version >={np_minversion} and <{np_maxversion} is required for this version of \"\n"
     ]
    }
   ],
   "source": [
    "import pandas as pd\n",
    "import numpy as np\n",
    "import pywt\n",
    "import matplotlib.pyplot as plt\n",
    "import os\n",
    "import glob\n",
    "import re"
   ]
  },
  {
   "cell_type": "code",
   "execution_count": 9,
   "id": "d925321d",
   "metadata": {},
   "outputs": [],
   "source": [
    "import numpy as np\n",
    "#%EWT functions\n",
    "def ewt_vineet(f,boundaries):\n",
    "    # signal spectrum\n",
    "    ff = np.fft.fft(f)\n",
    "    ff = abs(ff[0:int(np.ceil(ff.size / 2))])  # one-sided magnitude\n",
    "\n",
    "    #extend the signal by mirroring to deal with boundaries\n",
    "    ltemp = int(np.ceil(f.size/2)) #to behave the same as matlab's round\n",
    "    fMirr =  np.append(np.flip(f[0:ltemp-1],axis = 0),f)\n",
    "    fMirr = np.append(fMirr,np.flip(f[-ltemp-1:-1],axis = 0))\n",
    "    ffMirr = np.fft.fft(fMirr)\n",
    "    # build the corresponding filter bank\n",
    "    mfb = EWT_Meyer_FilterBank(boundaries, ffMirr.size)\n",
    "\n",
    "    # filter the signal to extract each subband\n",
    "    ewt = np.zeros(mfb.shape)\n",
    "    for k in range(mfb.shape[1]):\n",
    "        ewt[:, k] = np.real(np.fft.ifft(np.conjugate(mfb[:, k]) * ffMirr))\n",
    "    ewt = ewt[ltemp - 1:-ltemp, :]\n",
    "\n",
    "    return ewt\n",
    "\n",
    "\n",
    "def EWT_Meyer_FilterBank(boundaries, Nsig):\n",
    "    \"\"\"\n",
    "     =========================================================================\n",
    "     function mfb=EWT_Meyer_FilterBank(boundaries,Nsig)\n",
    "\n",
    "     This function generate the filter bank (scaling function + wavelets)\n",
    "     corresponding to the provided set of frequency segments\n",
    "\n",
    "     Input parameters:\n",
    "       -boundaries: vector containing the boundaries of frequency segments (0\n",
    "                    and pi must NOT be in this vector)\n",
    "       -Nsig: signal length\n",
    "\n",
    "     Output:\n",
    "       -mfb: cell containing each filter (in the Fourier domain), the scaling\n",
    "             function comes first and then the successive wavelets\n",
    "\n",
    "     Author: Jerome Gilles\n",
    "     Institution: UCLA - Department of Mathematics\n",
    "     Year: 2012\n",
    "     Version: 1.0\n",
    "\n",
    "     Python Version: Vinícius Rezende Carvalho - vrcarva@ufmg.br\n",
    "     Universidade Federal de Minas Gerais - Brasil\n",
    "     Núcleo de Neurociências\n",
    "     =========================================================================\n",
    "     \"\"\"\n",
    "    Npic = len(boundaries)\n",
    "    # compute gamma\n",
    "    gamma = 1\n",
    "    for k in range(Npic - 1):\n",
    "        r = (boundaries[k + 1] - boundaries[k]) / (boundaries[k + 1] + boundaries[k])\n",
    "        if r < gamma:\n",
    "            gamma = r\n",
    "    r = (np.pi - boundaries[Npic - 1]) / (np.pi + boundaries[Npic - 1])\n",
    "    if r < gamma:\n",
    "        gamma = r\n",
    "    gamma = (1 - 1 / Nsig) * gamma  # this ensure that gamma is chosen as strictly less than the min\n",
    "\n",
    "    mfb = np.zeros([Nsig, Npic + 1])\n",
    "\n",
    "    # EWT_Meyer_Scaling\n",
    "    Mi = int(np.floor(Nsig / 2))\n",
    "    w = np.fft.fftshift(np.linspace(0, 2 * np.pi - 2 * np.pi / Nsig, num=Nsig))\n",
    "    w[0:Mi] = -2 * np.pi + w[0:Mi]\n",
    "    aw = abs(w)\n",
    "    yms = np.zeros(Nsig)\n",
    "    an = 1. / (2 * gamma * boundaries[0])\n",
    "    pbn = (1. + gamma) * boundaries[0]\n",
    "    mbn = (1. - gamma) * boundaries[0]\n",
    "    for k in range(Nsig):\n",
    "        if aw[k] <= mbn:\n",
    "            yms[k] = 1\n",
    "        elif ((aw[k] >= mbn) and (aw[k] <= pbn)):\n",
    "            yms[k] = np.cos(np.pi * EWT_beta(an * (aw[k] - mbn)) / 2)\n",
    "    yms = np.fft.ifftshift(yms)\n",
    "    mfb[:, 0] = yms\n",
    "\n",
    "    # generate rest of the wavelets\n",
    "    for k in range(Npic - 1):\n",
    "        mfb[:, k + 1] = EWT_Meyer_Wavelet(boundaries[k], boundaries[k + 1], gamma, Nsig)\n",
    "\n",
    "    mfb[:, Npic] = EWT_Meyer_Wavelet(boundaries[Npic - 1], np.pi, gamma, Nsig)\n",
    "\n",
    "    return mfb\n",
    "def EWT_beta(x):\n",
    "    \"\"\"\n",
    "    Beta = EWT_beta(x)\n",
    "    function used in the construction of Meyer's wavelet\n",
    "    \"\"\"\n",
    "    if x<0:\n",
    "        bm=0\n",
    "    elif x>1:\n",
    "        bm=1\n",
    "    else:\n",
    "        bm=(x**4)*(35.-84.*x+70.*(x**2)-20.*(x**3))\n",
    "    return bm\n",
    "def EWT_Meyer_Wavelet(wn,wm,gamma,Nsig):\n",
    "    \"\"\"\n",
    "    =========================================================\n",
    "    ymw=EWT_Meyer_Wavelet(wn,wm,gamma,N)\n",
    "    \n",
    "    Generate the 1D Meyer wavelet in the Fourier\n",
    "    domain associated to scale segment [wn,wm] \n",
    "    with transition ratio gamma\n",
    "    \n",
    "    Input parameters:\n",
    "      -wn : lower boundary\n",
    "      -wm : upper boundary\n",
    "      -gamma : transition ratio\n",
    "      -N : number of point in the vector\n",
    "    \n",
    "    Output:\n",
    "      -ymw: Fourier transform of the wavelet on the band [wn,wm]\n",
    "    Author: Jerome Gilles\n",
    "    Institution: UCLA - Department of Mathematics\n",
    "    Year: 2012\n",
    "    Version: 1.0\n",
    "    \n",
    "    Python Version: Vinícius Rezende Carvalho - vrcarva@ufmg.br\n",
    "    Universidade Federal de Minas Gerais - Brasil\n",
    "    Núcleo de Neurociências \n",
    "    ==========================================================            \n",
    "    \"\"\"\n",
    "    Mi=int(np.floor(Nsig/2))\n",
    "    w=np.fft.fftshift(np.linspace(0,2*np.pi - 2*np.pi/Nsig,num = Nsig))\n",
    "    w[0:Mi]=-2*np.pi+w[0:Mi]\n",
    "    aw=abs(w)\n",
    "    ymw=np.zeros(Nsig)\n",
    "    an=1./(2*gamma*wn)\n",
    "    am=1./(2*gamma*wm)\n",
    "    pbn=(1.+gamma)*wn\n",
    "    mbn=(1.-gamma)*wn\n",
    "    pbm=(1.+gamma)*wm\n",
    "    mbm=(1.-gamma)*wm\n",
    "\n",
    "    for k in range(Nsig):\n",
    "        if ((aw[k]>=pbn) and (aw[k]<=mbm)):\n",
    "            ymw[k]=1\n",
    "        elif ((aw[k]>=mbm) and (aw[k]<=pbm)):\n",
    "            ymw[k]=np.cos(np.pi*EWT_beta(am*(aw[k]-mbm))/2)\n",
    "        elif ((aw[k]>=mbn) and (aw[k]<=pbn)):\n",
    "            ymw[k]=np.sin(np.pi*EWT_beta(an*(aw[k]-mbn))/2)\n",
    "    ymw=np.fft.ifftshift(ymw)\n",
    "    return ymw"
   ]
  },
  {
   "cell_type": "code",
   "execution_count": 10,
   "id": "95b0d3ea",
   "metadata": {},
   "outputs": [],
   "source": [
    "my_files = glob.glob('*txt')"
   ]
  },
  {
   "cell_type": "code",
   "execution_count": 11,
   "id": "2e474cdc",
   "metadata": {},
   "outputs": [
    {
     "data": {
      "text/plain": [
       "101000"
      ]
     },
     "execution_count": 11,
     "metadata": {},
     "output_type": "execute_result"
    }
   ],
   "source": [
    "len(my_files)"
   ]
  },
  {
   "cell_type": "code",
   "execution_count": 12,
   "id": "09843073",
   "metadata": {},
   "outputs": [],
   "source": [
    "input_ = np.zeros((1000,12,10,126))"
   ]
  },
  {
   "cell_type": "code",
   "execution_count": 10,
   "id": "6f37297a",
   "metadata": {},
   "outputs": [],
   "source": [
    "loudness_data_n2 = np.array([-0.767364,-0.476870,-0.193201,0.078374,0.172603,0.419829,0.500441,0.720262,0.920215,1.080807,1.295526,1.501556])\n"
   ]
  },
  {
   "cell_type": "code",
   "execution_count": 14,
   "id": "054f2e7b",
   "metadata": {},
   "outputs": [
    {
     "data": {
      "text/plain": [
       "'\\nGeneration of Dataset(F1N2) using R1 1000 cycles\\n'"
      ]
     },
     "execution_count": 14,
     "metadata": {},
     "output_type": "execute_result"
    }
   ],
   "source": [
    "\"\"\"\n",
    "Generation of Dataset(F1N2) using R1 1000 cycles\n",
    "\"\"\""
   ]
  },
  {
   "cell_type": "code",
   "execution_count": 15,
   "id": "0b912c9f",
   "metadata": {},
   "outputs": [],
   "source": [
    "x_train = []\n",
    "y_train = []"
   ]
  },
  {
   "cell_type": "code",
   "execution_count": 34,
   "id": "ba81d5de",
   "metadata": {},
   "outputs": [],
   "source": [
    "for j in range(1,1001,1):\n",
    "    idx = []\n",
    "    for i in range(len(my_files)):\n",
    "        string1 = my_files[i]\n",
    "        p = list(map(int, re.findall(r'\\d+', string1)))\n",
    "        if p[-2] == j and p[-3] == 1:\n",
    "            idx.append(i)\n",
    "    res = np.zeros((12,10,126))\n",
    "    i  = 0\n",
    "    for m in idx:\n",
    "        if my_files[m][-6:-4]=='40':\n",
    "            continue\n",
    "        file = np.loadtxt(my_files[m])\n",
    "        ewt = ewt_vineet(file,boundaries)\n",
    "        ewt = ewt.transpose()\n",
    "        res[i] = ewt\n",
    "        i+=1\n",
    "    x_train.append(res)\n",
    "    y_train.append(loudness_data_n2)"
   ]
  },
  {
   "cell_type": "code",
   "execution_count": 17,
   "id": "8029fa81",
   "metadata": {},
   "outputs": [],
   "source": [
    "boundaries = np.loadtxt('C:/users/vinee/Documents/BTP/n2_avg_r1/boundaries_n2.txt')"
   ]
  },
  {
   "cell_type": "code",
   "execution_count": 19,
   "id": "9852badb",
   "metadata": {},
   "outputs": [
    {
     "data": {
      "text/plain": [
       "[1443, 1444, 1445, 1446, 1447, 1448, 1449, 1450, 1451, 1452, 1453, 1454, 1455]"
      ]
     },
     "execution_count": 19,
     "metadata": {},
     "output_type": "execute_result"
    }
   ],
   "source": [
    "idx"
   ]
  },
  {
   "cell_type": "code",
   "execution_count": 33,
   "id": "8450a317",
   "metadata": {},
   "outputs": [
    {
     "data": {
      "text/plain": [
       "'40'"
      ]
     },
     "execution_count": 33,
     "metadata": {},
     "output_type": "execute_result"
    }
   ],
   "source": [
    "my_files[idx[1]][-6:-4]"
   ]
  },
  {
   "cell_type": "code",
   "execution_count": 35,
   "id": "639c434a",
   "metadata": {},
   "outputs": [
    {
     "data": {
      "text/plain": [
       "1000"
      ]
     },
     "execution_count": 35,
     "metadata": {},
     "output_type": "execute_result"
    }
   ],
   "source": [
    "len(x_train)"
   ]
  },
  {
   "cell_type": "code",
   "execution_count": 44,
   "id": "b02919c1",
   "metadata": {},
   "outputs": [],
   "source": [
    "x = np.array(x_train)"
   ]
  },
  {
   "cell_type": "code",
   "execution_count": 45,
   "id": "b756985c",
   "metadata": {},
   "outputs": [],
   "source": [
    "y = np.array(y_train)"
   ]
  },
  {
   "cell_type": "code",
   "execution_count": 39,
   "id": "079f1657",
   "metadata": {},
   "outputs": [
    {
     "data": {
      "text/plain": [
       "(1000, 12, 10, 126)"
      ]
     },
     "execution_count": 39,
     "metadata": {},
     "output_type": "execute_result"
    }
   ],
   "source": [
    "x.shape"
   ]
  },
  {
   "cell_type": "code",
   "execution_count": 40,
   "id": "fce67106",
   "metadata": {},
   "outputs": [
    {
     "data": {
      "text/plain": [
       "(1000, 12)"
      ]
     },
     "execution_count": 40,
     "metadata": {},
     "output_type": "execute_result"
    }
   ],
   "source": [
    "y.shape"
   ]
  },
  {
   "cell_type": "code",
   "execution_count": 41,
   "id": "f9267ccd",
   "metadata": {},
   "outputs": [],
   "source": [
    "x = list(x)"
   ]
  },
  {
   "cell_type": "code",
   "execution_count": 42,
   "id": "2af11585",
   "metadata": {},
   "outputs": [],
   "source": [
    "y = list(y)"
   ]
  },
  {
   "cell_type": "code",
   "execution_count": 46,
   "id": "ab892899",
   "metadata": {},
   "outputs": [],
   "source": [
    "np.save('C:/users/vinee/Documents/BTP/n2_avg_r1/ewt_x2_cnn_1',x)"
   ]
  },
  {
   "cell_type": "code",
   "execution_count": 47,
   "id": "20e256b8",
   "metadata": {},
   "outputs": [],
   "source": [
    "np.save('C:/users/vinee/Documents/BTP/n2_avg_r1/ewt_y2_cnn_1',y)"
   ]
  },
  {
   "cell_type": "code",
   "execution_count": 48,
   "id": "65423329",
   "metadata": {},
   "outputs": [],
   "source": [
    "for j in range(1,1001,1):\n",
    "    idx = []\n",
    "    for i in range(len(my_files)):\n",
    "        string1 = my_files[i]\n",
    "        p = list(map(int, re.findall(r'\\d+', string1)))\n",
    "        if p[-2] == j and p[-3] == 2:\n",
    "            idx.append(i)\n",
    "    res = np.zeros((12,10,126))\n",
    "    i  = 0\n",
    "    for m in idx:\n",
    "        if my_files[m][-6:-4]=='40':\n",
    "            continue\n",
    "        file = np.loadtxt(my_files[m])\n",
    "        ewt = ewt_vineet(file,boundaries)\n",
    "        ewt = ewt.transpose()\n",
    "        res[i] = ewt\n",
    "        i+=1\n",
    "    x_train.append(res)\n",
    "    y_train.append(loudness_data_n2)"
   ]
  },
  {
   "cell_type": "code",
   "execution_count": 49,
   "id": "4f25892d",
   "metadata": {},
   "outputs": [
    {
     "data": {
      "text/plain": [
       "2000"
      ]
     },
     "execution_count": 49,
     "metadata": {},
     "output_type": "execute_result"
    }
   ],
   "source": [
    "len(x_train)"
   ]
  },
  {
   "cell_type": "code",
   "execution_count": 51,
   "id": "14ec1aad",
   "metadata": {},
   "outputs": [
    {
     "data": {
      "text/plain": [
       "2000"
      ]
     },
     "execution_count": 51,
     "metadata": {},
     "output_type": "execute_result"
    }
   ],
   "source": [
    "len(y_train)"
   ]
  },
  {
   "cell_type": "code",
   "execution_count": 52,
   "id": "986260c8",
   "metadata": {},
   "outputs": [],
   "source": [
    "x = np.array(x_train)"
   ]
  },
  {
   "cell_type": "code",
   "execution_count": 53,
   "id": "a3e224f4",
   "metadata": {},
   "outputs": [],
   "source": [
    "y = np.array(y_train)"
   ]
  },
  {
   "cell_type": "code",
   "execution_count": 54,
   "id": "784cd10d",
   "metadata": {},
   "outputs": [],
   "source": [
    "np.save('C:/users/vinee/Documents/BTP/n2_avg_r1/ewt_x2_cnn_2',x)"
   ]
  },
  {
   "cell_type": "code",
   "execution_count": 55,
   "id": "b1fb4a1a",
   "metadata": {},
   "outputs": [],
   "source": [
    "np.save('C:/users/vinee/Documents/BTP/n2_avg_r1/ewt_y2_cnn_2',y)"
   ]
  },
  {
   "cell_type": "code",
   "execution_count": 56,
   "id": "9d0efd6d",
   "metadata": {},
   "outputs": [],
   "source": [
    "for j in range(1,1001,1):\n",
    "    idx = []\n",
    "    for i in range(len(my_files)):\n",
    "        string1 = my_files[i]\n",
    "        p = list(map(int, re.findall(r'\\d+', string1)))\n",
    "        if p[-2] == j and p[-3] == 3:\n",
    "            idx.append(i)\n",
    "    res = np.zeros((12,10,126))\n",
    "    i  = 0\n",
    "    for m in idx:\n",
    "        if my_files[m][-6:-4]=='40':\n",
    "            continue\n",
    "        file = np.loadtxt(my_files[m])\n",
    "        ewt = ewt_vineet(file,boundaries)\n",
    "        ewt = ewt.transpose()\n",
    "        res[i] = ewt\n",
    "        i+=1\n",
    "    x_train.append(res)\n",
    "    y_train.append(loudness_data_n2)"
   ]
  },
  {
   "cell_type": "code",
   "execution_count": 57,
   "id": "b17165b5",
   "metadata": {},
   "outputs": [
    {
     "data": {
      "text/plain": [
       "3000"
      ]
     },
     "execution_count": 57,
     "metadata": {},
     "output_type": "execute_result"
    }
   ],
   "source": [
    "len(x_train)"
   ]
  },
  {
   "cell_type": "code",
   "execution_count": 58,
   "id": "c2e8c634",
   "metadata": {},
   "outputs": [],
   "source": [
    "y = np.array(y_train)"
   ]
  },
  {
   "cell_type": "code",
   "execution_count": 62,
   "id": "6fe5399c",
   "metadata": {},
   "outputs": [],
   "source": [
    "x = np.array(x_train)"
   ]
  },
  {
   "cell_type": "code",
   "execution_count": 63,
   "id": "936c5963",
   "metadata": {},
   "outputs": [],
   "source": [
    "np.save('C:/users/vinee/Documents/BTP/n2_avg_r1/ewt_x2_cnn_3',x)"
   ]
  },
  {
   "cell_type": "code",
   "execution_count": 64,
   "id": "4af81224",
   "metadata": {},
   "outputs": [],
   "source": [
    "np.save('C:/users/vinee/Documents/BTP/n2_avg_r1/ewt_y3_cnn_3',y)"
   ]
  },
  {
   "cell_type": "code",
   "execution_count": 1,
   "id": "f238c42f",
   "metadata": {},
   "outputs": [],
   "source": [
    "# N2R4 for testing purposes"
   ]
  },
  {
   "cell_type": "code",
   "execution_count": 7,
   "id": "a34d5d02",
   "metadata": {},
   "outputs": [],
   "source": [
    "my_files = glob.glob('*txt')"
   ]
  },
  {
   "cell_type": "code",
   "execution_count": 8,
   "id": "2f85af7a",
   "metadata": {},
   "outputs": [
    {
     "data": {
      "text/plain": [
       "101000"
      ]
     },
     "execution_count": 8,
     "metadata": {},
     "output_type": "execute_result"
    }
   ],
   "source": [
    "len(my_files)"
   ]
  },
  {
   "cell_type": "code",
   "execution_count": 20,
   "id": "9979cfe8",
   "metadata": {},
   "outputs": [],
   "source": [
    "x_train = []\n",
    "y_train = []"
   ]
  },
  {
   "cell_type": "code",
   "execution_count": 12,
   "id": "88a0b9de",
   "metadata": {},
   "outputs": [],
   "source": [
    "boundaries = np.array([0.63679854007417,1.24043747184364,1.90051054875325,2.19052315291591,2.42542041587323,2.62882317400665,2.76529989452493,2.88996614389811,3.01463240497312])"
   ]
  },
  {
   "cell_type": "code",
   "execution_count": 13,
   "id": "228508a3",
   "metadata": {},
   "outputs": [],
   "source": [
    "for j in range(1,1001,1):\n",
    "    idx = []\n",
    "    for i in range(len(my_files)):\n",
    "        string1 = my_files[i]\n",
    "        p = list(map(int, re.findall(r'\\d+', string1)))\n",
    "        if p[-2] == j and p[-3] == 4 and int(p[-1])>40:\n",
    "            idx.append(i)\n",
    "    res = np.zeros((12,10,126))\n",
    "    i  = 0\n",
    "    for m in idx:\n",
    "        file = np.loadtxt(my_files[m])\n",
    "        ewt = ewt_vineet(file,boundaries)\n",
    "        ewt = ewt.transpose()\n",
    "        res[i] = ewt\n",
    "        i+=1\n",
    "    x_train.append(res)\n",
    "    y_train.append(loudness_data_n2)"
   ]
  },
  {
   "cell_type": "code",
   "execution_count": null,
   "id": "2ff5aa44",
   "metadata": {},
   "outputs": [],
   "source": [
    "for j in range(1,1001,1):\n",
    "    idx = []\n",
    "    for i in range(len(my_files)):\n",
    "        string1 = my_files[i]\n",
    "        p = list(map(int, re.findall(r'\\d+', string1)))\n",
    "        if p[-2] == j and p[-3] == 4 and int(p[-1])>40:\n",
    "            idx.append(i)\n",
    "    res = np.zeros((12,10,126))\n",
    "    i  = 0\n",
    "    for m in idx:\n",
    "        file = np.loadtxt(my_files[m])\n",
    "        ewt = ewt_vineet(file,boundaries)\n",
    "        ewt = ewt.transpose()\n",
    "        res[i] = ewt\n",
    "        i+=1\n",
    "    x_train.append(res)\n",
    "    y_train.append(loudness_data_n2)"
   ]
  },
  {
   "cell_type": "code",
   "execution_count": 22,
   "id": "dec51c1f",
   "metadata": {},
   "outputs": [],
   "source": [
    "idx = []\n",
    "for i in range(len(my_files)):\n",
    "    string1 = my_files[i]\n",
    "    p = list(map(int, re.findall(r'\\d+', string1)))\n",
    "    if p[-2] == j and p[-3] == 4 and int(p[-1])>40:\n",
    "        idx.append(i)"
   ]
  },
  {
   "cell_type": "code",
   "execution_count": 24,
   "id": "6e2751ca",
   "metadata": {},
   "outputs": [
    {
     "data": {
      "text/plain": [
       "12"
      ]
     },
     "execution_count": 24,
     "metadata": {},
     "output_type": "execute_result"
    }
   ],
   "source": [
    "len(idx)"
   ]
  },
  {
   "cell_type": "code",
   "execution_count": 14,
   "id": "68dbe214",
   "metadata": {},
   "outputs": [
    {
     "data": {
      "text/plain": [
       "1000"
      ]
     },
     "execution_count": 14,
     "metadata": {},
     "output_type": "execute_result"
    }
   ],
   "source": [
    "len(x_train)"
   ]
  },
  {
   "cell_type": "code",
   "execution_count": 15,
   "id": "49f9feca",
   "metadata": {},
   "outputs": [
    {
     "data": {
      "text/plain": [
       "1000"
      ]
     },
     "execution_count": 15,
     "metadata": {},
     "output_type": "execute_result"
    }
   ],
   "source": [
    "len(y_train)"
   ]
  },
  {
   "cell_type": "code",
   "execution_count": 16,
   "id": "9e7b2989",
   "metadata": {},
   "outputs": [],
   "source": [
    "x = np.array(x_train)\n",
    "y = np.array(y_train)"
   ]
  },
  {
   "cell_type": "code",
   "execution_count": 17,
   "id": "59848281",
   "metadata": {},
   "outputs": [
    {
     "data": {
      "text/plain": [
       "(1000, 12, 10, 126)"
      ]
     },
     "execution_count": 17,
     "metadata": {},
     "output_type": "execute_result"
    }
   ],
   "source": [
    "x.shape"
   ]
  },
  {
   "cell_type": "code",
   "execution_count": 18,
   "id": "84dfe98d",
   "metadata": {},
   "outputs": [
    {
     "data": {
      "text/plain": [
       "(1000, 12)"
      ]
     },
     "execution_count": 18,
     "metadata": {},
     "output_type": "execute_result"
    }
   ],
   "source": [
    "y.shape"
   ]
  },
  {
   "cell_type": "code",
   "execution_count": 19,
   "id": "948be109",
   "metadata": {},
   "outputs": [],
   "source": [
    "np.save('C:/Users/vinee/Documents/BTP/x_new_n2',x)\n",
    "np.save('C:/Users/vinee/Documents/BTP/y_new_n2',y)"
   ]
  },
  {
   "cell_type": "code",
   "execution_count": 21,
   "id": "03afc7a6",
   "metadata": {},
   "outputs": [
    {
     "data": {
      "text/plain": [
       "'C:\\\\Users\\\\vinee\\\\Documents\\\\BTP\\\\resampled_dataset_f1_n2'"
      ]
     },
     "execution_count": 21,
     "metadata": {},
     "output_type": "execute_result"
    }
   ],
   "source": [
    "pwd"
   ]
  },
  {
   "cell_type": "code",
   "execution_count": null,
   "id": "81c09dad",
   "metadata": {},
   "outputs": [],
   "source": []
  }
 ],
 "metadata": {
  "kernelspec": {
   "display_name": "Python 3",
   "language": "python",
   "name": "python3"
  },
  "language_info": {
   "codemirror_mode": {
    "name": "ipython",
    "version": 3
   },
   "file_extension": ".py",
   "mimetype": "text/x-python",
   "name": "python",
   "nbconvert_exporter": "python",
   "pygments_lexer": "ipython3",
   "version": "3.8.8"
  }
 },
 "nbformat": 4,
 "nbformat_minor": 5
}
